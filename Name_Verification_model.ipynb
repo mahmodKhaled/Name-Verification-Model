{
 "cells": [
  {
   "cell_type": "markdown",
   "id": "fefa6cc0",
   "metadata": {},
   "source": [
    "## Imports"
   ]
  },
  {
   "cell_type": "code",
   "execution_count": 1,
   "id": "8fb81b1e",
   "metadata": {},
   "outputs": [],
   "source": [
    "import pandas as pd \n",
    "import numpy as np\n",
    "import random"
   ]
  },
  {
   "cell_type": "markdown",
   "id": "5e144edc",
   "metadata": {},
   "source": [
    "## Load Datasets"
   ]
  },
  {
   "cell_type": "code",
   "execution_count": 2,
   "id": "7231a8aa",
   "metadata": {},
   "outputs": [],
   "source": [
    "# load arabic names\n",
    "real_arabic_names = pd.read_csv('Names web dataset/Arabic_names.csv')\n",
    "# load male names\n",
    "male = pd.read_csv('Names web dataset/mnames.txt', sep='\\n', header=None, names=['Name'])\n",
    "# load female names\n",
    "female = pd.read_csv('Names web dataset/fnames.txt', sep='\\n', header=None, names=['Name'])"
   ]
  },
  {
   "cell_type": "code",
   "execution_count": 3,
   "id": "bf771285",
   "metadata": {},
   "outputs": [
    {
     "data": {
      "text/html": [
       "<div>\n",
       "<style scoped>\n",
       "    .dataframe tbody tr th:only-of-type {\n",
       "        vertical-align: middle;\n",
       "    }\n",
       "\n",
       "    .dataframe tbody tr th {\n",
       "        vertical-align: top;\n",
       "    }\n",
       "\n",
       "    .dataframe thead th {\n",
       "        text-align: right;\n",
       "    }\n",
       "</style>\n",
       "<table border=\"1\" class=\"dataframe\">\n",
       "  <thead>\n",
       "    <tr style=\"text-align: right;\">\n",
       "      <th></th>\n",
       "      <th>Name</th>\n",
       "      <th>Gender</th>\n",
       "    </tr>\n",
       "  </thead>\n",
       "  <tbody>\n",
       "    <tr>\n",
       "      <th>0</th>\n",
       "      <td>ابتسام</td>\n",
       "      <td>F</td>\n",
       "    </tr>\n",
       "    <tr>\n",
       "      <th>1</th>\n",
       "      <td>ابتهاج</td>\n",
       "      <td>F</td>\n",
       "    </tr>\n",
       "    <tr>\n",
       "      <th>2</th>\n",
       "      <td>ابتهال</td>\n",
       "      <td>F</td>\n",
       "    </tr>\n",
       "    <tr>\n",
       "      <th>3</th>\n",
       "      <td>اجتهاد</td>\n",
       "      <td>F</td>\n",
       "    </tr>\n",
       "    <tr>\n",
       "      <th>4</th>\n",
       "      <td>ازدهار</td>\n",
       "      <td>F</td>\n",
       "    </tr>\n",
       "  </tbody>\n",
       "</table>\n",
       "</div>"
      ],
      "text/plain": [
       "     Name Gender\n",
       "0  ابتسام      F\n",
       "1  ابتهاج      F\n",
       "2  ابتهال      F\n",
       "3  اجتهاد      F\n",
       "4  ازدهار      F"
      ]
     },
     "execution_count": 3,
     "metadata": {},
     "output_type": "execute_result"
    }
   ],
   "source": [
    "# view first rows of real arabic names\n",
    "real_arabic_names.head()"
   ]
  },
  {
   "cell_type": "code",
   "execution_count": 4,
   "id": "179df16b",
   "metadata": {
    "scrolled": true
   },
   "outputs": [
    {
     "data": {
      "text/html": [
       "<div>\n",
       "<style scoped>\n",
       "    .dataframe tbody tr th:only-of-type {\n",
       "        vertical-align: middle;\n",
       "    }\n",
       "\n",
       "    .dataframe tbody tr th {\n",
       "        vertical-align: top;\n",
       "    }\n",
       "\n",
       "    .dataframe thead th {\n",
       "        text-align: right;\n",
       "    }\n",
       "</style>\n",
       "<table border=\"1\" class=\"dataframe\">\n",
       "  <thead>\n",
       "    <tr style=\"text-align: right;\">\n",
       "      <th></th>\n",
       "      <th>Name</th>\n",
       "      <th>Gender</th>\n",
       "    </tr>\n",
       "  </thead>\n",
       "  <tbody>\n",
       "    <tr>\n",
       "      <th>1400</th>\n",
       "      <td>وهبة</td>\n",
       "      <td>M</td>\n",
       "    </tr>\n",
       "    <tr>\n",
       "      <th>1401</th>\n",
       "      <td>ياسر</td>\n",
       "      <td>M</td>\n",
       "    </tr>\n",
       "    <tr>\n",
       "      <th>1402</th>\n",
       "      <td>يحيى</td>\n",
       "      <td>M</td>\n",
       "    </tr>\n",
       "    <tr>\n",
       "      <th>1403</th>\n",
       "      <td>يزيد</td>\n",
       "      <td>M</td>\n",
       "    </tr>\n",
       "    <tr>\n",
       "      <th>1404</th>\n",
       "      <td>يعقوب</td>\n",
       "      <td>M</td>\n",
       "    </tr>\n",
       "  </tbody>\n",
       "</table>\n",
       "</div>"
      ],
      "text/plain": [
       "       Name Gender\n",
       "1400   وهبة      M\n",
       "1401   ياسر      M\n",
       "1402   يحيى      M\n",
       "1403   يزيد      M\n",
       "1404  يعقوب      M"
      ]
     },
     "execution_count": 4,
     "metadata": {},
     "output_type": "execute_result"
    }
   ],
   "source": [
    "# view last 5 rows of arabic names\n",
    "real_arabic_names.tail()"
   ]
  },
  {
   "cell_type": "code",
   "execution_count": 5,
   "id": "a51fa4a9",
   "metadata": {},
   "outputs": [
    {
     "data": {
      "text/html": [
       "<div>\n",
       "<style scoped>\n",
       "    .dataframe tbody tr th:only-of-type {\n",
       "        vertical-align: middle;\n",
       "    }\n",
       "\n",
       "    .dataframe tbody tr th {\n",
       "        vertical-align: top;\n",
       "    }\n",
       "\n",
       "    .dataframe thead th {\n",
       "        text-align: right;\n",
       "    }\n",
       "</style>\n",
       "<table border=\"1\" class=\"dataframe\">\n",
       "  <thead>\n",
       "    <tr style=\"text-align: right;\">\n",
       "      <th></th>\n",
       "      <th>Name</th>\n",
       "    </tr>\n",
       "  </thead>\n",
       "  <tbody>\n",
       "    <tr>\n",
       "      <th>0</th>\n",
       "      <td>أبان</td>\n",
       "    </tr>\n",
       "    <tr>\n",
       "      <th>1</th>\n",
       "      <td>أبو بكر</td>\n",
       "    </tr>\n",
       "    <tr>\n",
       "      <th>2</th>\n",
       "      <td>أبو حمزة</td>\n",
       "    </tr>\n",
       "    <tr>\n",
       "      <th>3</th>\n",
       "      <td>أحد</td>\n",
       "    </tr>\n",
       "    <tr>\n",
       "      <th>4</th>\n",
       "      <td>أحمد</td>\n",
       "    </tr>\n",
       "  </tbody>\n",
       "</table>\n",
       "</div>"
      ],
      "text/plain": [
       "       Name\n",
       "0      أبان\n",
       "1   أبو بكر\n",
       "2  أبو حمزة\n",
       "3       أحد\n",
       "4      أحمد"
      ]
     },
     "execution_count": 5,
     "metadata": {},
     "output_type": "execute_result"
    }
   ],
   "source": [
    "# view first 5 rows of male names\n",
    "male.head()"
   ]
  },
  {
   "cell_type": "code",
   "execution_count": 6,
   "id": "e8732e57",
   "metadata": {},
   "outputs": [
    {
     "data": {
      "text/html": [
       "<div>\n",
       "<style scoped>\n",
       "    .dataframe tbody tr th:only-of-type {\n",
       "        vertical-align: middle;\n",
       "    }\n",
       "\n",
       "    .dataframe tbody tr th {\n",
       "        vertical-align: top;\n",
       "    }\n",
       "\n",
       "    .dataframe thead th {\n",
       "        text-align: right;\n",
       "    }\n",
       "</style>\n",
       "<table border=\"1\" class=\"dataframe\">\n",
       "  <thead>\n",
       "    <tr style=\"text-align: right;\">\n",
       "      <th></th>\n",
       "      <th>Name</th>\n",
       "    </tr>\n",
       "  </thead>\n",
       "  <tbody>\n",
       "    <tr>\n",
       "      <th>635</th>\n",
       "      <td>وفيق</td>\n",
       "    </tr>\n",
       "    <tr>\n",
       "      <th>636</th>\n",
       "      <td>وهاب</td>\n",
       "    </tr>\n",
       "    <tr>\n",
       "      <th>637</th>\n",
       "      <td>وهبة</td>\n",
       "    </tr>\n",
       "    <tr>\n",
       "      <th>638</th>\n",
       "      <td>ياسر</td>\n",
       "    </tr>\n",
       "    <tr>\n",
       "      <th>639</th>\n",
       "      <td>يحيى</td>\n",
       "    </tr>\n",
       "  </tbody>\n",
       "</table>\n",
       "</div>"
      ],
      "text/plain": [
       "     Name\n",
       "635  وفيق\n",
       "636  وهاب\n",
       "637  وهبة\n",
       "638  ياسر\n",
       "639  يحيى"
      ]
     },
     "execution_count": 6,
     "metadata": {},
     "output_type": "execute_result"
    }
   ],
   "source": [
    "# view last 5 rows of male names\n",
    "male.tail()"
   ]
  },
  {
   "cell_type": "code",
   "execution_count": 7,
   "id": "bed98911",
   "metadata": {},
   "outputs": [
    {
     "data": {
      "text/html": [
       "<div>\n",
       "<style scoped>\n",
       "    .dataframe tbody tr th:only-of-type {\n",
       "        vertical-align: middle;\n",
       "    }\n",
       "\n",
       "    .dataframe tbody tr th {\n",
       "        vertical-align: top;\n",
       "    }\n",
       "\n",
       "    .dataframe thead th {\n",
       "        text-align: right;\n",
       "    }\n",
       "</style>\n",
       "<table border=\"1\" class=\"dataframe\">\n",
       "  <thead>\n",
       "    <tr style=\"text-align: right;\">\n",
       "      <th></th>\n",
       "      <th>Name</th>\n",
       "    </tr>\n",
       "  </thead>\n",
       "  <tbody>\n",
       "    <tr>\n",
       "      <th>0</th>\n",
       "      <td>آيات</td>\n",
       "    </tr>\n",
       "    <tr>\n",
       "      <th>1</th>\n",
       "      <td>آلاء</td>\n",
       "    </tr>\n",
       "    <tr>\n",
       "      <th>2</th>\n",
       "      <td>آمال</td>\n",
       "    </tr>\n",
       "    <tr>\n",
       "      <th>3</th>\n",
       "      <td>آمنة</td>\n",
       "    </tr>\n",
       "    <tr>\n",
       "      <th>4</th>\n",
       "      <td>آيات</td>\n",
       "    </tr>\n",
       "  </tbody>\n",
       "</table>\n",
       "</div>"
      ],
      "text/plain": [
       "   Name\n",
       "0  آيات\n",
       "1  آلاء\n",
       "2  آمال\n",
       "3  آمنة\n",
       "4  آيات"
      ]
     },
     "execution_count": 7,
     "metadata": {},
     "output_type": "execute_result"
    }
   ],
   "source": [
    "# view first 5 rows of female names\n",
    "female.head()"
   ]
  },
  {
   "cell_type": "code",
   "execution_count": 8,
   "id": "113ed4bb",
   "metadata": {},
   "outputs": [
    {
     "data": {
      "text/html": [
       "<div>\n",
       "<style scoped>\n",
       "    .dataframe tbody tr th:only-of-type {\n",
       "        vertical-align: middle;\n",
       "    }\n",
       "\n",
       "    .dataframe tbody tr th {\n",
       "        vertical-align: top;\n",
       "    }\n",
       "\n",
       "    .dataframe thead th {\n",
       "        text-align: right;\n",
       "    }\n",
       "</style>\n",
       "<table border=\"1\" class=\"dataframe\">\n",
       "  <thead>\n",
       "    <tr style=\"text-align: right;\">\n",
       "      <th></th>\n",
       "      <th>Name</th>\n",
       "    </tr>\n",
       "  </thead>\n",
       "  <tbody>\n",
       "    <tr>\n",
       "      <th>411</th>\n",
       "      <td>وميض</td>\n",
       "    </tr>\n",
       "    <tr>\n",
       "      <th>412</th>\n",
       "      <td>وهبة</td>\n",
       "    </tr>\n",
       "    <tr>\n",
       "      <th>413</th>\n",
       "      <td>يارا</td>\n",
       "    </tr>\n",
       "    <tr>\n",
       "      <th>414</th>\n",
       "      <td>ياسمين</td>\n",
       "    </tr>\n",
       "    <tr>\n",
       "      <th>415</th>\n",
       "      <td>يسرا</td>\n",
       "    </tr>\n",
       "  </tbody>\n",
       "</table>\n",
       "</div>"
      ],
      "text/plain": [
       "       Name\n",
       "411    وميض\n",
       "412    وهبة\n",
       "413    يارا\n",
       "414  ياسمين\n",
       "415    يسرا"
      ]
     },
     "execution_count": 8,
     "metadata": {},
     "output_type": "execute_result"
    }
   ],
   "source": [
    "# view last 5 rows of female names\n",
    "female.tail()"
   ]
  },
  {
   "cell_type": "code",
   "execution_count": 9,
   "id": "583a5a06",
   "metadata": {},
   "outputs": [],
   "source": [
    "# add gender column to male and female names\n",
    "male['Gender'] = 'M'\n",
    "female['Gender'] = 'F'"
   ]
  },
  {
   "cell_type": "code",
   "execution_count": 10,
   "id": "e9ee5014",
   "metadata": {
    "scrolled": true
   },
   "outputs": [],
   "source": [
    "# merge male names with female names\n",
    "names = pd.concat([male,female])\n",
    "# merge the result with arabic names\n",
    "real_names = pd.concat([real_arabic_names,names])"
   ]
  },
  {
   "cell_type": "code",
   "execution_count": 11,
   "id": "0eee755b",
   "metadata": {},
   "outputs": [],
   "source": [
    "# add label column to the arabic names datasets that identifies that these names are real names\n",
    "real_names['Label'] = 'Real'"
   ]
  },
  {
   "cell_type": "code",
   "execution_count": 12,
   "id": "bde3a8dc",
   "metadata": {},
   "outputs": [
    {
     "data": {
      "text/plain": [
       "(2461, 3)"
      ]
     },
     "execution_count": 12,
     "metadata": {},
     "output_type": "execute_result"
    }
   ],
   "source": [
    "# shape of the result of merging all real arabic names datasets\n",
    "real_names.shape"
   ]
  },
  {
   "cell_type": "code",
   "execution_count": 13,
   "id": "a23f2495",
   "metadata": {},
   "outputs": [
    {
     "name": "stdout",
     "output_type": "stream",
     "text": [
      "Number of duplicated names are:  909\n",
      "The shape of the final arabic names is (1552, 3)\n"
     ]
    }
   ],
   "source": [
    "# check to see if there is duplicates in rows\n",
    "print('Number of duplicated names are: ', real_names['Name'].duplicated().sum())\n",
    "# create mask\n",
    "duplicated_names_mask = real_names['Name'].duplicated()\n",
    "# new arabic names dataframe without any duplicated names\n",
    "names = real_names[~ duplicated_names_mask]\n",
    "print('The shape of the final arabic names is', names.shape)"
   ]
  },
  {
   "cell_type": "code",
   "execution_count": 14,
   "id": "6820629c",
   "metadata": {
    "scrolled": true
   },
   "outputs": [
    {
     "name": "stdout",
     "output_type": "stream",
     "text": [
      "<class 'pandas.core.frame.DataFrame'>\n",
      "Int64Index: 1552 entries, 0 to 385\n",
      "Data columns (total 3 columns):\n",
      " #   Column  Non-Null Count  Dtype \n",
      "---  ------  --------------  ----- \n",
      " 0   Name    1552 non-null   object\n",
      " 1   Gender  1552 non-null   object\n",
      " 2   Label   1552 non-null   object\n",
      "dtypes: object(3)\n",
      "memory usage: 48.5+ KB\n"
     ]
    }
   ],
   "source": [
    "names.info()"
   ]
  },
  {
   "cell_type": "code",
   "execution_count": 15,
   "id": "67b450ae",
   "metadata": {},
   "outputs": [
    {
     "data": {
      "text/html": [
       "<div>\n",
       "<style scoped>\n",
       "    .dataframe tbody tr th:only-of-type {\n",
       "        vertical-align: middle;\n",
       "    }\n",
       "\n",
       "    .dataframe tbody tr th {\n",
       "        vertical-align: top;\n",
       "    }\n",
       "\n",
       "    .dataframe thead th {\n",
       "        text-align: right;\n",
       "    }\n",
       "</style>\n",
       "<table border=\"1\" class=\"dataframe\">\n",
       "  <thead>\n",
       "    <tr style=\"text-align: right;\">\n",
       "      <th></th>\n",
       "      <th>Name</th>\n",
       "      <th>Gender</th>\n",
       "      <th>Label</th>\n",
       "    </tr>\n",
       "  </thead>\n",
       "  <tbody>\n",
       "    <tr>\n",
       "      <th>count</th>\n",
       "      <td>1552</td>\n",
       "      <td>1552</td>\n",
       "      <td>1552</td>\n",
       "    </tr>\n",
       "    <tr>\n",
       "      <th>unique</th>\n",
       "      <td>1552</td>\n",
       "      <td>2</td>\n",
       "      <td>1</td>\n",
       "    </tr>\n",
       "    <tr>\n",
       "      <th>top</th>\n",
       "      <td>إيمان</td>\n",
       "      <td>M</td>\n",
       "      <td>Real</td>\n",
       "    </tr>\n",
       "    <tr>\n",
       "      <th>freq</th>\n",
       "      <td>1</td>\n",
       "      <td>929</td>\n",
       "      <td>1552</td>\n",
       "    </tr>\n",
       "  </tbody>\n",
       "</table>\n",
       "</div>"
      ],
      "text/plain": [
       "         Name Gender Label\n",
       "count    1552   1552  1552\n",
       "unique   1552      2     1\n",
       "top     إيمان      M  Real\n",
       "freq        1    929  1552"
      ]
     },
     "execution_count": 15,
     "metadata": {},
     "output_type": "execute_result"
    }
   ],
   "source": [
    "names.describe()"
   ]
  },
  {
   "cell_type": "markdown",
   "id": "6c3a007e",
   "metadata": {},
   "source": [
    "## Data generation"
   ]
  },
  {
   "cell_type": "code",
   "execution_count": 16,
   "id": "700c7ea8",
   "metadata": {},
   "outputs": [],
   "source": [
    "arabic_alphabet = ['ا', 'ب', 'ت', 'ث', 'ج', 'ح', 'خ', 'د', 'ذ', 'ر', 'ز', 'س', 'ش', 'ص', 'ض', 'ط', \n",
    "                     'ظ', 'ع', 'غ', 'ف', 'ق', 'ك', 'ل', 'م', 'ن', 'ه', 'و', 'ي', 'أ', 'ؤ', \n",
    "                     'ة', 'آ', 'ء', 'ئ', 'إ']"
   ]
  },
  {
   "cell_type": "code",
   "execution_count": 67,
   "id": "a5f1583f",
   "metadata": {},
   "outputs": [],
   "source": [
    "class DataGenerator:\n",
    "    \n",
    "    def __init__(self, alpha):\n",
    "        self.alphabet = alpha\n",
    "    \n",
    "    def generate(self, mode, num_of_words, name, gender):\n",
    "        generated_data = dict()\n",
    "        generated_names = []\n",
    "        generated_gender = []\n",
    "        generated_label = ['Fake'] * num_of_words\n",
    "        i = 0\n",
    "        while i < num_of_words:\n",
    "            random_index = random.randint(0, (len(name) - 1))\n",
    "            if mode == 'replace_char':\n",
    "                alpha_random_index = random.randint(0, (len(self.alphabet) - 1))\n",
    "                fake_name = name.replace(name[random_index], self.alphabet[alpha_random_index])\n",
    "            elif mode == 'delete_char':\n",
    "                fake_name = name.replace(name[random_index], \"\")\n",
    "            elif mode == 'add_char':\n",
    "                alpha_random_index = random.randint(0, (len(self.alphabet) - 1))\n",
    "                fake_name = name[:random_index] + self.alphabet[alpha_random_index] + name[random_index:]\n",
    "            if fake_name in generated_names:\n",
    "                continue\n",
    "            generated_names.append(fake_name)\n",
    "            generated_gender.append(gender)\n",
    "            i = i + 1\n",
    "        generated_data['Name'] = generated_names\n",
    "        generated_data['Gender'] = generated_gender\n",
    "        generated_data['Label'] = generated_label        \n",
    "        return generated_data\n",
    "    \n",
    "    def generate_full_name(self, real, fake):\n",
    "        pass"
   ]
  },
  {
   "cell_type": "code",
   "execution_count": 65,
   "id": "db43c3bd",
   "metadata": {},
   "outputs": [],
   "source": [
    "# create object of the DataGenerator class\n",
    "generator = DataGenerator(arabic_alphabet)"
   ]
  },
  {
   "cell_type": "markdown",
   "id": "edf4dd34",
   "metadata": {},
   "source": [
    "For each name in the **_Arabic Names Dataset_**, we will generate **two** fake names by deleting a random character from the original name at random position, then generate **six** fake names by adding a  wrong character to the original name at random position, and **four** fake names by replacing a random single character from the original name with another wrong random character"
   ]
  },
  {
   "cell_type": "markdown",
   "id": "be40ea07",
   "metadata": {},
   "source": [
    "**IMPORTANT NOTE**, we will not consider all possibilities of generating a fake name from an original name, as this will lead us to huge fake names maybe reach to more than **500,000!** fake name, and that will lead to **Imbalanced Dataset Problem**, So as a start it will be enough to generate **12x** fake names from the real names dataset"
   ]
  },
  {
   "cell_type": "code",
   "execution_count": 66,
   "id": "2357e6dd",
   "metadata": {},
   "outputs": [],
   "source": [
    "# generate 2 fake names by delete a char\n",
    "f_names_deleted_char = names.apply(lambda x: generator.generate(mode='delete_char', num_of_words=2, \n",
    "                                                                name=x['Name'], gender=x['Gender']), axis=1)\n",
    "# generate 4 fake names by replace a char\n",
    "f_names_replaced_char = names.apply(lambda x: generator.generate(mode='replace_char', num_of_words=4, \n",
    "                                                                name=x['Name'], gender=x['Gender']), axis=1)\n",
    "# generate 6 fake names by adding a wrong char\n",
    "f_names_adding_wrong_char = names.apply(lambda x: generator.generate(mode='add_char', num_of_words=6, \n",
    "                                                                name=x['Name'], gender=x['Gender']), axis=1)"
   ]
  },
  {
   "cell_type": "code",
   "execution_count": 68,
   "id": "c99e2876",
   "metadata": {},
   "outputs": [],
   "source": [
    "# this function is used to re-represent the output of the generator to make it one dictionary instead of a \n",
    "# dictionary for each name, to convert the dictionary to a dataframe\n",
    "def one_dict(multi_dict):\n",
    "    dic = dict()\n",
    "    name = []\n",
    "    gender = []\n",
    "    label = []\n",
    "    for row in multi_dict:\n",
    "        for names in row['Name']:\n",
    "            name.append(names)\n",
    "        for genders in row['Gender']:\n",
    "            gender.append(genders)\n",
    "        for labels in row['Label']:\n",
    "            label.append(labels)  \n",
    "    dic['Name'] = name\n",
    "    dic['Gender'] = gender\n",
    "    dic['Label'] = label\n",
    "    return dic"
   ]
  },
  {
   "cell_type": "code",
   "execution_count": 81,
   "id": "92ae1aee",
   "metadata": {},
   "outputs": [],
   "source": [
    "# convert the output of the generator to one dictionary containing all names\n",
    "deleted_char_dict = one_dict(f_names_deleted_char)\n",
    "replaced_char_dict = one_dict(f_names_replaced_char)\n",
    "added_char_dcit = one_dict(f_names_adding_wrong_char)\n",
    "# convert the dictionaries into dataframe form\n",
    "deleted_char_df = pd.DataFrame.from_dict(deleted_char_dict)\n",
    "replaced_char_df = pd.DataFrame.from_dict(replaced_char_dict)\n",
    "added_char_df = pd.DataFrame.from_dict(added_char_dcit)\n",
    "# concatenate the 3 dataframe to form the Fake Names Dataset\n",
    "fake_names = pd.concat([added_char_df, replaced_char_df, deleted_char_df],ignore_index=True)"
   ]
  },
  {
   "cell_type": "code",
   "execution_count": 85,
   "id": "d538522a",
   "metadata": {},
   "outputs": [
    {
     "data": {
      "text/html": [
       "<div>\n",
       "<style scoped>\n",
       "    .dataframe tbody tr th:only-of-type {\n",
       "        vertical-align: middle;\n",
       "    }\n",
       "\n",
       "    .dataframe tbody tr th {\n",
       "        vertical-align: top;\n",
       "    }\n",
       "\n",
       "    .dataframe thead th {\n",
       "        text-align: right;\n",
       "    }\n",
       "</style>\n",
       "<table border=\"1\" class=\"dataframe\">\n",
       "  <thead>\n",
       "    <tr style=\"text-align: right;\">\n",
       "      <th></th>\n",
       "      <th>Name</th>\n",
       "      <th>Gender</th>\n",
       "      <th>Label</th>\n",
       "    </tr>\n",
       "  </thead>\n",
       "  <tbody>\n",
       "    <tr>\n",
       "      <th>0</th>\n",
       "      <td>ابتسازم</td>\n",
       "      <td>F</td>\n",
       "      <td>Fake</td>\n",
       "    </tr>\n",
       "    <tr>\n",
       "      <th>1</th>\n",
       "      <td>ابتسارم</td>\n",
       "      <td>F</td>\n",
       "      <td>Fake</td>\n",
       "    </tr>\n",
       "    <tr>\n",
       "      <th>2</th>\n",
       "      <td>آابتسام</td>\n",
       "      <td>F</td>\n",
       "      <td>Fake</td>\n",
       "    </tr>\n",
       "    <tr>\n",
       "      <th>3</th>\n",
       "      <td>ابتسزام</td>\n",
       "      <td>F</td>\n",
       "      <td>Fake</td>\n",
       "    </tr>\n",
       "    <tr>\n",
       "      <th>4</th>\n",
       "      <td>ابتساجم</td>\n",
       "      <td>F</td>\n",
       "      <td>Fake</td>\n",
       "    </tr>\n",
       "  </tbody>\n",
       "</table>\n",
       "</div>"
      ],
      "text/plain": [
       "      Name Gender Label\n",
       "0  ابتسازم      F  Fake\n",
       "1  ابتسارم      F  Fake\n",
       "2  آابتسام      F  Fake\n",
       "3  ابتسزام      F  Fake\n",
       "4  ابتساجم      F  Fake"
      ]
     },
     "execution_count": 85,
     "metadata": {},
     "output_type": "execute_result"
    }
   ],
   "source": [
    "# view first 5 rows of fake names\n",
    "fake_names.head()"
   ]
  },
  {
   "cell_type": "code",
   "execution_count": 86,
   "id": "6d24268a",
   "metadata": {},
   "outputs": [
    {
     "data": {
      "text/html": [
       "<div>\n",
       "<style scoped>\n",
       "    .dataframe tbody tr th:only-of-type {\n",
       "        vertical-align: middle;\n",
       "    }\n",
       "\n",
       "    .dataframe tbody tr th {\n",
       "        vertical-align: top;\n",
       "    }\n",
       "\n",
       "    .dataframe thead th {\n",
       "        text-align: right;\n",
       "    }\n",
       "</style>\n",
       "<table border=\"1\" class=\"dataframe\">\n",
       "  <thead>\n",
       "    <tr style=\"text-align: right;\">\n",
       "      <th></th>\n",
       "      <th>Name</th>\n",
       "      <th>Gender</th>\n",
       "      <th>Label</th>\n",
       "    </tr>\n",
       "  </thead>\n",
       "  <tbody>\n",
       "    <tr>\n",
       "      <th>18619</th>\n",
       "      <td>منحة</td>\n",
       "      <td>F</td>\n",
       "      <td>Fake</td>\n",
       "    </tr>\n",
       "    <tr>\n",
       "      <th>18620</th>\n",
       "      <td>ميا</td>\n",
       "      <td>F</td>\n",
       "      <td>Fake</td>\n",
       "    </tr>\n",
       "    <tr>\n",
       "      <th>18621</th>\n",
       "      <td>منا</td>\n",
       "      <td>F</td>\n",
       "      <td>Fake</td>\n",
       "    </tr>\n",
       "    <tr>\n",
       "      <th>18622</th>\n",
       "      <td>نصحة</td>\n",
       "      <td>F</td>\n",
       "      <td>Fake</td>\n",
       "    </tr>\n",
       "    <tr>\n",
       "      <th>18623</th>\n",
       "      <td>نصاة</td>\n",
       "      <td>F</td>\n",
       "      <td>Fake</td>\n",
       "    </tr>\n",
       "  </tbody>\n",
       "</table>\n",
       "</div>"
      ],
      "text/plain": [
       "       Name Gender Label\n",
       "18619  منحة      F  Fake\n",
       "18620   ميا      F  Fake\n",
       "18621   منا      F  Fake\n",
       "18622  نصحة      F  Fake\n",
       "18623  نصاة      F  Fake"
      ]
     },
     "execution_count": 86,
     "metadata": {},
     "output_type": "execute_result"
    }
   ],
   "source": [
    "# view last 5 rows of fake names\n",
    "fake_names.tail()"
   ]
  },
  {
   "cell_type": "code",
   "execution_count": 87,
   "id": "02c59a9d",
   "metadata": {},
   "outputs": [
    {
     "name": "stdout",
     "output_type": "stream",
     "text": [
      "<class 'pandas.core.frame.DataFrame'>\n",
      "RangeIndex: 18624 entries, 0 to 18623\n",
      "Data columns (total 3 columns):\n",
      " #   Column  Non-Null Count  Dtype \n",
      "---  ------  --------------  ----- \n",
      " 0   Name    18624 non-null  object\n",
      " 1   Gender  18624 non-null  object\n",
      " 2   Label   18624 non-null  object\n",
      "dtypes: object(3)\n",
      "memory usage: 436.6+ KB\n"
     ]
    }
   ],
   "source": [
    "fake_names.info()"
   ]
  },
  {
   "cell_type": "code",
   "execution_count": 88,
   "id": "7629b367",
   "metadata": {},
   "outputs": [
    {
     "data": {
      "text/html": [
       "<div>\n",
       "<style scoped>\n",
       "    .dataframe tbody tr th:only-of-type {\n",
       "        vertical-align: middle;\n",
       "    }\n",
       "\n",
       "    .dataframe tbody tr th {\n",
       "        vertical-align: top;\n",
       "    }\n",
       "\n",
       "    .dataframe thead th {\n",
       "        text-align: right;\n",
       "    }\n",
       "</style>\n",
       "<table border=\"1\" class=\"dataframe\">\n",
       "  <thead>\n",
       "    <tr style=\"text-align: right;\">\n",
       "      <th></th>\n",
       "      <th>Name</th>\n",
       "      <th>Gender</th>\n",
       "      <th>Label</th>\n",
       "    </tr>\n",
       "  </thead>\n",
       "  <tbody>\n",
       "    <tr>\n",
       "      <th>count</th>\n",
       "      <td>18624</td>\n",
       "      <td>18624</td>\n",
       "      <td>18624</td>\n",
       "    </tr>\n",
       "    <tr>\n",
       "      <th>unique</th>\n",
       "      <td>17844</td>\n",
       "      <td>2</td>\n",
       "      <td>1</td>\n",
       "    </tr>\n",
       "    <tr>\n",
       "      <th>top</th>\n",
       "      <td>مير</td>\n",
       "      <td>M</td>\n",
       "      <td>Fake</td>\n",
       "    </tr>\n",
       "    <tr>\n",
       "      <th>freq</th>\n",
       "      <td>8</td>\n",
       "      <td>11148</td>\n",
       "      <td>18624</td>\n",
       "    </tr>\n",
       "  </tbody>\n",
       "</table>\n",
       "</div>"
      ],
      "text/plain": [
       "         Name Gender  Label\n",
       "count   18624  18624  18624\n",
       "unique  17844      2      1\n",
       "top       مير      M   Fake\n",
       "freq        8  11148  18624"
      ]
     },
     "execution_count": 88,
     "metadata": {},
     "output_type": "execute_result"
    }
   ],
   "source": [
    "fake_names.describe()"
   ]
  },
  {
   "cell_type": "code",
   "execution_count": null,
   "id": "36b481a0",
   "metadata": {},
   "outputs": [],
   "source": []
  }
 ],
 "metadata": {
  "kernelspec": {
   "display_name": "Python 3",
   "language": "python",
   "name": "python3"
  },
  "language_info": {
   "codemirror_mode": {
    "name": "ipython",
    "version": 3
   },
   "file_extension": ".py",
   "mimetype": "text/x-python",
   "name": "python",
   "nbconvert_exporter": "python",
   "pygments_lexer": "ipython3",
   "version": "3.8.8"
  }
 },
 "nbformat": 4,
 "nbformat_minor": 5
}
