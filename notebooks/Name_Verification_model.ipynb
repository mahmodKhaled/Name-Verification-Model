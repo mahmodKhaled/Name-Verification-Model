{
  "cells": [
    {
      "attachments": {},
      "cell_type": "markdown",
      "id": "fefa6cc0",
      "metadata": {
        "id": "fefa6cc0"
      },
      "source": [
        "## Imports"
      ]
    },
    {
      "cell_type": "code",
      "execution_count": 52,
      "id": "8fb81b1e",
      "metadata": {
        "id": "8fb81b1e"
      },
      "outputs": [],
      "source": [
        "import pandas as pd \n",
        "import numpy as np\n",
        "import random\n",
        "import tensorflow as tf\n",
        "from sklearn.model_selection import train_test_split\n",
        "from transformers import AutoTokenizer\n",
        "from arabert.preprocess import ArabertPreprocessor\n",
        "from tensorflow.keras.layers import Dense , Embedding, GlobalAveragePooling1D\n",
        "from tensorflow.keras.models import Sequential\n",
        "from tensorflow.keras.optimizers import Adam\n",
        "from tensorflow.keras.losses import BinaryCrossentropy\n",
        "import matplotlib.pyplot as plt\n",
        "from sklearn.metrics import accuracy_score\n",
        "from tensorflow.keras.utils import pad_sequences\n",
        "from tensorflow.keras.layers import GlobalMaxPool1D\n",
        "from tensorflow.keras.layers import Dropout\n",
        "from tensorflow.keras.layers import Bidirectional\n",
        "from tensorflow.keras.layers import LSTM"
      ]
    },
    {
      "attachments": {},
      "cell_type": "markdown",
      "id": "5e144edc",
      "metadata": {
        "id": "5e144edc"
      },
      "source": [
        "## Load Datasets"
      ]
    },
    {
      "cell_type": "code",
      "execution_count": 54,
      "id": "7231a8aa",
      "metadata": {
        "id": "7231a8aa"
      },
      "outputs": [],
      "source": [
        "# load arabic names\n",
        "real_arabic_names = pd.read_csv(arabic_names_path)\n",
        "# load male names\n",
        "male = pd.read_csv(male_names_path, header=None, names=['Name'])\n",
        "# load female names\n",
        "female = pd.read_csv(female_names_path, header=None, names=['Name'])"
      ]
    },
    {
      "cell_type": "code",
      "execution_count": 55,
      "id": "bf771285",
      "metadata": {
        "colab": {
          "base_uri": "https://localhost:8080/",
          "height": 206
        },
        "id": "bf771285",
        "outputId": "f70c4b78-ecec-4500-a04b-d08e7124d556"
      },
      "outputs": [
        {
          "data": {
            "text/html": [
              "<div>\n",
              "<style scoped>\n",
              "    .dataframe tbody tr th:only-of-type {\n",
              "        vertical-align: middle;\n",
              "    }\n",
              "\n",
              "    .dataframe tbody tr th {\n",
              "        vertical-align: top;\n",
              "    }\n",
              "\n",
              "    .dataframe thead th {\n",
              "        text-align: right;\n",
              "    }\n",
              "</style>\n",
              "<table border=\"1\" class=\"dataframe\">\n",
              "  <thead>\n",
              "    <tr style=\"text-align: right;\">\n",
              "      <th></th>\n",
              "      <th>Name</th>\n",
              "      <th>Gender</th>\n",
              "    </tr>\n",
              "  </thead>\n",
              "  <tbody>\n",
              "    <tr>\n",
              "      <th>0</th>\n",
              "      <td>ابتسام</td>\n",
              "      <td>F</td>\n",
              "    </tr>\n",
              "    <tr>\n",
              "      <th>1</th>\n",
              "      <td>ابتهاج</td>\n",
              "      <td>F</td>\n",
              "    </tr>\n",
              "    <tr>\n",
              "      <th>2</th>\n",
              "      <td>ابتهال</td>\n",
              "      <td>F</td>\n",
              "    </tr>\n",
              "    <tr>\n",
              "      <th>3</th>\n",
              "      <td>اجتهاد</td>\n",
              "      <td>F</td>\n",
              "    </tr>\n",
              "    <tr>\n",
              "      <th>4</th>\n",
              "      <td>ازدهار</td>\n",
              "      <td>F</td>\n",
              "    </tr>\n",
              "  </tbody>\n",
              "</table>\n",
              "</div>"
            ],
            "text/plain": [
              "     Name Gender\n",
              "0  ابتسام      F\n",
              "1  ابتهاج      F\n",
              "2  ابتهال      F\n",
              "3  اجتهاد      F\n",
              "4  ازدهار      F"
            ]
          },
          "execution_count": 55,
          "metadata": {},
          "output_type": "execute_result"
        }
      ],
      "source": [
        "# view first rows of real arabic names\n",
        "real_arabic_names.head()"
      ]
    },
    {
      "cell_type": "code",
      "execution_count": 56,
      "id": "179df16b",
      "metadata": {
        "colab": {
          "base_uri": "https://localhost:8080/",
          "height": 206
        },
        "id": "179df16b",
        "outputId": "c27dabff-8f74-4039-fa90-7f782dda4738",
        "scrolled": true
      },
      "outputs": [
        {
          "data": {
            "text/html": [
              "<div>\n",
              "<style scoped>\n",
              "    .dataframe tbody tr th:only-of-type {\n",
              "        vertical-align: middle;\n",
              "    }\n",
              "\n",
              "    .dataframe tbody tr th {\n",
              "        vertical-align: top;\n",
              "    }\n",
              "\n",
              "    .dataframe thead th {\n",
              "        text-align: right;\n",
              "    }\n",
              "</style>\n",
              "<table border=\"1\" class=\"dataframe\">\n",
              "  <thead>\n",
              "    <tr style=\"text-align: right;\">\n",
              "      <th></th>\n",
              "      <th>Name</th>\n",
              "      <th>Gender</th>\n",
              "    </tr>\n",
              "  </thead>\n",
              "  <tbody>\n",
              "    <tr>\n",
              "      <th>1400</th>\n",
              "      <td>وهبة</td>\n",
              "      <td>M</td>\n",
              "    </tr>\n",
              "    <tr>\n",
              "      <th>1401</th>\n",
              "      <td>ياسر</td>\n",
              "      <td>M</td>\n",
              "    </tr>\n",
              "    <tr>\n",
              "      <th>1402</th>\n",
              "      <td>يحيى</td>\n",
              "      <td>M</td>\n",
              "    </tr>\n",
              "    <tr>\n",
              "      <th>1403</th>\n",
              "      <td>يزيد</td>\n",
              "      <td>M</td>\n",
              "    </tr>\n",
              "    <tr>\n",
              "      <th>1404</th>\n",
              "      <td>يعقوب</td>\n",
              "      <td>M</td>\n",
              "    </tr>\n",
              "  </tbody>\n",
              "</table>\n",
              "</div>"
            ],
            "text/plain": [
              "       Name Gender\n",
              "1400   وهبة      M\n",
              "1401   ياسر      M\n",
              "1402   يحيى      M\n",
              "1403   يزيد      M\n",
              "1404  يعقوب      M"
            ]
          },
          "execution_count": 56,
          "metadata": {},
          "output_type": "execute_result"
        }
      ],
      "source": [
        "# view last 5 rows of arabic names\n",
        "real_arabic_names.tail()"
      ]
    },
    {
      "cell_type": "code",
      "execution_count": 57,
      "id": "a51fa4a9",
      "metadata": {
        "colab": {
          "base_uri": "https://localhost:8080/",
          "height": 206
        },
        "id": "a51fa4a9",
        "outputId": "fe496f8c-f33c-4141-e6fd-e7a467f3fb01"
      },
      "outputs": [
        {
          "data": {
            "text/html": [
              "<div>\n",
              "<style scoped>\n",
              "    .dataframe tbody tr th:only-of-type {\n",
              "        vertical-align: middle;\n",
              "    }\n",
              "\n",
              "    .dataframe tbody tr th {\n",
              "        vertical-align: top;\n",
              "    }\n",
              "\n",
              "    .dataframe thead th {\n",
              "        text-align: right;\n",
              "    }\n",
              "</style>\n",
              "<table border=\"1\" class=\"dataframe\">\n",
              "  <thead>\n",
              "    <tr style=\"text-align: right;\">\n",
              "      <th></th>\n",
              "      <th>Name</th>\n",
              "    </tr>\n",
              "  </thead>\n",
              "  <tbody>\n",
              "    <tr>\n",
              "      <th>0</th>\n",
              "      <td>أبان</td>\n",
              "    </tr>\n",
              "    <tr>\n",
              "      <th>1</th>\n",
              "      <td>أبو بكر</td>\n",
              "    </tr>\n",
              "    <tr>\n",
              "      <th>2</th>\n",
              "      <td>أبو حمزة</td>\n",
              "    </tr>\n",
              "    <tr>\n",
              "      <th>3</th>\n",
              "      <td>أحد</td>\n",
              "    </tr>\n",
              "    <tr>\n",
              "      <th>4</th>\n",
              "      <td>أحمد</td>\n",
              "    </tr>\n",
              "  </tbody>\n",
              "</table>\n",
              "</div>"
            ],
            "text/plain": [
              "       Name\n",
              "0      أبان\n",
              "1   أبو بكر\n",
              "2  أبو حمزة\n",
              "3       أحد\n",
              "4      أحمد"
            ]
          },
          "execution_count": 57,
          "metadata": {},
          "output_type": "execute_result"
        }
      ],
      "source": [
        "# view first 5 rows of male names\n",
        "male.head()"
      ]
    },
    {
      "cell_type": "code",
      "execution_count": 58,
      "id": "e8732e57",
      "metadata": {
        "colab": {
          "base_uri": "https://localhost:8080/",
          "height": 206
        },
        "id": "e8732e57",
        "outputId": "f6a0d25a-ae44-415d-f90e-6cac36c57877"
      },
      "outputs": [
        {
          "data": {
            "text/html": [
              "<div>\n",
              "<style scoped>\n",
              "    .dataframe tbody tr th:only-of-type {\n",
              "        vertical-align: middle;\n",
              "    }\n",
              "\n",
              "    .dataframe tbody tr th {\n",
              "        vertical-align: top;\n",
              "    }\n",
              "\n",
              "    .dataframe thead th {\n",
              "        text-align: right;\n",
              "    }\n",
              "</style>\n",
              "<table border=\"1\" class=\"dataframe\">\n",
              "  <thead>\n",
              "    <tr style=\"text-align: right;\">\n",
              "      <th></th>\n",
              "      <th>Name</th>\n",
              "    </tr>\n",
              "  </thead>\n",
              "  <tbody>\n",
              "    <tr>\n",
              "      <th>635</th>\n",
              "      <td>وفيق</td>\n",
              "    </tr>\n",
              "    <tr>\n",
              "      <th>636</th>\n",
              "      <td>وهاب</td>\n",
              "    </tr>\n",
              "    <tr>\n",
              "      <th>637</th>\n",
              "      <td>وهبة</td>\n",
              "    </tr>\n",
              "    <tr>\n",
              "      <th>638</th>\n",
              "      <td>ياسر</td>\n",
              "    </tr>\n",
              "    <tr>\n",
              "      <th>639</th>\n",
              "      <td>يحيى</td>\n",
              "    </tr>\n",
              "  </tbody>\n",
              "</table>\n",
              "</div>"
            ],
            "text/plain": [
              "     Name\n",
              "635  وفيق\n",
              "636  وهاب\n",
              "637  وهبة\n",
              "638  ياسر\n",
              "639  يحيى"
            ]
          },
          "execution_count": 58,
          "metadata": {},
          "output_type": "execute_result"
        }
      ],
      "source": [
        "# view last 5 rows of male names\n",
        "male.tail()"
      ]
    },
    {
      "cell_type": "code",
      "execution_count": 59,
      "id": "bed98911",
      "metadata": {
        "colab": {
          "base_uri": "https://localhost:8080/",
          "height": 206
        },
        "id": "bed98911",
        "outputId": "9cba6a40-f4ae-4b85-c8f1-f58ecab11d97"
      },
      "outputs": [
        {
          "data": {
            "text/html": [
              "<div>\n",
              "<style scoped>\n",
              "    .dataframe tbody tr th:only-of-type {\n",
              "        vertical-align: middle;\n",
              "    }\n",
              "\n",
              "    .dataframe tbody tr th {\n",
              "        vertical-align: top;\n",
              "    }\n",
              "\n",
              "    .dataframe thead th {\n",
              "        text-align: right;\n",
              "    }\n",
              "</style>\n",
              "<table border=\"1\" class=\"dataframe\">\n",
              "  <thead>\n",
              "    <tr style=\"text-align: right;\">\n",
              "      <th></th>\n",
              "      <th>Name</th>\n",
              "    </tr>\n",
              "  </thead>\n",
              "  <tbody>\n",
              "    <tr>\n",
              "      <th>0</th>\n",
              "      <td>آيات</td>\n",
              "    </tr>\n",
              "    <tr>\n",
              "      <th>1</th>\n",
              "      <td>آلاء</td>\n",
              "    </tr>\n",
              "    <tr>\n",
              "      <th>2</th>\n",
              "      <td>آمال</td>\n",
              "    </tr>\n",
              "    <tr>\n",
              "      <th>3</th>\n",
              "      <td>آمنة</td>\n",
              "    </tr>\n",
              "    <tr>\n",
              "      <th>4</th>\n",
              "      <td>آيات</td>\n",
              "    </tr>\n",
              "  </tbody>\n",
              "</table>\n",
              "</div>"
            ],
            "text/plain": [
              "   Name\n",
              "0  آيات\n",
              "1  آلاء\n",
              "2  آمال\n",
              "3  آمنة\n",
              "4  آيات"
            ]
          },
          "execution_count": 59,
          "metadata": {},
          "output_type": "execute_result"
        }
      ],
      "source": [
        "# view first 5 rows of female names\n",
        "female.head()"
      ]
    },
    {
      "cell_type": "code",
      "execution_count": 60,
      "id": "113ed4bb",
      "metadata": {
        "colab": {
          "base_uri": "https://localhost:8080/",
          "height": 206
        },
        "id": "113ed4bb",
        "outputId": "4983c2c2-9f9d-40e9-e2bd-b165de4cdd36"
      },
      "outputs": [
        {
          "data": {
            "text/html": [
              "<div>\n",
              "<style scoped>\n",
              "    .dataframe tbody tr th:only-of-type {\n",
              "        vertical-align: middle;\n",
              "    }\n",
              "\n",
              "    .dataframe tbody tr th {\n",
              "        vertical-align: top;\n",
              "    }\n",
              "\n",
              "    .dataframe thead th {\n",
              "        text-align: right;\n",
              "    }\n",
              "</style>\n",
              "<table border=\"1\" class=\"dataframe\">\n",
              "  <thead>\n",
              "    <tr style=\"text-align: right;\">\n",
              "      <th></th>\n",
              "      <th>Name</th>\n",
              "    </tr>\n",
              "  </thead>\n",
              "  <tbody>\n",
              "    <tr>\n",
              "      <th>411</th>\n",
              "      <td>وميض</td>\n",
              "    </tr>\n",
              "    <tr>\n",
              "      <th>412</th>\n",
              "      <td>وهبة</td>\n",
              "    </tr>\n",
              "    <tr>\n",
              "      <th>413</th>\n",
              "      <td>يارا</td>\n",
              "    </tr>\n",
              "    <tr>\n",
              "      <th>414</th>\n",
              "      <td>ياسمين</td>\n",
              "    </tr>\n",
              "    <tr>\n",
              "      <th>415</th>\n",
              "      <td>يسرا</td>\n",
              "    </tr>\n",
              "  </tbody>\n",
              "</table>\n",
              "</div>"
            ],
            "text/plain": [
              "       Name\n",
              "411    وميض\n",
              "412    وهبة\n",
              "413    يارا\n",
              "414  ياسمين\n",
              "415    يسرا"
            ]
          },
          "execution_count": 60,
          "metadata": {},
          "output_type": "execute_result"
        }
      ],
      "source": [
        "# view last 5 rows of female names\n",
        "female.tail()"
      ]
    },
    {
      "cell_type": "code",
      "execution_count": 61,
      "id": "583a5a06",
      "metadata": {
        "id": "583a5a06"
      },
      "outputs": [],
      "source": [
        "# add gender column to male and female names\n",
        "male['Gender'] = 'M'\n",
        "female['Gender'] = 'F'"
      ]
    },
    {
      "cell_type": "code",
      "execution_count": 62,
      "id": "e9ee5014",
      "metadata": {
        "id": "e9ee5014",
        "scrolled": true
      },
      "outputs": [],
      "source": [
        "# merge male names with female names\n",
        "names = pd.concat([male,female])\n",
        "# merge the result with arabic names\n",
        "real_names = pd.concat([real_arabic_names,names])"
      ]
    },
    {
      "cell_type": "code",
      "execution_count": 63,
      "id": "0eee755b",
      "metadata": {
        "id": "0eee755b"
      },
      "outputs": [],
      "source": [
        "# add label column to the arabic names datasets that identifies that these names are real names\n",
        "real_names['Label'] = 'Real'"
      ]
    },
    {
      "cell_type": "code",
      "execution_count": 64,
      "id": "bde3a8dc",
      "metadata": {
        "colab": {
          "base_uri": "https://localhost:8080/"
        },
        "id": "bde3a8dc",
        "outputId": "e4740267-e9ad-41af-c9a9-baf74bbeef14"
      },
      "outputs": [
        {
          "data": {
            "text/plain": [
              "(2461, 3)"
            ]
          },
          "execution_count": 64,
          "metadata": {},
          "output_type": "execute_result"
        }
      ],
      "source": [
        "# shape of the result of merging all real arabic names datasets\n",
        "real_names.shape"
      ]
    },
    {
      "cell_type": "code",
      "execution_count": 66,
      "id": "a23f2495",
      "metadata": {
        "colab": {
          "base_uri": "https://localhost:8080/"
        },
        "id": "a23f2495",
        "outputId": "60a8ac08-7d98-4c15-9fda-5ec2b4369dd0"
      },
      "outputs": [
        {
          "name": "stdout",
          "output_type": "stream",
          "text": [
            "Number of duplicated names are:  909\n",
            "The shape of  real names after deleting duplicates is: (1552, 3)\n"
          ]
        }
      ],
      "source": [
        "# check and remove duplicates\n",
        "names = check_duplicates(real_names, 'real names')"
      ]
    },
    {
      "cell_type": "code",
      "execution_count": 67,
      "id": "6820629c",
      "metadata": {
        "colab": {
          "base_uri": "https://localhost:8080/"
        },
        "id": "6820629c",
        "outputId": "46b5a07f-9313-4a1d-a4f9-9a975158bfce",
        "scrolled": true
      },
      "outputs": [
        {
          "name": "stdout",
          "output_type": "stream",
          "text": [
            "<class 'pandas.core.frame.DataFrame'>\n",
            "RangeIndex: 1552 entries, 0 to 1551\n",
            "Data columns (total 3 columns):\n",
            " #   Column  Non-Null Count  Dtype \n",
            "---  ------  --------------  ----- \n",
            " 0   Name    1552 non-null   object\n",
            " 1   Gender  1552 non-null   object\n",
            " 2   Label   1552 non-null   object\n",
            "dtypes: object(3)\n",
            "memory usage: 36.5+ KB\n"
          ]
        }
      ],
      "source": [
        "names.info()"
      ]
    },
    {
      "cell_type": "code",
      "execution_count": 68,
      "id": "67b450ae",
      "metadata": {
        "colab": {
          "base_uri": "https://localhost:8080/",
          "height": 175
        },
        "id": "67b450ae",
        "outputId": "1ff6cd32-25ea-4561-914f-f9db76daaf8b"
      },
      "outputs": [
        {
          "data": {
            "text/html": [
              "<div>\n",
              "<style scoped>\n",
              "    .dataframe tbody tr th:only-of-type {\n",
              "        vertical-align: middle;\n",
              "    }\n",
              "\n",
              "    .dataframe tbody tr th {\n",
              "        vertical-align: top;\n",
              "    }\n",
              "\n",
              "    .dataframe thead th {\n",
              "        text-align: right;\n",
              "    }\n",
              "</style>\n",
              "<table border=\"1\" class=\"dataframe\">\n",
              "  <thead>\n",
              "    <tr style=\"text-align: right;\">\n",
              "      <th></th>\n",
              "      <th>Name</th>\n",
              "      <th>Gender</th>\n",
              "      <th>Label</th>\n",
              "    </tr>\n",
              "  </thead>\n",
              "  <tbody>\n",
              "    <tr>\n",
              "      <th>count</th>\n",
              "      <td>1552</td>\n",
              "      <td>1552</td>\n",
              "      <td>1552</td>\n",
              "    </tr>\n",
              "    <tr>\n",
              "      <th>unique</th>\n",
              "      <td>1552</td>\n",
              "      <td>2</td>\n",
              "      <td>1</td>\n",
              "    </tr>\n",
              "    <tr>\n",
              "      <th>top</th>\n",
              "      <td>ابتسام</td>\n",
              "      <td>M</td>\n",
              "      <td>Real</td>\n",
              "    </tr>\n",
              "    <tr>\n",
              "      <th>freq</th>\n",
              "      <td>1</td>\n",
              "      <td>929</td>\n",
              "      <td>1552</td>\n",
              "    </tr>\n",
              "  </tbody>\n",
              "</table>\n",
              "</div>"
            ],
            "text/plain": [
              "          Name Gender Label\n",
              "count     1552   1552  1552\n",
              "unique    1552      2     1\n",
              "top     ابتسام      M  Real\n",
              "freq         1    929  1552"
            ]
          },
          "execution_count": 68,
          "metadata": {},
          "output_type": "execute_result"
        }
      ],
      "source": [
        "names.describe()"
      ]
    },
    {
      "attachments": {},
      "cell_type": "markdown",
      "id": "6c3a007e",
      "metadata": {
        "id": "6c3a007e"
      },
      "source": [
        "## Data generation"
      ]
    },
    {
      "cell_type": "code",
      "execution_count": 71,
      "id": "db43c3bd",
      "metadata": {
        "id": "db43c3bd"
      },
      "outputs": [],
      "source": [
        "# create object of the DataGenerator class\n",
        "generator = DataGenerator(arabic_alphabet)"
      ]
    },
    {
      "attachments": {},
      "cell_type": "markdown",
      "id": "f9e27542",
      "metadata": {
        "id": "f9e27542"
      },
      "source": [
        "For each name in the **_Arabic Names Dataset_**, we will generate **two** fake names by deleting a random character from the original name at random position, then generate **six** fake names by adding a  wrong character to the original name at random position, and **four** fake names by replacing a random single character from the original name with another wrong random character"
      ]
    },
    {
      "attachments": {},
      "cell_type": "markdown",
      "id": "5fd65843",
      "metadata": {
        "id": "5fd65843"
      },
      "source": [
        "**IMPORTANT NOTE**, we will not consider all possibilities of generating a fake name from an original name, as this will lead us to huge fake names maybe reach to more than **1,000,000!** fake name, So as a start it will be enough to generate **12x** fake names from the real names dataset"
      ]
    },
    {
      "cell_type": "code",
      "execution_count": 72,
      "id": "708d32ab",
      "metadata": {
        "id": "708d32ab"
      },
      "outputs": [],
      "source": [
        "# generate 2 fake names by delete a char\n",
        "f_names_deleted_char = names.apply(lambda x: generator.generate(mode='delete_char', num_of_words=2, \n",
        "                                                                name=x['Name'], gender=x['Gender']), axis=1)\n",
        "# generate 4 fake names by replace a char\n",
        "f_names_replaced_char = names.apply(lambda x: generator.generate(mode='replace_char', num_of_words=4, \n",
        "                                                                name=x['Name'], gender=x['Gender']), axis=1)\n",
        "# generate 6 fake names by adding a wrong char\n",
        "f_names_adding_wrong_char = names.apply(lambda x: generator.generate(mode='add_char', num_of_words=6, \n",
        "                                                                name=x['Name'], gender=x['Gender']), axis=1)"
      ]
    },
    {
      "cell_type": "code",
      "execution_count": 74,
      "id": "081cacf7",
      "metadata": {
        "id": "081cacf7"
      },
      "outputs": [],
      "source": [
        "# convert the output of the generator to one dictionary containing all names\n",
        "deleted_char_df = one_dict(f_names_deleted_char)\n",
        "replaced_char_df = one_dict(f_names_replaced_char)\n",
        "added_char_df = one_dict(f_names_adding_wrong_char)\n",
        "# concatenate the 3 dataframe to form the Fake Names Dataset\n",
        "f_names = pd.concat([added_char_df, replaced_char_df, deleted_char_df],ignore_index=True)"
      ]
    },
    {
      "cell_type": "code",
      "execution_count": 75,
      "id": "b0909570",
      "metadata": {
        "colab": {
          "base_uri": "https://localhost:8080/",
          "height": 206
        },
        "id": "b0909570",
        "outputId": "dc2a93aa-a80f-42b5-a7ba-a91a142f141b"
      },
      "outputs": [
        {
          "data": {
            "text/html": [
              "<div>\n",
              "<style scoped>\n",
              "    .dataframe tbody tr th:only-of-type {\n",
              "        vertical-align: middle;\n",
              "    }\n",
              "\n",
              "    .dataframe tbody tr th {\n",
              "        vertical-align: top;\n",
              "    }\n",
              "\n",
              "    .dataframe thead th {\n",
              "        text-align: right;\n",
              "    }\n",
              "</style>\n",
              "<table border=\"1\" class=\"dataframe\">\n",
              "  <thead>\n",
              "    <tr style=\"text-align: right;\">\n",
              "      <th></th>\n",
              "      <th>Name</th>\n",
              "      <th>Gender</th>\n",
              "      <th>Label</th>\n",
              "    </tr>\n",
              "  </thead>\n",
              "  <tbody>\n",
              "    <tr>\n",
              "      <th>0</th>\n",
              "      <td>ابتساحم</td>\n",
              "      <td>F</td>\n",
              "      <td>Fake</td>\n",
              "    </tr>\n",
              "    <tr>\n",
              "      <th>1</th>\n",
              "      <td>ابتساةم</td>\n",
              "      <td>F</td>\n",
              "      <td>Fake</td>\n",
              "    </tr>\n",
              "    <tr>\n",
              "      <th>2</th>\n",
              "      <td>خابتسام</td>\n",
              "      <td>F</td>\n",
              "      <td>Fake</td>\n",
              "    </tr>\n",
              "    <tr>\n",
              "      <th>3</th>\n",
              "      <td>ابتغسام</td>\n",
              "      <td>F</td>\n",
              "      <td>Fake</td>\n",
              "    </tr>\n",
              "    <tr>\n",
              "      <th>4</th>\n",
              "      <td>ابتتسام</td>\n",
              "      <td>F</td>\n",
              "      <td>Fake</td>\n",
              "    </tr>\n",
              "  </tbody>\n",
              "</table>\n",
              "</div>"
            ],
            "text/plain": [
              "      Name Gender Label\n",
              "0  ابتساحم      F  Fake\n",
              "1  ابتساةم      F  Fake\n",
              "2  خابتسام      F  Fake\n",
              "3  ابتغسام      F  Fake\n",
              "4  ابتتسام      F  Fake"
            ]
          },
          "execution_count": 75,
          "metadata": {},
          "output_type": "execute_result"
        }
      ],
      "source": [
        "# view first 5 rows of fake names\n",
        "f_names.head()"
      ]
    },
    {
      "cell_type": "code",
      "execution_count": 76,
      "id": "e4ec470f",
      "metadata": {
        "colab": {
          "base_uri": "https://localhost:8080/",
          "height": 206
        },
        "id": "e4ec470f",
        "outputId": "34f6321e-10b8-48f7-a9f6-6b1aa1823326"
      },
      "outputs": [
        {
          "data": {
            "text/html": [
              "<div>\n",
              "<style scoped>\n",
              "    .dataframe tbody tr th:only-of-type {\n",
              "        vertical-align: middle;\n",
              "    }\n",
              "\n",
              "    .dataframe tbody tr th {\n",
              "        vertical-align: top;\n",
              "    }\n",
              "\n",
              "    .dataframe thead th {\n",
              "        text-align: right;\n",
              "    }\n",
              "</style>\n",
              "<table border=\"1\" class=\"dataframe\">\n",
              "  <thead>\n",
              "    <tr style=\"text-align: right;\">\n",
              "      <th></th>\n",
              "      <th>Name</th>\n",
              "      <th>Gender</th>\n",
              "      <th>Label</th>\n",
              "    </tr>\n",
              "  </thead>\n",
              "  <tbody>\n",
              "    <tr>\n",
              "      <th>18619</th>\n",
              "      <td>مناة</td>\n",
              "      <td>F</td>\n",
              "      <td>Fake</td>\n",
              "    </tr>\n",
              "    <tr>\n",
              "      <th>18620</th>\n",
              "      <td>مين</td>\n",
              "      <td>F</td>\n",
              "      <td>Fake</td>\n",
              "    </tr>\n",
              "    <tr>\n",
              "      <th>18621</th>\n",
              "      <td>ميا</td>\n",
              "      <td>F</td>\n",
              "      <td>Fake</td>\n",
              "    </tr>\n",
              "    <tr>\n",
              "      <th>18622</th>\n",
              "      <td>نصاح</td>\n",
              "      <td>F</td>\n",
              "      <td>Fake</td>\n",
              "    </tr>\n",
              "    <tr>\n",
              "      <th>18623</th>\n",
              "      <td>نصحة</td>\n",
              "      <td>F</td>\n",
              "      <td>Fake</td>\n",
              "    </tr>\n",
              "  </tbody>\n",
              "</table>\n",
              "</div>"
            ],
            "text/plain": [
              "       Name Gender Label\n",
              "18619  مناة      F  Fake\n",
              "18620   مين      F  Fake\n",
              "18621   ميا      F  Fake\n",
              "18622  نصاح      F  Fake\n",
              "18623  نصحة      F  Fake"
            ]
          },
          "execution_count": 76,
          "metadata": {},
          "output_type": "execute_result"
        }
      ],
      "source": [
        "# view last 5 rows of fake names\n",
        "f_names.tail()"
      ]
    },
    {
      "cell_type": "code",
      "execution_count": 77,
      "id": "cEHBwa1D8M_p",
      "metadata": {
        "colab": {
          "base_uri": "https://localhost:8080/"
        },
        "id": "cEHBwa1D8M_p",
        "outputId": "dff87a4e-1aa2-452d-e318-2919b2e09b3c"
      },
      "outputs": [
        {
          "data": {
            "text/plain": [
              "(18624, 3)"
            ]
          },
          "execution_count": 77,
          "metadata": {},
          "output_type": "execute_result"
        }
      ],
      "source": [
        "f_names.shape"
      ]
    },
    {
      "cell_type": "code",
      "execution_count": 78,
      "id": "d7501184",
      "metadata": {
        "colab": {
          "base_uri": "https://localhost:8080/"
        },
        "id": "d7501184",
        "outputId": "d1523265-e55b-4f15-8bac-8b3033f2555a"
      },
      "outputs": [
        {
          "name": "stdout",
          "output_type": "stream",
          "text": [
            "<class 'pandas.core.frame.DataFrame'>\n",
            "RangeIndex: 18624 entries, 0 to 18623\n",
            "Data columns (total 3 columns):\n",
            " #   Column  Non-Null Count  Dtype \n",
            "---  ------  --------------  ----- \n",
            " 0   Name    18624 non-null  object\n",
            " 1   Gender  18624 non-null  object\n",
            " 2   Label   18624 non-null  object\n",
            "dtypes: object(3)\n",
            "memory usage: 436.6+ KB\n"
          ]
        }
      ],
      "source": [
        "f_names.info()"
      ]
    },
    {
      "cell_type": "code",
      "execution_count": 79,
      "id": "3ddfd8ad",
      "metadata": {
        "colab": {
          "base_uri": "https://localhost:8080/",
          "height": 175
        },
        "id": "3ddfd8ad",
        "outputId": "ae98735c-b8e6-4edc-fff5-1f97136f25c0",
        "scrolled": true
      },
      "outputs": [
        {
          "data": {
            "text/html": [
              "<div>\n",
              "<style scoped>\n",
              "    .dataframe tbody tr th:only-of-type {\n",
              "        vertical-align: middle;\n",
              "    }\n",
              "\n",
              "    .dataframe tbody tr th {\n",
              "        vertical-align: top;\n",
              "    }\n",
              "\n",
              "    .dataframe thead th {\n",
              "        text-align: right;\n",
              "    }\n",
              "</style>\n",
              "<table border=\"1\" class=\"dataframe\">\n",
              "  <thead>\n",
              "    <tr style=\"text-align: right;\">\n",
              "      <th></th>\n",
              "      <th>Name</th>\n",
              "      <th>Gender</th>\n",
              "      <th>Label</th>\n",
              "    </tr>\n",
              "  </thead>\n",
              "  <tbody>\n",
              "    <tr>\n",
              "      <th>count</th>\n",
              "      <td>18624</td>\n",
              "      <td>18624</td>\n",
              "      <td>18624</td>\n",
              "    </tr>\n",
              "    <tr>\n",
              "      <th>unique</th>\n",
              "      <td>17842</td>\n",
              "      <td>2</td>\n",
              "      <td>1</td>\n",
              "    </tr>\n",
              "    <tr>\n",
              "      <th>top</th>\n",
              "      <td>عد</td>\n",
              "      <td>M</td>\n",
              "      <td>Fake</td>\n",
              "    </tr>\n",
              "    <tr>\n",
              "      <th>freq</th>\n",
              "      <td>7</td>\n",
              "      <td>11148</td>\n",
              "      <td>18624</td>\n",
              "    </tr>\n",
              "  </tbody>\n",
              "</table>\n",
              "</div>"
            ],
            "text/plain": [
              "         Name Gender  Label\n",
              "count   18624  18624  18624\n",
              "unique  17842      2      1\n",
              "top        عد      M   Fake\n",
              "freq        7  11148  18624"
            ]
          },
          "execution_count": 79,
          "metadata": {},
          "output_type": "execute_result"
        }
      ],
      "source": [
        "f_names.describe()"
      ]
    },
    {
      "cell_type": "code",
      "execution_count": 80,
      "id": "0W01ROCb8uum",
      "metadata": {
        "colab": {
          "base_uri": "https://localhost:8080/"
        },
        "id": "0W01ROCb8uum",
        "outputId": "f3603a1d-70f1-42c7-cc79-da32f051b964"
      },
      "outputs": [
        {
          "name": "stdout",
          "output_type": "stream",
          "text": [
            "Number of duplicated names are:  782\n",
            "The shape of  fake names after deleting duplicates is: (17842, 3)\n"
          ]
        }
      ],
      "source": [
        "# check and remove duplicates\n",
        "f_names2 = check_duplicates(f_names, 'fake names')"
      ]
    },
    {
      "cell_type": "code",
      "execution_count": 81,
      "id": "ZTk2zDN6805W",
      "metadata": {
        "colab": {
          "base_uri": "https://localhost:8080/"
        },
        "id": "ZTk2zDN6805W",
        "outputId": "f79fc9f1-c5a0-42b1-9cbd-c160ccd27c82"
      },
      "outputs": [
        {
          "name": "stdout",
          "output_type": "stream",
          "text": [
            "Number of fake names that exist in real arabic names 1\n"
          ]
        }
      ],
      "source": [
        "# check to see if there is a fake name exist in real names\n",
        "# False indicates that this name will be deleted from the fake names dataset\n",
        "# True indicates that this name will remain exist in the fake names dataset\n",
        "fake_real_mask = [False if name in names['Name'] else True for name in f_names2['Name']]\n",
        "print('Number of fake names that exist in real arabic names', len([fake_real_mask == False]))\n",
        "fake_names = f_names2[fake_real_mask]"
      ]
    },
    {
      "attachments": {},
      "cell_type": "markdown",
      "id": "n5BmS9vT3Pge",
      "metadata": {
        "id": "n5BmS9vT3Pge"
      },
      "source": [
        "We have our real arabic names dataset and generated fake names dataset from our real arabic names, We will now create a **Full Name Dataset** consists of 3 names separated by space"
      ]
    },
    {
      "attachments": {},
      "cell_type": "markdown",
      "id": "weduRM963_tG",
      "metadata": {
        "id": "weduRM963_tG"
      },
      "source": [
        "We will create **Two Datasets**:\n",
        "1. The first is full names with real arabic names, by generating **random 324 name** for each name in the real arabic names dataset\n",
        "2. the second is full names with fake arabic names, by generating **random 30 name** for each name in the fake arabic names dataset\n",
        "\n",
        "There is a difference in number of names in each dataset and that is because the dataframe of real names is smaller than by **12X** from the dataframe that contains fake names, so above numbers will give us balanced dataset of full names with equal number of examples for each class (Correct and Incorrect)\n",
        "\n",
        "And if we choose to generate same number of names in the two dataset this will lead to **Imbalanced Dataset Problem**, and a memory problem may occur, so above numbers are enough"
      ]
    },
    {
      "cell_type": "code",
      "execution_count": 82,
      "id": "c8f9b9fc",
      "metadata": {
        "id": "c8f9b9fc"
      },
      "outputs": [],
      "source": [
        "# full names with real arabic names\n",
        "full_names_real = generator.generate_full_name(mode='Real', data=names,num_of_names=324)\n",
        "# full names with fake arabic names\n",
        "full_names_fake = generator.generate_full_name(mode='Fake', data=fake_names,num_of_names=30)"
      ]
    },
    {
      "cell_type": "code",
      "execution_count": 83,
      "id": "GjRM7Mv3jh2C",
      "metadata": {
        "id": "GjRM7Mv3jh2C"
      },
      "outputs": [],
      "source": [
        "# combine the two dataset together into one\n",
        "full_names = pd.concat([full_names_real,full_names_fake])\n",
        "# shuffle the data\n",
        "full_names = full_names.sample(frac=1)\n",
        "# reset index\n",
        "full_names = full_names.reset_index(drop=True)"
      ]
    },
    {
      "cell_type": "code",
      "execution_count": 84,
      "id": "CNVYF5m7wyjT",
      "metadata": {
        "colab": {
          "base_uri": "https://localhost:8080/",
          "height": 206
        },
        "id": "CNVYF5m7wyjT",
        "outputId": "27c766ae-0dca-4425-837a-5a7350c0679c"
      },
      "outputs": [
        {
          "data": {
            "text/html": [
              "<div>\n",
              "<style scoped>\n",
              "    .dataframe tbody tr th:only-of-type {\n",
              "        vertical-align: middle;\n",
              "    }\n",
              "\n",
              "    .dataframe tbody tr th {\n",
              "        vertical-align: top;\n",
              "    }\n",
              "\n",
              "    .dataframe thead th {\n",
              "        text-align: right;\n",
              "    }\n",
              "</style>\n",
              "<table border=\"1\" class=\"dataframe\">\n",
              "  <thead>\n",
              "    <tr style=\"text-align: right;\">\n",
              "      <th></th>\n",
              "      <th>Name</th>\n",
              "      <th>Gender</th>\n",
              "      <th>Label</th>\n",
              "    </tr>\n",
              "  </thead>\n",
              "  <tbody>\n",
              "    <tr>\n",
              "      <th>0</th>\n",
              "      <td>دهيم معاوية نذير</td>\n",
              "      <td>M</td>\n",
              "      <td>Correct</td>\n",
              "    </tr>\n",
              "    <tr>\n",
              "      <th>1</th>\n",
              "      <td>أحنف منصف عبدالحق</td>\n",
              "      <td>M</td>\n",
              "      <td>Correct</td>\n",
              "    </tr>\n",
              "    <tr>\n",
              "      <th>2</th>\n",
              "      <td>انشراح نادر عوني</td>\n",
              "      <td>F</td>\n",
              "      <td>Correct</td>\n",
              "    </tr>\n",
              "    <tr>\n",
              "      <th>3</th>\n",
              "      <td>شفيق نزيه ريبال</td>\n",
              "      <td>M</td>\n",
              "      <td>Correct</td>\n",
              "    </tr>\n",
              "    <tr>\n",
              "      <th>4</th>\n",
              "      <td>عفالح بجيعر قردر</td>\n",
              "      <td>M</td>\n",
              "      <td>Incorrect</td>\n",
              "    </tr>\n",
              "  </tbody>\n",
              "</table>\n",
              "</div>"
            ],
            "text/plain": [
              "                Name Gender      Label\n",
              "0   دهيم معاوية نذير      M    Correct\n",
              "1  أحنف منصف عبدالحق      M    Correct\n",
              "2   انشراح نادر عوني      F    Correct\n",
              "3    شفيق نزيه ريبال      M    Correct\n",
              "4   عفالح بجيعر قردر      M  Incorrect"
            ]
          },
          "execution_count": 84,
          "metadata": {},
          "output_type": "execute_result"
        }
      ],
      "source": [
        "# view first 5 rows of the full_names dataset\n",
        "full_names.head()"
      ]
    },
    {
      "cell_type": "code",
      "execution_count": 85,
      "id": "EnNQ7wLfAk_J",
      "metadata": {
        "colab": {
          "base_uri": "https://localhost:8080/",
          "height": 206
        },
        "id": "EnNQ7wLfAk_J",
        "outputId": "799af331-8f72-4aef-d08f-16e60f1892c0"
      },
      "outputs": [
        {
          "data": {
            "text/html": [
              "<div>\n",
              "<style scoped>\n",
              "    .dataframe tbody tr th:only-of-type {\n",
              "        vertical-align: middle;\n",
              "    }\n",
              "\n",
              "    .dataframe tbody tr th {\n",
              "        vertical-align: top;\n",
              "    }\n",
              "\n",
              "    .dataframe thead th {\n",
              "        text-align: right;\n",
              "    }\n",
              "</style>\n",
              "<table border=\"1\" class=\"dataframe\">\n",
              "  <thead>\n",
              "    <tr style=\"text-align: right;\">\n",
              "      <th></th>\n",
              "      <th>Name</th>\n",
              "      <th>Gender</th>\n",
              "      <th>Label</th>\n",
              "    </tr>\n",
              "  </thead>\n",
              "  <tbody>\n",
              "    <tr>\n",
              "      <th>1038103</th>\n",
              "      <td>البراء أشجع كارم</td>\n",
              "      <td>M</td>\n",
              "      <td>Correct</td>\n",
              "    </tr>\n",
              "    <tr>\n",
              "      <th>1038104</th>\n",
              "      <td>ريناد نايف عزب</td>\n",
              "      <td>F</td>\n",
              "      <td>Correct</td>\n",
              "    </tr>\n",
              "    <tr>\n",
              "      <th>1038105</th>\n",
              "      <td>كفصى علعيم أهرم</td>\n",
              "      <td>F</td>\n",
              "      <td>Incorrect</td>\n",
              "    </tr>\n",
              "    <tr>\n",
              "      <th>1038106</th>\n",
              "      <td>ذكاسر منهدل مطاضع</td>\n",
              "      <td>M</td>\n",
              "      <td>Incorrect</td>\n",
              "    </tr>\n",
              "    <tr>\n",
              "      <th>1038107</th>\n",
              "      <td>إجلال إمام جندل</td>\n",
              "      <td>F</td>\n",
              "      <td>Correct</td>\n",
              "    </tr>\n",
              "  </tbody>\n",
              "</table>\n",
              "</div>"
            ],
            "text/plain": [
              "                      Name Gender      Label\n",
              "1038103   البراء أشجع كارم      M    Correct\n",
              "1038104     ريناد نايف عزب      F    Correct\n",
              "1038105    كفصى علعيم أهرم      F  Incorrect\n",
              "1038106  ذكاسر منهدل مطاضع      M  Incorrect\n",
              "1038107    إجلال إمام جندل      F    Correct"
            ]
          },
          "execution_count": 85,
          "metadata": {},
          "output_type": "execute_result"
        }
      ],
      "source": [
        "# view last 5 rows of the full_names dataset\n",
        "full_names.tail()"
      ]
    },
    {
      "cell_type": "code",
      "execution_count": 86,
      "id": "yK-HI0VWA4Ly",
      "metadata": {
        "colab": {
          "base_uri": "https://localhost:8080/"
        },
        "id": "yK-HI0VWA4Ly",
        "outputId": "7bd2e019-ae07-4e1f-878b-c88521bfc8d5"
      },
      "outputs": [
        {
          "data": {
            "text/plain": [
              "(1038108, 3)"
            ]
          },
          "execution_count": 86,
          "metadata": {},
          "output_type": "execute_result"
        }
      ],
      "source": [
        "full_names.shape"
      ]
    },
    {
      "cell_type": "code",
      "execution_count": 87,
      "id": "-Su3W7_4BA-s",
      "metadata": {
        "colab": {
          "base_uri": "https://localhost:8080/"
        },
        "id": "-Su3W7_4BA-s",
        "outputId": "3976b364-b2a5-48d3-c5ff-082be3de3dec"
      },
      "outputs": [
        {
          "name": "stdout",
          "output_type": "stream",
          "text": [
            "<class 'pandas.core.frame.DataFrame'>\n",
            "RangeIndex: 1038108 entries, 0 to 1038107\n",
            "Data columns (total 3 columns):\n",
            " #   Column  Non-Null Count    Dtype \n",
            "---  ------  --------------    ----- \n",
            " 0   Name    1038108 non-null  object\n",
            " 1   Gender  1038108 non-null  object\n",
            " 2   Label   1038108 non-null  object\n",
            "dtypes: object(3)\n",
            "memory usage: 23.8+ MB\n"
          ]
        }
      ],
      "source": [
        "full_names.info()"
      ]
    },
    {
      "cell_type": "code",
      "execution_count": 88,
      "id": "LCjzfsanBCra",
      "metadata": {
        "colab": {
          "base_uri": "https://localhost:8080/",
          "height": 175
        },
        "id": "LCjzfsanBCra",
        "outputId": "af618d53-1ae0-4f35-cd92-07fd91513c3a"
      },
      "outputs": [
        {
          "data": {
            "text/html": [
              "<div>\n",
              "<style scoped>\n",
              "    .dataframe tbody tr th:only-of-type {\n",
              "        vertical-align: middle;\n",
              "    }\n",
              "\n",
              "    .dataframe tbody tr th {\n",
              "        vertical-align: top;\n",
              "    }\n",
              "\n",
              "    .dataframe thead th {\n",
              "        text-align: right;\n",
              "    }\n",
              "</style>\n",
              "<table border=\"1\" class=\"dataframe\">\n",
              "  <thead>\n",
              "    <tr style=\"text-align: right;\">\n",
              "      <th></th>\n",
              "      <th>Name</th>\n",
              "      <th>Gender</th>\n",
              "      <th>Label</th>\n",
              "    </tr>\n",
              "  </thead>\n",
              "  <tbody>\n",
              "    <tr>\n",
              "      <th>count</th>\n",
              "      <td>1038108</td>\n",
              "      <td>1038108</td>\n",
              "      <td>1038108</td>\n",
              "    </tr>\n",
              "    <tr>\n",
              "      <th>unique</th>\n",
              "      <td>1038000</td>\n",
              "      <td>2</td>\n",
              "      <td>2</td>\n",
              "    </tr>\n",
              "    <tr>\n",
              "      <th>top</th>\n",
              "      <td>عدوان متمم عروة</td>\n",
              "      <td>M</td>\n",
              "      <td>Incorrect</td>\n",
              "    </tr>\n",
              "    <tr>\n",
              "      <th>freq</th>\n",
              "      <td>2</td>\n",
              "      <td>618036</td>\n",
              "      <td>535260</td>\n",
              "    </tr>\n",
              "  </tbody>\n",
              "</table>\n",
              "</div>"
            ],
            "text/plain": [
              "                   Name   Gender      Label\n",
              "count           1038108  1038108    1038108\n",
              "unique          1038000        2          2\n",
              "top     عدوان متمم عروة        M  Incorrect\n",
              "freq                  2   618036     535260"
            ]
          },
          "execution_count": 88,
          "metadata": {},
          "output_type": "execute_result"
        }
      ],
      "source": [
        "full_names.describe()"
      ]
    },
    {
      "cell_type": "code",
      "execution_count": 89,
      "id": "GrTyAL8sBEbd",
      "metadata": {
        "colab": {
          "base_uri": "https://localhost:8080/"
        },
        "id": "GrTyAL8sBEbd",
        "outputId": "63072bed-026b-446f-d334-4b78a74d0db6"
      },
      "outputs": [
        {
          "name": "stdout",
          "output_type": "stream",
          "text": [
            "Number of duplicated names are:  108\n",
            "The shape of  full names after deleting duplicates is: (1038000, 3)\n"
          ]
        }
      ],
      "source": [
        "# check and remove duplicates\n",
        "full_names = check_duplicates(full_names, 'full names')"
      ]
    },
    {
      "attachments": {},
      "cell_type": "markdown",
      "id": "Q7mSlpeqmpEU",
      "metadata": {
        "id": "Q7mSlpeqmpEU"
      },
      "source": [
        "## Core Model"
      ]
    },
    {
      "attachments": {},
      "cell_type": "markdown",
      "id": "uDuJv2h5y-dw",
      "metadata": {
        "id": "uDuJv2h5y-dw"
      },
      "source": [
        "We will use the **Tokenizer** of **AraBERT** to convert our full names into tokens after that ids that represent each word to make data ready for my own Deep Learning Model"
      ]
    },
    {
      "cell_type": "code",
      "execution_count": 90,
      "id": "ghKI4PGjpMmw",
      "metadata": {
        "colab": {
          "base_uri": "https://localhost:8080/",
          "height": 177,
          "referenced_widgets": [
            "e70aad31a02e485aa074a1214ac237c7",
            "addae954b81a480ebd552c8f16cdc512",
            "27f51b1eaf894d098ed2fae9c3e363c5",
            "a5de708b59044efdb3b1d256bff2ce47",
            "f1f9c4bc6d9146019ae866e2ba393180",
            "2b245ae5407c4479b23174c2ce9edcab",
            "af7f170315fd42dc919dc0fb09f809df",
            "67275cd4a5164a26be212bd1c324c094",
            "c4fb12e9434e41828c8da5eb59d828ba",
            "a57a260cf17b4d339d19a53267065b7d",
            "f79e2575b2424a3e823aaf277ab9c3a2",
            "c139424bd7af4cbf854eeb20c0f04c5e",
            "7b52ffe556f64c5f8dca5c0900a13640",
            "ecd7b48726744e15af16005554733935",
            "46694812528749aea734e1dcfd3af496",
            "6941923a09094bafbe06de6cb5c331d9",
            "e9303496f6e443baa0143917d5ff7459",
            "2402f26c59a24cb38842765492f1c0a2",
            "7393ae7bb17a4bd3b8c358f691e4881e",
            "3aeded20c46246b5bef901ab0fd83806",
            "863f580d25c243f5819cdef71ded8211",
            "0be9c81ad677454fafe3c9b4934ac0e1",
            "4f0cfff42af54d99b0efbe0bf806a197",
            "a0cbb6826b6d46a1b834aec854ee50c6",
            "30f8eaf0e3184c748956f246292e39b5",
            "e35dcb41effc4261a57cda7f7c2a0255",
            "1b001fc901e84f27a18ad3041af1f0ac",
            "b45727dfd5d440ceadd8f6c3a21d09d6",
            "c44ffabe8bda4423b548b5eaa6c5bb0f",
            "c79d25d7a21948b4ab5fc325f38a58e6",
            "b51c82aacfc3496fa125ff93bfc9b507",
            "fa241d0751f249c7b4ad0c6ef40feeca",
            "dd1c911321d146e3be28e600ad4bd187",
            "00f2716e281b4c72a2147aee077819ca",
            "eacdae1f78484773a9a71a32c509d2b2",
            "2c135bea00a14b5688cdf63879890658",
            "94d350726ca9469c8724258b9ef16cb8",
            "fac60ce4d6334bdab8bf78a323a77e5d",
            "2bc1d96fbd154d32924fd0e7ad74791f",
            "9bdaab86613946499cdfabbede31b61c",
            "7a6d764e48604f45a269963cf5b53973",
            "7a5277a41e6242d99a76909d0e96efad",
            "2784529ae1564e198976091d7ebbb51e",
            "61d548d67fa241ac9908be59a3c47cf6",
            "aa0642bac6b64031b26207d148483a0f",
            "7e12e84d07904d2d934ed48454ac720e",
            "fecb664abf184e80b18362a0c15112ca",
            "a08a66d8088e4c739312c48633485d91",
            "eec5f9efc6114d02a62baf9cfdadc023",
            "b94a0e54313c401db39af019aacc94d2",
            "a2907ac56bf249d28b1483ea689a29d6",
            "a3efc9050afb470b81cd2f7f6d265f94",
            "e29c6e0978ea481dbf0ec6e382fcbed6",
            "bcadb66c6bae4fd792ac4e40eb31357c",
            "2519bf7b6dfa4e9da3b25605808beacd"
          ]
        },
        "id": "ghKI4PGjpMmw",
        "outputId": "6b2262ad-df1f-413d-a4e0-1a669f249e5d"
      },
      "outputs": [],
      "source": [
        "# load the tokenizer and preprocessor\n",
        "model_name = 'aubmindlab/bert-base-arabertv02'\n",
        "tokenizer =  AutoTokenizer.from_pretrained(model_name)\n",
        "preprocessor = ArabertPreprocessor(model_name=model_name)"
      ]
    },
    {
      "attachments": {},
      "cell_type": "markdown",
      "id": "EfCLqHFVqF9E",
      "metadata": {
        "id": "EfCLqHFVqF9E"
      },
      "source": [
        "Prepare the data for the **Model**"
      ]
    },
    {
      "cell_type": "code",
      "execution_count": 91,
      "id": "OqKmK8tYBn4j",
      "metadata": {
        "id": "OqKmK8tYBn4j"
      },
      "outputs": [],
      "source": [
        "# drop the gender column as it wouldn't be useful anymore\n",
        "full_names = full_names.drop(columns=['Gender'])\n",
        "# divide data into x that represents features and y that represent target\n",
        "X = full_names.drop(columns=['Label'])\n",
        "y = full_names[['Label']]\n",
        "# divide the data into train and test\n",
        "X_train, X_test, y_train, y_test = train_test_split(X, y, test_size=0.15, random_state=42)"
      ]
    },
    {
      "cell_type": "code",
      "execution_count": 92,
      "id": "thUrxgrSZ-aa",
      "metadata": {
        "id": "thUrxgrSZ-aa"
      },
      "outputs": [],
      "source": [
        "# reset index for all data\n",
        "X_train = X_train.reset_index(drop=True)\n",
        "y_train = y_train.reset_index(drop=True)\n",
        "X_test = X_test.reset_index(drop=True)\n",
        "y_test = y_test.reset_index(drop=True)"
      ]
    },
    {
      "attachments": {},
      "cell_type": "markdown",
      "id": "r3jU7gTzxJsx",
      "metadata": {
        "id": "r3jU7gTzxJsx"
      },
      "source": [
        "This method apply all transofrmation and preprocessing for the names data, as it converts it to **Tokens** and convert tokens into **IDs** and **Encodes** the labels of the data by converting them to **One Hot Encoding** return to us the data ready to be fed into my own Deep Learning Model"
      ]
    },
    {
      "cell_type": "code",
      "execution_count": 94,
      "id": "GZPoKRq1N_AV",
      "metadata": {
        "id": "GZPoKRq1N_AV"
      },
      "outputs": [],
      "source": [
        "# transofrm X_train and y_train data\n",
        "X_train , y_train = transform_data(X_train,y_train)\n",
        "# transform X_test and y_test data\n",
        "X_test , y_test = transform_data(X_test,y_test)"
      ]
    },
    {
      "attachments": {},
      "cell_type": "markdown",
      "id": "uTmgtGeJ2cF6",
      "metadata": {
        "id": "uTmgtGeJ2cF6"
      },
      "source": [
        "Define my own **Model Architecture**"
      ]
    },
    {
      "cell_type": "code",
      "execution_count": 95,
      "id": "dydAE2coF46L",
      "metadata": {
        "id": "dydAE2coF46L"
      },
      "outputs": [],
      "source": [
        "# hyperparameters\n",
        "VOCAB_SIZE = 10000\n",
        "MAX_LEN = 50\n",
        "EMBEDDING_DIM = 16\n",
        "HIDDEN_SIZE = 32\n",
        "NUM_CLASSES = 2\n",
        "BATCH_SIZE = 512\n",
        "EPOCHS = 35\n",
        "LSTM_SIZE = 16\n",
        "VAL_SLPIT = 0.15\n",
        "OPTIMIZER = Adam()\n",
        "LOSS = BinaryCrossentropy()\n",
        "METRICS = ['accuracy']"
      ]
    },
    {
      "cell_type": "code",
      "execution_count": 97,
      "id": "EofZMm8wzvpO",
      "metadata": {
        "colab": {
          "base_uri": "https://localhost:8080/"
        },
        "id": "EofZMm8wzvpO",
        "outputId": "d100e6ee-7c31-4580-8d4c-11da6d10d754"
      },
      "outputs": [
        {
          "name": "stdout",
          "output_type": "stream",
          "text": [
            "Model: \"sequential_1\"\n",
            "_________________________________________________________________\n",
            " Layer (type)                Output Shape              Param #   \n",
            "=================================================================\n",
            " embedding_1 (Embedding)     (None, 50, 16)            160000    \n",
            "                                                                 \n",
            " bidirectional_1 (Bidirectio  (None, 50, 32)           4224      \n",
            " nal)                                                            \n",
            "                                                                 \n",
            " global_max_pooling1d_1 (Glo  (None, 32)               0         \n",
            " balMaxPooling1D)                                                \n",
            "                                                                 \n",
            " dense_2 (Dense)             (None, 32)                1056      \n",
            "                                                                 \n",
            " dropout_1 (Dropout)         (None, 32)                0         \n",
            "                                                                 \n",
            " dense_3 (Dense)             (None, 2)                 66        \n",
            "                                                                 \n",
            "=================================================================\n",
            "Total params: 165,346\n",
            "Trainable params: 165,346\n",
            "Non-trainable params: 0\n",
            "_________________________________________________________________\n"
          ]
        }
      ],
      "source": [
        "model = create_model()\n",
        "model.summary()"
      ]
    },
    {
      "cell_type": "code",
      "execution_count": 98,
      "id": "e0V8wgrn4jI-",
      "metadata": {
        "colab": {
          "base_uri": "https://localhost:8080/"
        },
        "id": "e0V8wgrn4jI-",
        "outputId": "a633bb24-c5a3-4275-fea9-df6505465ff8"
      },
      "outputs": [
        {
          "name": "stdout",
          "output_type": "stream",
          "text": [
            "Epoch 1/35\n",
            "1465/1465 [==============================] - 122s 81ms/step - loss: 0.5131 - accuracy: 0.7508 - val_loss: 0.4659 - val_accuracy: 0.7800\n",
            "Epoch 2/35\n",
            "1465/1465 [==============================] - 119s 81ms/step - loss: 0.4514 - accuracy: 0.7975 - val_loss: 0.4171 - val_accuracy: 0.8090\n",
            "Epoch 3/35\n",
            "1465/1465 [==============================] - 114s 78ms/step - loss: 0.3937 - accuracy: 0.8301 - val_loss: 0.3640 - val_accuracy: 0.8368\n",
            "Epoch 4/35\n",
            "1465/1465 [==============================] - 116s 79ms/step - loss: 0.3471 - accuracy: 0.8536 - val_loss: 0.3150 - val_accuracy: 0.8659\n",
            "Epoch 5/35\n",
            "1465/1465 [==============================] - 133s 91ms/step - loss: 0.3108 - accuracy: 0.8723 - val_loss: 0.2902 - val_accuracy: 0.8782\n",
            "Epoch 6/35\n",
            "1465/1465 [==============================] - 141s 96ms/step - loss: 0.2863 - accuracy: 0.8845 - val_loss: 0.2674 - val_accuracy: 0.8896\n",
            "Epoch 7/35\n",
            "1465/1465 [==============================] - 143s 97ms/step - loss: 0.2669 - accuracy: 0.8943 - val_loss: 0.2458 - val_accuracy: 0.9006\n",
            "Epoch 8/35\n",
            "1465/1465 [==============================] - 135s 92ms/step - loss: 0.2558 - accuracy: 0.8995 - val_loss: 0.2396 - val_accuracy: 0.9042\n",
            "Epoch 9/35\n",
            "1465/1465 [==============================] - 135s 92ms/step - loss: 0.2372 - accuracy: 0.9081 - val_loss: 0.2199 - val_accuracy: 0.9132\n",
            "Epoch 10/35\n",
            "1465/1465 [==============================] - 134s 92ms/step - loss: 0.2237 - accuracy: 0.9143 - val_loss: 0.2089 - val_accuracy: 0.9176\n",
            "Epoch 11/35\n",
            "1465/1465 [==============================] - 134s 91ms/step - loss: 0.2116 - accuracy: 0.9198 - val_loss: 0.2009 - val_accuracy: 0.9216\n",
            "Epoch 12/35\n",
            "1465/1465 [==============================] - 135s 92ms/step - loss: 0.2009 - accuracy: 0.9243 - val_loss: 0.1944 - val_accuracy: 0.9253\n",
            "Epoch 13/35\n",
            "1465/1465 [==============================] - 133s 90ms/step - loss: 0.1902 - accuracy: 0.9291 - val_loss: 0.1772 - val_accuracy: 0.9325\n",
            "Epoch 14/35\n",
            "1465/1465 [==============================] - 134s 92ms/step - loss: 0.1804 - accuracy: 0.9329 - val_loss: 0.1686 - val_accuracy: 0.9366\n",
            "Epoch 15/35\n",
            "1465/1465 [==============================] - 141s 96ms/step - loss: 0.1724 - accuracy: 0.9366 - val_loss: 0.1618 - val_accuracy: 0.9379\n",
            "Epoch 16/35\n",
            "1465/1465 [==============================] - 144s 98ms/step - loss: 0.1640 - accuracy: 0.9403 - val_loss: 0.1508 - val_accuracy: 0.9444\n",
            "Epoch 17/35\n",
            "1465/1465 [==============================] - 147s 100ms/step - loss: 0.1562 - accuracy: 0.9436 - val_loss: 0.1449 - val_accuracy: 0.9461\n",
            "Epoch 18/35\n",
            "1465/1465 [==============================] - 148s 101ms/step - loss: 0.1500 - accuracy: 0.9462 - val_loss: 0.1417 - val_accuracy: 0.9483\n",
            "Epoch 19/35\n",
            "1465/1465 [==============================] - 148s 101ms/step - loss: 0.1439 - accuracy: 0.9490 - val_loss: 0.1326 - val_accuracy: 0.9523\n",
            "Epoch 20/35\n",
            "1465/1465 [==============================] - 153s 104ms/step - loss: 0.1389 - accuracy: 0.9510 - val_loss: 0.1310 - val_accuracy: 0.9524\n",
            "Epoch 21/35\n",
            "1465/1465 [==============================] - 155s 106ms/step - loss: 0.1346 - accuracy: 0.9527 - val_loss: 0.1252 - val_accuracy: 0.9553\n",
            "Epoch 22/35\n",
            "1465/1465 [==============================] - 156s 107ms/step - loss: 0.1299 - accuracy: 0.9547 - val_loss: 0.1210 - val_accuracy: 0.9571\n",
            "Epoch 23/35\n",
            "1465/1465 [==============================] - 162s 111ms/step - loss: 0.1255 - accuracy: 0.9566 - val_loss: 0.1180 - val_accuracy: 0.9578\n",
            "Epoch 24/35\n",
            "1465/1465 [==============================] - 142s 97ms/step - loss: 0.1233 - accuracy: 0.9573 - val_loss: 0.1158 - val_accuracy: 0.9596\n",
            "Epoch 25/35\n",
            "1465/1465 [==============================] - 139s 95ms/step - loss: 0.1195 - accuracy: 0.9589 - val_loss: 0.1133 - val_accuracy: 0.9602\n",
            "Epoch 26/35\n",
            "1465/1465 [==============================] - 148s 101ms/step - loss: 0.1168 - accuracy: 0.9598 - val_loss: 0.1112 - val_accuracy: 0.9609\n",
            "Epoch 27/35\n",
            "1465/1465 [==============================] - 163s 111ms/step - loss: 0.1135 - accuracy: 0.9613 - val_loss: 0.1090 - val_accuracy: 0.9619\n",
            "Epoch 28/35\n",
            "1465/1465 [==============================] - 197s 135ms/step - loss: 0.1109 - accuracy: 0.9623 - val_loss: 0.1142 - val_accuracy: 0.9594\n",
            "Epoch 29/35\n",
            "1465/1465 [==============================] - 200s 137ms/step - loss: 0.1084 - accuracy: 0.9631 - val_loss: 0.1117 - val_accuracy: 0.9607\n",
            "Epoch 30/35\n",
            "1465/1465 [==============================] - 205s 140ms/step - loss: 0.1067 - accuracy: 0.9638 - val_loss: 0.1028 - val_accuracy: 0.9640\n",
            "Epoch 31/35\n",
            "1465/1465 [==============================] - 202s 138ms/step - loss: 0.1042 - accuracy: 0.9648 - val_loss: 0.0987 - val_accuracy: 0.9660\n",
            "Epoch 32/35\n",
            "1465/1465 [==============================] - 205s 140ms/step - loss: 0.1018 - accuracy: 0.9656 - val_loss: 0.1060 - val_accuracy: 0.9612\n",
            "Epoch 33/35\n",
            "1465/1465 [==============================] - 210s 143ms/step - loss: 0.1003 - accuracy: 0.9662 - val_loss: 0.0982 - val_accuracy: 0.9662\n",
            "Epoch 34/35\n",
            "1465/1465 [==============================] - 208s 142ms/step - loss: 0.0984 - accuracy: 0.9671 - val_loss: 0.0936 - val_accuracy: 0.9680\n",
            "Epoch 35/35\n",
            "1465/1465 [==============================] - 209s 143ms/step - loss: 0.0964 - accuracy: 0.9677 - val_loss: 0.0989 - val_accuracy: 0.9645\n"
          ]
        }
      ],
      "source": [
        "# Training...\n",
        "history = model.fit(x= X_train,y= y_train, batch_size= BATCH_SIZE, epochs = EPOCHS, validation_split= VAL_SLPIT)"
      ]
    },
    {
      "cell_type": "code",
      "execution_count": 100,
      "id": "A_XgDP_dIFAJ",
      "metadata": {
        "colab": {
          "base_uri": "https://localhost:8080/",
          "height": 404
        },
        "id": "A_XgDP_dIFAJ",
        "outputId": "356a2064-3530-4ff6-83d1-e2d4e036ca2b"
      },
      "outputs": [
        {
          "data": {
            "image/png": "[encoded data removed]",
            "text/plain": [
              "<Figure size 1400x600 with 2 Axes>"
            ]
          },
          "metadata": {},
          "output_type": "display_data"
        }
      ],
      "source": [
        "plot_curves(history)"
      ]
    },
    {
      "attachments": {},
      "cell_type": "markdown",
      "id": "dFtLl3Z0LQpa",
      "metadata": {
        "id": "dFtLl3Z0LQpa"
      },
      "source": [
        "Perform predictions and calculate the **accuarcy** on the Test Data to determine the performance of the model"
      ]
    },
    {
      "cell_type": "code",
      "execution_count": 102,
      "id": "NB92AOMfJybc",
      "metadata": {
        "colab": {
          "base_uri": "https://localhost:8080/"
        },
        "id": "NB92AOMfJybc",
        "outputId": "cc606169-54a2-4e6b-adac-a9f883069def"
      },
      "outputs": [
        {
          "name": "stdout",
          "output_type": "stream",
          "text": [
            "4866/4866 [==============================] - 30s 6ms/step\n",
            "The accuracy of the model on Test Data is: 0.9656840077071291\n"
          ]
        }
      ],
      "source": [
        "y_pred = predictions(model, X_test)\n",
        "# convert predictions to dataframe\n",
        "y_pred = pd.DataFrame(y_pred, columns=['Correct','Incorrect'])\n",
        "accuracy = accuracy_score(y_test, y_pred)\n",
        "print('The accuracy of the model on Test Data is:', accuracy)"
      ]
    },
    {
      "attachments": {},
      "cell_type": "markdown",
      "id": "nuXzQKqzOe4u",
      "metadata": {
        "id": "nuXzQKqzOe4u"
      },
      "source": [
        "Saving the weights of the Model "
      ]
    },
    {
      "cell_type": "code",
      "execution_count": 103,
      "id": "5AOi-VrcL5bt",
      "metadata": {
        "id": "5AOi-VrcL5bt"
      },
      "outputs": [],
      "source": [
        "saved_model_name = 'name_verification_model.h5'\n",
        "model.save_weights(saved_model_name,save_format='h5')"
      ]
    }
  ],
  "metadata": {
    "accelerator": "GPU",
    "colab": {
      "provenance": [],
      "toc_visible": true
    },
    "gpuClass": "standard",
    "kernelspec": {
      "display_name": "Python 3",
      "language": "python",
      "name": "python3"
    },
    "language_info": {
      "codemirror_mode": {
        "name": "ipython",
        "version": 3
      },
      "file_extension": ".py",
      "mimetype": "text/x-python",
      "name": "python",
      "nbconvert_exporter": "python",
      "pygments_lexer": "ipython3",
      "version": "3.8.16"
    },
    "widgets": {
      "application/vnd.jupyter.widget-state+json": {
        "00f2716e281b4c72a2147aee077819ca": {
          "model_module": "@jupyter-widgets/controls",
          "model_module_version": "1.5.0",
          "model_name": "HBoxModel",
          "state": {
            "_dom_classes": [],
            "_model_module": "@jupyter-widgets/controls",
            "_model_module_version": "1.5.0",
            "_model_name": "HBoxModel",
            "_view_count": null,
            "_view_module": "@jupyter-widgets/controls",
            "_view_module_version": "1.5.0",
            "_view_name": "HBoxView",
            "box_style": "",
            "children": [
              "IPY_MODEL_eacdae1f78484773a9a71a32c509d2b2",
              "IPY_MODEL_2c135bea00a14b5688cdf63879890658",
              "IPY_MODEL_94d350726ca9469c8724258b9ef16cb8"
            ],
            "layout": "IPY_MODEL_fac60ce4d6334bdab8bf78a323a77e5d"
          }
        },
        "0be9c81ad677454fafe3c9b4934ac0e1": {
          "model_module": "@jupyter-widgets/controls",
          "model_module_version": "1.5.0",
          "model_name": "DescriptionStyleModel",
          "state": {
            "_model_module": "@jupyter-widgets/controls",
            "_model_module_version": "1.5.0",
            "_model_name": "DescriptionStyleModel",
            "_view_count": null,
            "_view_module": "@jupyter-widgets/base",
            "_view_module_version": "1.2.0",
            "_view_name": "StyleView",
            "description_width": ""
          }
        },
        "1b001fc901e84f27a18ad3041af1f0ac": {
          "model_module": "@jupyter-widgets/base",
          "model_module_version": "1.2.0",
          "model_name": "LayoutModel",
          "state": {
            "_model_module": "@jupyter-widgets/base",
            "_model_module_version": "1.2.0",
            "_model_name": "LayoutModel",
            "_view_count": null,
            "_view_module": "@jupyter-widgets/base",
            "_view_module_version": "1.2.0",
            "_view_name": "LayoutView",
            "align_content": null,
            "align_items": null,
            "align_self": null,
            "border": null,
            "bottom": null,
            "display": null,
            "flex": null,
            "flex_flow": null,
            "grid_area": null,
            "grid_auto_columns": null,
            "grid_auto_flow": null,
            "grid_auto_rows": null,
            "grid_column": null,
            "grid_gap": null,
            "grid_row": null,
            "grid_template_areas": null,
            "grid_template_columns": null,
            "grid_template_rows": null,
            "height": null,
            "justify_content": null,
            "justify_items": null,
            "left": null,
            "margin": null,
            "max_height": null,
            "max_width": null,
            "min_height": null,
            "min_width": null,
            "object_fit": null,
            "object_position": null,
            "order": null,
            "overflow": null,
            "overflow_x": null,
            "overflow_y": null,
            "padding": null,
            "right": null,
            "top": null,
            "visibility": null,
            "width": null
          }
        },
        "2402f26c59a24cb38842765492f1c0a2": {
          "model_module": "@jupyter-widgets/controls",
          "model_module_version": "1.5.0",
          "model_name": "DescriptionStyleModel",
          "state": {
            "_model_module": "@jupyter-widgets/controls",
            "_model_module_version": "1.5.0",
            "_model_name": "DescriptionStyleModel",
            "_view_count": null,
            "_view_module": "@jupyter-widgets/base",
            "_view_module_version": "1.2.0",
            "_view_name": "StyleView",
            "description_width": ""
          }
        },
        "2519bf7b6dfa4e9da3b25605808beacd": {
          "model_module": "@jupyter-widgets/controls",
          "model_module_version": "1.5.0",
          "model_name": "DescriptionStyleModel",
          "state": {
            "_model_module": "@jupyter-widgets/controls",
            "_model_module_version": "1.5.0",
            "_model_name": "DescriptionStyleModel",
            "_view_count": null,
            "_view_module": "@jupyter-widgets/base",
            "_view_module_version": "1.2.0",
            "_view_name": "StyleView",
            "description_width": ""
          }
        },
        "2784529ae1564e198976091d7ebbb51e": {
          "model_module": "@jupyter-widgets/base",
          "model_module_version": "1.2.0",
          "model_name": "LayoutModel",
          "state": {
            "_model_module": "@jupyter-widgets/base",
            "_model_module_version": "1.2.0",
            "_model_name": "LayoutModel",
            "_view_count": null,
            "_view_module": "@jupyter-widgets/base",
            "_view_module_version": "1.2.0",
            "_view_name": "LayoutView",
            "align_content": null,
            "align_items": null,
            "align_self": null,
            "border": null,
            "bottom": null,
            "display": null,
            "flex": null,
            "flex_flow": null,
            "grid_area": null,
            "grid_auto_columns": null,
            "grid_auto_flow": null,
            "grid_auto_rows": null,
            "grid_column": null,
            "grid_gap": null,
            "grid_row": null,
            "grid_template_areas": null,
            "grid_template_columns": null,
            "grid_template_rows": null,
            "height": null,
            "justify_content": null,
            "justify_items": null,
            "left": null,
            "margin": null,
            "max_height": null,
            "max_width": null,
            "min_height": null,
            "min_width": null,
            "object_fit": null,
            "object_position": null,
            "order": null,
            "overflow": null,
            "overflow_x": null,
            "overflow_y": null,
            "padding": null,
            "right": null,
            "top": null,
            "visibility": null,
            "width": null
          }
        },
        "27f51b1eaf894d098ed2fae9c3e363c5": {
          "model_module": "@jupyter-widgets/controls",
          "model_module_version": "1.5.0",
          "model_name": "FloatProgressModel",
          "state": {
            "_dom_classes": [],
            "_model_module": "@jupyter-widgets/controls",
            "_model_module_version": "1.5.0",
            "_model_name": "FloatProgressModel",
            "_view_count": null,
            "_view_module": "@jupyter-widgets/controls",
            "_view_module_version": "1.5.0",
            "_view_name": "ProgressView",
            "bar_style": "success",
            "description": "",
            "description_tooltip": null,
            "layout": "IPY_MODEL_67275cd4a5164a26be212bd1c324c094",
            "max": 381,
            "min": 0,
            "orientation": "horizontal",
            "style": "IPY_MODEL_c4fb12e9434e41828c8da5eb59d828ba",
            "value": 381
          }
        },
        "2b245ae5407c4479b23174c2ce9edcab": {
          "model_module": "@jupyter-widgets/base",
          "model_module_version": "1.2.0",
          "model_name": "LayoutModel",
          "state": {
            "_model_module": "@jupyter-widgets/base",
            "_model_module_version": "1.2.0",
            "_model_name": "LayoutModel",
            "_view_count": null,
            "_view_module": "@jupyter-widgets/base",
            "_view_module_version": "1.2.0",
            "_view_name": "LayoutView",
            "align_content": null,
            "align_items": null,
            "align_self": null,
            "border": null,
            "bottom": null,
            "display": null,
            "flex": null,
            "flex_flow": null,
            "grid_area": null,
            "grid_auto_columns": null,
            "grid_auto_flow": null,
            "grid_auto_rows": null,
            "grid_column": null,
            "grid_gap": null,
            "grid_row": null,
            "grid_template_areas": null,
            "grid_template_columns": null,
            "grid_template_rows": null,
            "height": null,
            "justify_content": null,
            "justify_items": null,
            "left": null,
            "margin": null,
            "max_height": null,
            "max_width": null,
            "min_height": null,
            "min_width": null,
            "object_fit": null,
            "object_position": null,
            "order": null,
            "overflow": null,
            "overflow_x": null,
            "overflow_y": null,
            "padding": null,
            "right": null,
            "top": null,
            "visibility": null,
            "width": null
          }
        },
        "2bc1d96fbd154d32924fd0e7ad74791f": {
          "model_module": "@jupyter-widgets/base",
          "model_module_version": "1.2.0",
          "model_name": "LayoutModel",
          "state": {
            "_model_module": "@jupyter-widgets/base",
            "_model_module_version": "1.2.0",
            "_model_name": "LayoutModel",
            "_view_count": null,
            "_view_module": "@jupyter-widgets/base",
            "_view_module_version": "1.2.0",
            "_view_name": "LayoutView",
            "align_content": null,
            "align_items": null,
            "align_self": null,
            "border": null,
            "bottom": null,
            "display": null,
            "flex": null,
            "flex_flow": null,
            "grid_area": null,
            "grid_auto_columns": null,
            "grid_auto_flow": null,
            "grid_auto_rows": null,
            "grid_column": null,
            "grid_gap": null,
            "grid_row": null,
            "grid_template_areas": null,
            "grid_template_columns": null,
            "grid_template_rows": null,
            "height": null,
            "justify_content": null,
            "justify_items": null,
            "left": null,
            "margin": null,
            "max_height": null,
            "max_width": null,
            "min_height": null,
            "min_width": null,
            "object_fit": null,
            "object_position": null,
            "order": null,
            "overflow": null,
            "overflow_x": null,
            "overflow_y": null,
            "padding": null,
            "right": null,
            "top": null,
            "visibility": null,
            "width": null
          }
        },
        "2c135bea00a14b5688cdf63879890658": {
          "model_module": "@jupyter-widgets/controls",
          "model_module_version": "1.5.0",
          "model_name": "FloatProgressModel",
          "state": {
            "_dom_classes": [],
            "_model_module": "@jupyter-widgets/controls",
            "_model_module_version": "1.5.0",
            "_model_name": "FloatProgressModel",
            "_view_count": null,
            "_view_module": "@jupyter-widgets/controls",
            "_view_module_version": "1.5.0",
            "_view_name": "ProgressView",
            "bar_style": "success",
            "description": "",
            "description_tooltip": null,
            "layout": "IPY_MODEL_7a6d764e48604f45a269963cf5b53973",
            "max": 2642362,
            "min": 0,
            "orientation": "horizontal",
            "style": "IPY_MODEL_7a5277a41e6242d99a76909d0e96efad",
            "value": 2642362
          }
        },
        "30f8eaf0e3184c748956f246292e39b5": {
          "model_module": "@jupyter-widgets/controls",
          "model_module_version": "1.5.0",
          "model_name": "FloatProgressModel",
          "state": {
            "_dom_classes": [],
            "_model_module": "@jupyter-widgets/controls",
            "_model_module_version": "1.5.0",
            "_model_name": "FloatProgressModel",
            "_view_count": null,
            "_view_module": "@jupyter-widgets/controls",
            "_view_module_version": "1.5.0",
            "_view_name": "ProgressView",
            "bar_style": "success",
            "description": "",
            "description_tooltip": null,
            "layout": "IPY_MODEL_c79d25d7a21948b4ab5fc325f38a58e6",
            "max": 824793,
            "min": 0,
            "orientation": "horizontal",
            "style": "IPY_MODEL_b51c82aacfc3496fa125ff93bfc9b507",
            "value": 824793
          }
        },
        "3aeded20c46246b5bef901ab0fd83806": {
          "model_module": "@jupyter-widgets/controls",
          "model_module_version": "1.5.0",
          "model_name": "ProgressStyleModel",
          "state": {
            "_model_module": "@jupyter-widgets/controls",
            "_model_module_version": "1.5.0",
            "_model_name": "ProgressStyleModel",
            "_view_count": null,
            "_view_module": "@jupyter-widgets/base",
            "_view_module_version": "1.2.0",
            "_view_name": "StyleView",
            "bar_color": null,
            "description_width": ""
          }
        },
        "46694812528749aea734e1dcfd3af496": {
          "model_module": "@jupyter-widgets/controls",
          "model_module_version": "1.5.0",
          "model_name": "HTMLModel",
          "state": {
            "_dom_classes": [],
            "_model_module": "@jupyter-widgets/controls",
            "_model_module_version": "1.5.0",
            "_model_name": "HTMLModel",
            "_view_count": null,
            "_view_module": "@jupyter-widgets/controls",
            "_view_module_version": "1.5.0",
            "_view_name": "HTMLView",
            "description": "",
            "description_tooltip": null,
            "layout": "IPY_MODEL_863f580d25c243f5819cdef71ded8211",
            "placeholder": "​",
            "style": "IPY_MODEL_0be9c81ad677454fafe3c9b4934ac0e1",
            "value": " 384/384 [00:00&lt;00:00, 18.1kB/s]"
          }
        },
        "4f0cfff42af54d99b0efbe0bf806a197": {
          "model_module": "@jupyter-widgets/controls",
          "model_module_version": "1.5.0",
          "model_name": "HBoxModel",
          "state": {
            "_dom_classes": [],
            "_model_module": "@jupyter-widgets/controls",
            "_model_module_version": "1.5.0",
            "_model_name": "HBoxModel",
            "_view_count": null,
            "_view_module": "@jupyter-widgets/controls",
            "_view_module_version": "1.5.0",
            "_view_name": "HBoxView",
            "box_style": "",
            "children": [
              "IPY_MODEL_a0cbb6826b6d46a1b834aec854ee50c6",
              "IPY_MODEL_30f8eaf0e3184c748956f246292e39b5",
              "IPY_MODEL_e35dcb41effc4261a57cda7f7c2a0255"
            ],
            "layout": "IPY_MODEL_1b001fc901e84f27a18ad3041af1f0ac"
          }
        },
        "61d548d67fa241ac9908be59a3c47cf6": {
          "model_module": "@jupyter-widgets/controls",
          "model_module_version": "1.5.0",
          "model_name": "DescriptionStyleModel",
          "state": {
            "_model_module": "@jupyter-widgets/controls",
            "_model_module_version": "1.5.0",
            "_model_name": "DescriptionStyleModel",
            "_view_count": null,
            "_view_module": "@jupyter-widgets/base",
            "_view_module_version": "1.2.0",
            "_view_name": "StyleView",
            "description_width": ""
          }
        },
        "67275cd4a5164a26be212bd1c324c094": {
          "model_module": "@jupyter-widgets/base",
          "model_module_version": "1.2.0",
          "model_name": "LayoutModel",
          "state": {
            "_model_module": "@jupyter-widgets/base",
            "_model_module_version": "1.2.0",
            "_model_name": "LayoutModel",
            "_view_count": null,
            "_view_module": "@jupyter-widgets/base",
            "_view_module_version": "1.2.0",
            "_view_name": "LayoutView",
            "align_content": null,
            "align_items": null,
            "align_self": null,
            "border": null,
            "bottom": null,
            "display": null,
            "flex": null,
            "flex_flow": null,
            "grid_area": null,
            "grid_auto_columns": null,
            "grid_auto_flow": null,
            "grid_auto_rows": null,
            "grid_column": null,
            "grid_gap": null,
            "grid_row": null,
            "grid_template_areas": null,
            "grid_template_columns": null,
            "grid_template_rows": null,
            "height": null,
            "justify_content": null,
            "justify_items": null,
            "left": null,
            "margin": null,
            "max_height": null,
            "max_width": null,
            "min_height": null,
            "min_width": null,
            "object_fit": null,
            "object_position": null,
            "order": null,
            "overflow": null,
            "overflow_x": null,
            "overflow_y": null,
            "padding": null,
            "right": null,
            "top": null,
            "visibility": null,
            "width": null
          }
        },
        "6941923a09094bafbe06de6cb5c331d9": {
          "model_module": "@jupyter-widgets/base",
          "model_module_version": "1.2.0",
          "model_name": "LayoutModel",
          "state": {
            "_model_module": "@jupyter-widgets/base",
            "_model_module_version": "1.2.0",
            "_model_name": "LayoutModel",
            "_view_count": null,
            "_view_module": "@jupyter-widgets/base",
            "_view_module_version": "1.2.0",
            "_view_name": "LayoutView",
            "align_content": null,
            "align_items": null,
            "align_self": null,
            "border": null,
            "bottom": null,
            "display": null,
            "flex": null,
            "flex_flow": null,
            "grid_area": null,
            "grid_auto_columns": null,
            "grid_auto_flow": null,
            "grid_auto_rows": null,
            "grid_column": null,
            "grid_gap": null,
            "grid_row": null,
            "grid_template_areas": null,
            "grid_template_columns": null,
            "grid_template_rows": null,
            "height": null,
            "justify_content": null,
            "justify_items": null,
            "left": null,
            "margin": null,
            "max_height": null,
            "max_width": null,
            "min_height": null,
            "min_width": null,
            "object_fit": null,
            "object_position": null,
            "order": null,
            "overflow": null,
            "overflow_x": null,
            "overflow_y": null,
            "padding": null,
            "right": null,
            "top": null,
            "visibility": null,
            "width": null
          }
        },
        "7393ae7bb17a4bd3b8c358f691e4881e": {
          "model_module": "@jupyter-widgets/base",
          "model_module_version": "1.2.0",
          "model_name": "LayoutModel",
          "state": {
            "_model_module": "@jupyter-widgets/base",
            "_model_module_version": "1.2.0",
            "_model_name": "LayoutModel",
            "_view_count": null,
            "_view_module": "@jupyter-widgets/base",
            "_view_module_version": "1.2.0",
            "_view_name": "LayoutView",
            "align_content": null,
            "align_items": null,
            "align_self": null,
            "border": null,
            "bottom": null,
            "display": null,
            "flex": null,
            "flex_flow": null,
            "grid_area": null,
            "grid_auto_columns": null,
            "grid_auto_flow": null,
            "grid_auto_rows": null,
            "grid_column": null,
            "grid_gap": null,
            "grid_row": null,
            "grid_template_areas": null,
            "grid_template_columns": null,
            "grid_template_rows": null,
            "height": null,
            "justify_content": null,
            "justify_items": null,
            "left": null,
            "margin": null,
            "max_height": null,
            "max_width": null,
            "min_height": null,
            "min_width": null,
            "object_fit": null,
            "object_position": null,
            "order": null,
            "overflow": null,
            "overflow_x": null,
            "overflow_y": null,
            "padding": null,
            "right": null,
            "top": null,
            "visibility": null,
            "width": null
          }
        },
        "7a5277a41e6242d99a76909d0e96efad": {
          "model_module": "@jupyter-widgets/controls",
          "model_module_version": "1.5.0",
          "model_name": "ProgressStyleModel",
          "state": {
            "_model_module": "@jupyter-widgets/controls",
            "_model_module_version": "1.5.0",
            "_model_name": "ProgressStyleModel",
            "_view_count": null,
            "_view_module": "@jupyter-widgets/base",
            "_view_module_version": "1.2.0",
            "_view_name": "StyleView",
            "bar_color": null,
            "description_width": ""
          }
        },
        "7a6d764e48604f45a269963cf5b53973": {
          "model_module": "@jupyter-widgets/base",
          "model_module_version": "1.2.0",
          "model_name": "LayoutModel",
          "state": {
            "_model_module": "@jupyter-widgets/base",
            "_model_module_version": "1.2.0",
            "_model_name": "LayoutModel",
            "_view_count": null,
            "_view_module": "@jupyter-widgets/base",
            "_view_module_version": "1.2.0",
            "_view_name": "LayoutView",
            "align_content": null,
            "align_items": null,
            "align_self": null,
            "border": null,
            "bottom": null,
            "display": null,
            "flex": null,
            "flex_flow": null,
            "grid_area": null,
            "grid_auto_columns": null,
            "grid_auto_flow": null,
            "grid_auto_rows": null,
            "grid_column": null,
            "grid_gap": null,
            "grid_row": null,
            "grid_template_areas": null,
            "grid_template_columns": null,
            "grid_template_rows": null,
            "height": null,
            "justify_content": null,
            "justify_items": null,
            "left": null,
            "margin": null,
            "max_height": null,
            "max_width": null,
            "min_height": null,
            "min_width": null,
            "object_fit": null,
            "object_position": null,
            "order": null,
            "overflow": null,
            "overflow_x": null,
            "overflow_y": null,
            "padding": null,
            "right": null,
            "top": null,
            "visibility": null,
            "width": null
          }
        },
        "7b52ffe556f64c5f8dca5c0900a13640": {
          "model_module": "@jupyter-widgets/controls",
          "model_module_version": "1.5.0",
          "model_name": "HTMLModel",
          "state": {
            "_dom_classes": [],
            "_model_module": "@jupyter-widgets/controls",
            "_model_module_version": "1.5.0",
            "_model_name": "HTMLModel",
            "_view_count": null,
            "_view_module": "@jupyter-widgets/controls",
            "_view_module_version": "1.5.0",
            "_view_name": "HTMLView",
            "description": "",
            "description_tooltip": null,
            "layout": "IPY_MODEL_e9303496f6e443baa0143917d5ff7459",
            "placeholder": "​",
            "style": "IPY_MODEL_2402f26c59a24cb38842765492f1c0a2",
            "value": "Downloading: 100%"
          }
        },
        "7e12e84d07904d2d934ed48454ac720e": {
          "model_module": "@jupyter-widgets/controls",
          "model_module_version": "1.5.0",
          "model_name": "HTMLModel",
          "state": {
            "_dom_classes": [],
            "_model_module": "@jupyter-widgets/controls",
            "_model_module_version": "1.5.0",
            "_model_name": "HTMLModel",
            "_view_count": null,
            "_view_module": "@jupyter-widgets/controls",
            "_view_module_version": "1.5.0",
            "_view_name": "HTMLView",
            "description": "",
            "description_tooltip": null,
            "layout": "IPY_MODEL_b94a0e54313c401db39af019aacc94d2",
            "placeholder": "​",
            "style": "IPY_MODEL_a2907ac56bf249d28b1483ea689a29d6",
            "value": "Downloading: 100%"
          }
        },
        "863f580d25c243f5819cdef71ded8211": {
          "model_module": "@jupyter-widgets/base",
          "model_module_version": "1.2.0",
          "model_name": "LayoutModel",
          "state": {
            "_model_module": "@jupyter-widgets/base",
            "_model_module_version": "1.2.0",
            "_model_name": "LayoutModel",
            "_view_count": null,
            "_view_module": "@jupyter-widgets/base",
            "_view_module_version": "1.2.0",
            "_view_name": "LayoutView",
            "align_content": null,
            "align_items": null,
            "align_self": null,
            "border": null,
            "bottom": null,
            "display": null,
            "flex": null,
            "flex_flow": null,
            "grid_area": null,
            "grid_auto_columns": null,
            "grid_auto_flow": null,
            "grid_auto_rows": null,
            "grid_column": null,
            "grid_gap": null,
            "grid_row": null,
            "grid_template_areas": null,
            "grid_template_columns": null,
            "grid_template_rows": null,
            "height": null,
            "justify_content": null,
            "justify_items": null,
            "left": null,
            "margin": null,
            "max_height": null,
            "max_width": null,
            "min_height": null,
            "min_width": null,
            "object_fit": null,
            "object_position": null,
            "order": null,
            "overflow": null,
            "overflow_x": null,
            "overflow_y": null,
            "padding": null,
            "right": null,
            "top": null,
            "visibility": null,
            "width": null
          }
        },
        "94d350726ca9469c8724258b9ef16cb8": {
          "model_module": "@jupyter-widgets/controls",
          "model_module_version": "1.5.0",
          "model_name": "HTMLModel",
          "state": {
            "_dom_classes": [],
            "_model_module": "@jupyter-widgets/controls",
            "_model_module_version": "1.5.0",
            "_model_name": "HTMLModel",
            "_view_count": null,
            "_view_module": "@jupyter-widgets/controls",
            "_view_module_version": "1.5.0",
            "_view_name": "HTMLView",
            "description": "",
            "description_tooltip": null,
            "layout": "IPY_MODEL_2784529ae1564e198976091d7ebbb51e",
            "placeholder": "​",
            "style": "IPY_MODEL_61d548d67fa241ac9908be59a3c47cf6",
            "value": " 2.64M/2.64M [00:01&lt;00:00, 1.52MB/s]"
          }
        },
        "9bdaab86613946499cdfabbede31b61c": {
          "model_module": "@jupyter-widgets/controls",
          "model_module_version": "1.5.0",
          "model_name": "DescriptionStyleModel",
          "state": {
            "_model_module": "@jupyter-widgets/controls",
            "_model_module_version": "1.5.0",
            "_model_name": "DescriptionStyleModel",
            "_view_count": null,
            "_view_module": "@jupyter-widgets/base",
            "_view_module_version": "1.2.0",
            "_view_name": "StyleView",
            "description_width": ""
          }
        },
        "a08a66d8088e4c739312c48633485d91": {
          "model_module": "@jupyter-widgets/controls",
          "model_module_version": "1.5.0",
          "model_name": "HTMLModel",
          "state": {
            "_dom_classes": [],
            "_model_module": "@jupyter-widgets/controls",
            "_model_module_version": "1.5.0",
            "_model_name": "HTMLModel",
            "_view_count": null,
            "_view_module": "@jupyter-widgets/controls",
            "_view_module_version": "1.5.0",
            "_view_name": "HTMLView",
            "description": "",
            "description_tooltip": null,
            "layout": "IPY_MODEL_bcadb66c6bae4fd792ac4e40eb31357c",
            "placeholder": "​",
            "style": "IPY_MODEL_2519bf7b6dfa4e9da3b25605808beacd",
            "value": " 112/112 [00:00&lt;00:00, 7.26kB/s]"
          }
        },
        "a0cbb6826b6d46a1b834aec854ee50c6": {
          "model_module": "@jupyter-widgets/controls",
          "model_module_version": "1.5.0",
          "model_name": "HTMLModel",
          "state": {
            "_dom_classes": [],
            "_model_module": "@jupyter-widgets/controls",
            "_model_module_version": "1.5.0",
            "_model_name": "HTMLModel",
            "_view_count": null,
            "_view_module": "@jupyter-widgets/controls",
            "_view_module_version": "1.5.0",
            "_view_name": "HTMLView",
            "description": "",
            "description_tooltip": null,
            "layout": "IPY_MODEL_b45727dfd5d440ceadd8f6c3a21d09d6",
            "placeholder": "​",
            "style": "IPY_MODEL_c44ffabe8bda4423b548b5eaa6c5bb0f",
            "value": "Downloading: 100%"
          }
        },
        "a2907ac56bf249d28b1483ea689a29d6": {
          "model_module": "@jupyter-widgets/controls",
          "model_module_version": "1.5.0",
          "model_name": "DescriptionStyleModel",
          "state": {
            "_model_module": "@jupyter-widgets/controls",
            "_model_module_version": "1.5.0",
            "_model_name": "DescriptionStyleModel",
            "_view_count": null,
            "_view_module": "@jupyter-widgets/base",
            "_view_module_version": "1.2.0",
            "_view_name": "StyleView",
            "description_width": ""
          }
        },
        "a3efc9050afb470b81cd2f7f6d265f94": {
          "model_module": "@jupyter-widgets/base",
          "model_module_version": "1.2.0",
          "model_name": "LayoutModel",
          "state": {
            "_model_module": "@jupyter-widgets/base",
            "_model_module_version": "1.2.0",
            "_model_name": "LayoutModel",
            "_view_count": null,
            "_view_module": "@jupyter-widgets/base",
            "_view_module_version": "1.2.0",
            "_view_name": "LayoutView",
            "align_content": null,
            "align_items": null,
            "align_self": null,
            "border": null,
            "bottom": null,
            "display": null,
            "flex": null,
            "flex_flow": null,
            "grid_area": null,
            "grid_auto_columns": null,
            "grid_auto_flow": null,
            "grid_auto_rows": null,
            "grid_column": null,
            "grid_gap": null,
            "grid_row": null,
            "grid_template_areas": null,
            "grid_template_columns": null,
            "grid_template_rows": null,
            "height": null,
            "justify_content": null,
            "justify_items": null,
            "left": null,
            "margin": null,
            "max_height": null,
            "max_width": null,
            "min_height": null,
            "min_width": null,
            "object_fit": null,
            "object_position": null,
            "order": null,
            "overflow": null,
            "overflow_x": null,
            "overflow_y": null,
            "padding": null,
            "right": null,
            "top": null,
            "visibility": null,
            "width": null
          }
        },
        "a57a260cf17b4d339d19a53267065b7d": {
          "model_module": "@jupyter-widgets/base",
          "model_module_version": "1.2.0",
          "model_name": "LayoutModel",
          "state": {
            "_model_module": "@jupyter-widgets/base",
            "_model_module_version": "1.2.0",
            "_model_name": "LayoutModel",
            "_view_count": null,
            "_view_module": "@jupyter-widgets/base",
            "_view_module_version": "1.2.0",
            "_view_name": "LayoutView",
            "align_content": null,
            "align_items": null,
            "align_self": null,
            "border": null,
            "bottom": null,
            "display": null,
            "flex": null,
            "flex_flow": null,
            "grid_area": null,
            "grid_auto_columns": null,
            "grid_auto_flow": null,
            "grid_auto_rows": null,
            "grid_column": null,
            "grid_gap": null,
            "grid_row": null,
            "grid_template_areas": null,
            "grid_template_columns": null,
            "grid_template_rows": null,
            "height": null,
            "justify_content": null,
            "justify_items": null,
            "left": null,
            "margin": null,
            "max_height": null,
            "max_width": null,
            "min_height": null,
            "min_width": null,
            "object_fit": null,
            "object_position": null,
            "order": null,
            "overflow": null,
            "overflow_x": null,
            "overflow_y": null,
            "padding": null,
            "right": null,
            "top": null,
            "visibility": null,
            "width": null
          }
        },
        "a5de708b59044efdb3b1d256bff2ce47": {
          "model_module": "@jupyter-widgets/controls",
          "model_module_version": "1.5.0",
          "model_name": "HTMLModel",
          "state": {
            "_dom_classes": [],
            "_model_module": "@jupyter-widgets/controls",
            "_model_module_version": "1.5.0",
            "_model_name": "HTMLModel",
            "_view_count": null,
            "_view_module": "@jupyter-widgets/controls",
            "_view_module_version": "1.5.0",
            "_view_name": "HTMLView",
            "description": "",
            "description_tooltip": null,
            "layout": "IPY_MODEL_a57a260cf17b4d339d19a53267065b7d",
            "placeholder": "​",
            "style": "IPY_MODEL_f79e2575b2424a3e823aaf277ab9c3a2",
            "value": " 381/381 [00:00&lt;00:00, 21.0kB/s]"
          }
        },
        "aa0642bac6b64031b26207d148483a0f": {
          "model_module": "@jupyter-widgets/controls",
          "model_module_version": "1.5.0",
          "model_name": "HBoxModel",
          "state": {
            "_dom_classes": [],
            "_model_module": "@jupyter-widgets/controls",
            "_model_module_version": "1.5.0",
            "_model_name": "HBoxModel",
            "_view_count": null,
            "_view_module": "@jupyter-widgets/controls",
            "_view_module_version": "1.5.0",
            "_view_name": "HBoxView",
            "box_style": "",
            "children": [
              "IPY_MODEL_7e12e84d07904d2d934ed48454ac720e",
              "IPY_MODEL_fecb664abf184e80b18362a0c15112ca",
              "IPY_MODEL_a08a66d8088e4c739312c48633485d91"
            ],
            "layout": "IPY_MODEL_eec5f9efc6114d02a62baf9cfdadc023"
          }
        },
        "addae954b81a480ebd552c8f16cdc512": {
          "model_module": "@jupyter-widgets/controls",
          "model_module_version": "1.5.0",
          "model_name": "HTMLModel",
          "state": {
            "_dom_classes": [],
            "_model_module": "@jupyter-widgets/controls",
            "_model_module_version": "1.5.0",
            "_model_name": "HTMLModel",
            "_view_count": null,
            "_view_module": "@jupyter-widgets/controls",
            "_view_module_version": "1.5.0",
            "_view_name": "HTMLView",
            "description": "",
            "description_tooltip": null,
            "layout": "IPY_MODEL_2b245ae5407c4479b23174c2ce9edcab",
            "placeholder": "​",
            "style": "IPY_MODEL_af7f170315fd42dc919dc0fb09f809df",
            "value": "Downloading: 100%"
          }
        },
        "af7f170315fd42dc919dc0fb09f809df": {
          "model_module": "@jupyter-widgets/controls",
          "model_module_version": "1.5.0",
          "model_name": "DescriptionStyleModel",
          "state": {
            "_model_module": "@jupyter-widgets/controls",
            "_model_module_version": "1.5.0",
            "_model_name": "DescriptionStyleModel",
            "_view_count": null,
            "_view_module": "@jupyter-widgets/base",
            "_view_module_version": "1.2.0",
            "_view_name": "StyleView",
            "description_width": ""
          }
        },
        "b45727dfd5d440ceadd8f6c3a21d09d6": {
          "model_module": "@jupyter-widgets/base",
          "model_module_version": "1.2.0",
          "model_name": "LayoutModel",
          "state": {
            "_model_module": "@jupyter-widgets/base",
            "_model_module_version": "1.2.0",
            "_model_name": "LayoutModel",
            "_view_count": null,
            "_view_module": "@jupyter-widgets/base",
            "_view_module_version": "1.2.0",
            "_view_name": "LayoutView",
            "align_content": null,
            "align_items": null,
            "align_self": null,
            "border": null,
            "bottom": null,
            "display": null,
            "flex": null,
            "flex_flow": null,
            "grid_area": null,
            "grid_auto_columns": null,
            "grid_auto_flow": null,
            "grid_auto_rows": null,
            "grid_column": null,
            "grid_gap": null,
            "grid_row": null,
            "grid_template_areas": null,
            "grid_template_columns": null,
            "grid_template_rows": null,
            "height": null,
            "justify_content": null,
            "justify_items": null,
            "left": null,
            "margin": null,
            "max_height": null,
            "max_width": null,
            "min_height": null,
            "min_width": null,
            "object_fit": null,
            "object_position": null,
            "order": null,
            "overflow": null,
            "overflow_x": null,
            "overflow_y": null,
            "padding": null,
            "right": null,
            "top": null,
            "visibility": null,
            "width": null
          }
        },
        "b51c82aacfc3496fa125ff93bfc9b507": {
          "model_module": "@jupyter-widgets/controls",
          "model_module_version": "1.5.0",
          "model_name": "ProgressStyleModel",
          "state": {
            "_model_module": "@jupyter-widgets/controls",
            "_model_module_version": "1.5.0",
            "_model_name": "ProgressStyleModel",
            "_view_count": null,
            "_view_module": "@jupyter-widgets/base",
            "_view_module_version": "1.2.0",
            "_view_name": "StyleView",
            "bar_color": null,
            "description_width": ""
          }
        },
        "b94a0e54313c401db39af019aacc94d2": {
          "model_module": "@jupyter-widgets/base",
          "model_module_version": "1.2.0",
          "model_name": "LayoutModel",
          "state": {
            "_model_module": "@jupyter-widgets/base",
            "_model_module_version": "1.2.0",
            "_model_name": "LayoutModel",
            "_view_count": null,
            "_view_module": "@jupyter-widgets/base",
            "_view_module_version": "1.2.0",
            "_view_name": "LayoutView",
            "align_content": null,
            "align_items": null,
            "align_self": null,
            "border": null,
            "bottom": null,
            "display": null,
            "flex": null,
            "flex_flow": null,
            "grid_area": null,
            "grid_auto_columns": null,
            "grid_auto_flow": null,
            "grid_auto_rows": null,
            "grid_column": null,
            "grid_gap": null,
            "grid_row": null,
            "grid_template_areas": null,
            "grid_template_columns": null,
            "grid_template_rows": null,
            "height": null,
            "justify_content": null,
            "justify_items": null,
            "left": null,
            "margin": null,
            "max_height": null,
            "max_width": null,
            "min_height": null,
            "min_width": null,
            "object_fit": null,
            "object_position": null,
            "order": null,
            "overflow": null,
            "overflow_x": null,
            "overflow_y": null,
            "padding": null,
            "right": null,
            "top": null,
            "visibility": null,
            "width": null
          }
        },
        "bcadb66c6bae4fd792ac4e40eb31357c": {
          "model_module": "@jupyter-widgets/base",
          "model_module_version": "1.2.0",
          "model_name": "LayoutModel",
          "state": {
            "_model_module": "@jupyter-widgets/base",
            "_model_module_version": "1.2.0",
            "_model_name": "LayoutModel",
            "_view_count": null,
            "_view_module": "@jupyter-widgets/base",
            "_view_module_version": "1.2.0",
            "_view_name": "LayoutView",
            "align_content": null,
            "align_items": null,
            "align_self": null,
            "border": null,
            "bottom": null,
            "display": null,
            "flex": null,
            "flex_flow": null,
            "grid_area": null,
            "grid_auto_columns": null,
            "grid_auto_flow": null,
            "grid_auto_rows": null,
            "grid_column": null,
            "grid_gap": null,
            "grid_row": null,
            "grid_template_areas": null,
            "grid_template_columns": null,
            "grid_template_rows": null,
            "height": null,
            "justify_content": null,
            "justify_items": null,
            "left": null,
            "margin": null,
            "max_height": null,
            "max_width": null,
            "min_height": null,
            "min_width": null,
            "object_fit": null,
            "object_position": null,
            "order": null,
            "overflow": null,
            "overflow_x": null,
            "overflow_y": null,
            "padding": null,
            "right": null,
            "top": null,
            "visibility": null,
            "width": null
          }
        },
        "c139424bd7af4cbf854eeb20c0f04c5e": {
          "model_module": "@jupyter-widgets/controls",
          "model_module_version": "1.5.0",
          "model_name": "HBoxModel",
          "state": {
            "_dom_classes": [],
            "_model_module": "@jupyter-widgets/controls",
            "_model_module_version": "1.5.0",
            "_model_name": "HBoxModel",
            "_view_count": null,
            "_view_module": "@jupyter-widgets/controls",
            "_view_module_version": "1.5.0",
            "_view_name": "HBoxView",
            "box_style": "",
            "children": [
              "IPY_MODEL_7b52ffe556f64c5f8dca5c0900a13640",
              "IPY_MODEL_ecd7b48726744e15af16005554733935",
              "IPY_MODEL_46694812528749aea734e1dcfd3af496"
            ],
            "layout": "IPY_MODEL_6941923a09094bafbe06de6cb5c331d9"
          }
        },
        "c44ffabe8bda4423b548b5eaa6c5bb0f": {
          "model_module": "@jupyter-widgets/controls",
          "model_module_version": "1.5.0",
          "model_name": "DescriptionStyleModel",
          "state": {
            "_model_module": "@jupyter-widgets/controls",
            "_model_module_version": "1.5.0",
            "_model_name": "DescriptionStyleModel",
            "_view_count": null,
            "_view_module": "@jupyter-widgets/base",
            "_view_module_version": "1.2.0",
            "_view_name": "StyleView",
            "description_width": ""
          }
        },
        "c4fb12e9434e41828c8da5eb59d828ba": {
          "model_module": "@jupyter-widgets/controls",
          "model_module_version": "1.5.0",
          "model_name": "ProgressStyleModel",
          "state": {
            "_model_module": "@jupyter-widgets/controls",
            "_model_module_version": "1.5.0",
            "_model_name": "ProgressStyleModel",
            "_view_count": null,
            "_view_module": "@jupyter-widgets/base",
            "_view_module_version": "1.2.0",
            "_view_name": "StyleView",
            "bar_color": null,
            "description_width": ""
          }
        },
        "c79d25d7a21948b4ab5fc325f38a58e6": {
          "model_module": "@jupyter-widgets/base",
          "model_module_version": "1.2.0",
          "model_name": "LayoutModel",
          "state": {
            "_model_module": "@jupyter-widgets/base",
            "_model_module_version": "1.2.0",
            "_model_name": "LayoutModel",
            "_view_count": null,
            "_view_module": "@jupyter-widgets/base",
            "_view_module_version": "1.2.0",
            "_view_name": "LayoutView",
            "align_content": null,
            "align_items": null,
            "align_self": null,
            "border": null,
            "bottom": null,
            "display": null,
            "flex": null,
            "flex_flow": null,
            "grid_area": null,
            "grid_auto_columns": null,
            "grid_auto_flow": null,
            "grid_auto_rows": null,
            "grid_column": null,
            "grid_gap": null,
            "grid_row": null,
            "grid_template_areas": null,
            "grid_template_columns": null,
            "grid_template_rows": null,
            "height": null,
            "justify_content": null,
            "justify_items": null,
            "left": null,
            "margin": null,
            "max_height": null,
            "max_width": null,
            "min_height": null,
            "min_width": null,
            "object_fit": null,
            "object_position": null,
            "order": null,
            "overflow": null,
            "overflow_x": null,
            "overflow_y": null,
            "padding": null,
            "right": null,
            "top": null,
            "visibility": null,
            "width": null
          }
        },
        "dd1c911321d146e3be28e600ad4bd187": {
          "model_module": "@jupyter-widgets/controls",
          "model_module_version": "1.5.0",
          "model_name": "DescriptionStyleModel",
          "state": {
            "_model_module": "@jupyter-widgets/controls",
            "_model_module_version": "1.5.0",
            "_model_name": "DescriptionStyleModel",
            "_view_count": null,
            "_view_module": "@jupyter-widgets/base",
            "_view_module_version": "1.2.0",
            "_view_name": "StyleView",
            "description_width": ""
          }
        },
        "e29c6e0978ea481dbf0ec6e382fcbed6": {
          "model_module": "@jupyter-widgets/controls",
          "model_module_version": "1.5.0",
          "model_name": "ProgressStyleModel",
          "state": {
            "_model_module": "@jupyter-widgets/controls",
            "_model_module_version": "1.5.0",
            "_model_name": "ProgressStyleModel",
            "_view_count": null,
            "_view_module": "@jupyter-widgets/base",
            "_view_module_version": "1.2.0",
            "_view_name": "StyleView",
            "bar_color": null,
            "description_width": ""
          }
        },
        "e35dcb41effc4261a57cda7f7c2a0255": {
          "model_module": "@jupyter-widgets/controls",
          "model_module_version": "1.5.0",
          "model_name": "HTMLModel",
          "state": {
            "_dom_classes": [],
            "_model_module": "@jupyter-widgets/controls",
            "_model_module_version": "1.5.0",
            "_model_name": "HTMLModel",
            "_view_count": null,
            "_view_module": "@jupyter-widgets/controls",
            "_view_module_version": "1.5.0",
            "_view_name": "HTMLView",
            "description": "",
            "description_tooltip": null,
            "layout": "IPY_MODEL_fa241d0751f249c7b4ad0c6ef40feeca",
            "placeholder": "​",
            "style": "IPY_MODEL_dd1c911321d146e3be28e600ad4bd187",
            "value": " 825k/825k [00:01&lt;00:00, 571kB/s]"
          }
        },
        "e70aad31a02e485aa074a1214ac237c7": {
          "model_module": "@jupyter-widgets/controls",
          "model_module_version": "1.5.0",
          "model_name": "HBoxModel",
          "state": {
            "_dom_classes": [],
            "_model_module": "@jupyter-widgets/controls",
            "_model_module_version": "1.5.0",
            "_model_name": "HBoxModel",
            "_view_count": null,
            "_view_module": "@jupyter-widgets/controls",
            "_view_module_version": "1.5.0",
            "_view_name": "HBoxView",
            "box_style": "",
            "children": [
              "IPY_MODEL_addae954b81a480ebd552c8f16cdc512",
              "IPY_MODEL_27f51b1eaf894d098ed2fae9c3e363c5",
              "IPY_MODEL_a5de708b59044efdb3b1d256bff2ce47"
            ],
            "layout": "IPY_MODEL_f1f9c4bc6d9146019ae866e2ba393180"
          }
        },
        "e9303496f6e443baa0143917d5ff7459": {
          "model_module": "@jupyter-widgets/base",
          "model_module_version": "1.2.0",
          "model_name": "LayoutModel",
          "state": {
            "_model_module": "@jupyter-widgets/base",
            "_model_module_version": "1.2.0",
            "_model_name": "LayoutModel",
            "_view_count": null,
            "_view_module": "@jupyter-widgets/base",
            "_view_module_version": "1.2.0",
            "_view_name": "LayoutView",
            "align_content": null,
            "align_items": null,
            "align_self": null,
            "border": null,
            "bottom": null,
            "display": null,
            "flex": null,
            "flex_flow": null,
            "grid_area": null,
            "grid_auto_columns": null,
            "grid_auto_flow": null,
            "grid_auto_rows": null,
            "grid_column": null,
            "grid_gap": null,
            "grid_row": null,
            "grid_template_areas": null,
            "grid_template_columns": null,
            "grid_template_rows": null,
            "height": null,
            "justify_content": null,
            "justify_items": null,
            "left": null,
            "margin": null,
            "max_height": null,
            "max_width": null,
            "min_height": null,
            "min_width": null,
            "object_fit": null,
            "object_position": null,
            "order": null,
            "overflow": null,
            "overflow_x": null,
            "overflow_y": null,
            "padding": null,
            "right": null,
            "top": null,
            "visibility": null,
            "width": null
          }
        },
        "eacdae1f78484773a9a71a32c509d2b2": {
          "model_module": "@jupyter-widgets/controls",
          "model_module_version": "1.5.0",
          "model_name": "HTMLModel",
          "state": {
            "_dom_classes": [],
            "_model_module": "@jupyter-widgets/controls",
            "_model_module_version": "1.5.0",
            "_model_name": "HTMLModel",
            "_view_count": null,
            "_view_module": "@jupyter-widgets/controls",
            "_view_module_version": "1.5.0",
            "_view_name": "HTMLView",
            "description": "",
            "description_tooltip": null,
            "layout": "IPY_MODEL_2bc1d96fbd154d32924fd0e7ad74791f",
            "placeholder": "​",
            "style": "IPY_MODEL_9bdaab86613946499cdfabbede31b61c",
            "value": "Downloading: 100%"
          }
        },
        "ecd7b48726744e15af16005554733935": {
          "model_module": "@jupyter-widgets/controls",
          "model_module_version": "1.5.0",
          "model_name": "FloatProgressModel",
          "state": {
            "_dom_classes": [],
            "_model_module": "@jupyter-widgets/controls",
            "_model_module_version": "1.5.0",
            "_model_name": "FloatProgressModel",
            "_view_count": null,
            "_view_module": "@jupyter-widgets/controls",
            "_view_module_version": "1.5.0",
            "_view_name": "ProgressView",
            "bar_style": "success",
            "description": "",
            "description_tooltip": null,
            "layout": "IPY_MODEL_7393ae7bb17a4bd3b8c358f691e4881e",
            "max": 384,
            "min": 0,
            "orientation": "horizontal",
            "style": "IPY_MODEL_3aeded20c46246b5bef901ab0fd83806",
            "value": 384
          }
        },
        "eec5f9efc6114d02a62baf9cfdadc023": {
          "model_module": "@jupyter-widgets/base",
          "model_module_version": "1.2.0",
          "model_name": "LayoutModel",
          "state": {
            "_model_module": "@jupyter-widgets/base",
            "_model_module_version": "1.2.0",
            "_model_name": "LayoutModel",
            "_view_count": null,
            "_view_module": "@jupyter-widgets/base",
            "_view_module_version": "1.2.0",
            "_view_name": "LayoutView",
            "align_content": null,
            "align_items": null,
            "align_self": null,
            "border": null,
            "bottom": null,
            "display": null,
            "flex": null,
            "flex_flow": null,
            "grid_area": null,
            "grid_auto_columns": null,
            "grid_auto_flow": null,
            "grid_auto_rows": null,
            "grid_column": null,
            "grid_gap": null,
            "grid_row": null,
            "grid_template_areas": null,
            "grid_template_columns": null,
            "grid_template_rows": null,
            "height": null,
            "justify_content": null,
            "justify_items": null,
            "left": null,
            "margin": null,
            "max_height": null,
            "max_width": null,
            "min_height": null,
            "min_width": null,
            "object_fit": null,
            "object_position": null,
            "order": null,
            "overflow": null,
            "overflow_x": null,
            "overflow_y": null,
            "padding": null,
            "right": null,
            "top": null,
            "visibility": null,
            "width": null
          }
        },
        "f1f9c4bc6d9146019ae866e2ba393180": {
          "model_module": "@jupyter-widgets/base",
          "model_module_version": "1.2.0",
          "model_name": "LayoutModel",
          "state": {
            "_model_module": "@jupyter-widgets/base",
            "_model_module_version": "1.2.0",
            "_model_name": "LayoutModel",
            "_view_count": null,
            "_view_module": "@jupyter-widgets/base",
            "_view_module_version": "1.2.0",
            "_view_name": "LayoutView",
            "align_content": null,
            "align_items": null,
            "align_self": null,
            "border": null,
            "bottom": null,
            "display": null,
            "flex": null,
            "flex_flow": null,
            "grid_area": null,
            "grid_auto_columns": null,
            "grid_auto_flow": null,
            "grid_auto_rows": null,
            "grid_column": null,
            "grid_gap": null,
            "grid_row": null,
            "grid_template_areas": null,
            "grid_template_columns": null,
            "grid_template_rows": null,
            "height": null,
            "justify_content": null,
            "justify_items": null,
            "left": null,
            "margin": null,
            "max_height": null,
            "max_width": null,
            "min_height": null,
            "min_width": null,
            "object_fit": null,
            "object_position": null,
            "order": null,
            "overflow": null,
            "overflow_x": null,
            "overflow_y": null,
            "padding": null,
            "right": null,
            "top": null,
            "visibility": null,
            "width": null
          }
        },
        "f79e2575b2424a3e823aaf277ab9c3a2": {
          "model_module": "@jupyter-widgets/controls",
          "model_module_version": "1.5.0",
          "model_name": "DescriptionStyleModel",
          "state": {
            "_model_module": "@jupyter-widgets/controls",
            "_model_module_version": "1.5.0",
            "_model_name": "DescriptionStyleModel",
            "_view_count": null,
            "_view_module": "@jupyter-widgets/base",
            "_view_module_version": "1.2.0",
            "_view_name": "StyleView",
            "description_width": ""
          }
        },
        "fa241d0751f249c7b4ad0c6ef40feeca": {
          "model_module": "@jupyter-widgets/base",
          "model_module_version": "1.2.0",
          "model_name": "LayoutModel",
          "state": {
            "_model_module": "@jupyter-widgets/base",
            "_model_module_version": "1.2.0",
            "_model_name": "LayoutModel",
            "_view_count": null,
            "_view_module": "@jupyter-widgets/base",
            "_view_module_version": "1.2.0",
            "_view_name": "LayoutView",
            "align_content": null,
            "align_items": null,
            "align_self": null,
            "border": null,
            "bottom": null,
            "display": null,
            "flex": null,
            "flex_flow": null,
            "grid_area": null,
            "grid_auto_columns": null,
            "grid_auto_flow": null,
            "grid_auto_rows": null,
            "grid_column": null,
            "grid_gap": null,
            "grid_row": null,
            "grid_template_areas": null,
            "grid_template_columns": null,
            "grid_template_rows": null,
            "height": null,
            "justify_content": null,
            "justify_items": null,
            "left": null,
            "margin": null,
            "max_height": null,
            "max_width": null,
            "min_height": null,
            "min_width": null,
            "object_fit": null,
            "object_position": null,
            "order": null,
            "overflow": null,
            "overflow_x": null,
            "overflow_y": null,
            "padding": null,
            "right": null,
            "top": null,
            "visibility": null,
            "width": null
          }
        },
        "fac60ce4d6334bdab8bf78a323a77e5d": {
          "model_module": "@jupyter-widgets/base",
          "model_module_version": "1.2.0",
          "model_name": "LayoutModel",
          "state": {
            "_model_module": "@jupyter-widgets/base",
            "_model_module_version": "1.2.0",
            "_model_name": "LayoutModel",
            "_view_count": null,
            "_view_module": "@jupyter-widgets/base",
            "_view_module_version": "1.2.0",
            "_view_name": "LayoutView",
            "align_content": null,
            "align_items": null,
            "align_self": null,
            "border": null,
            "bottom": null,
            "display": null,
            "flex": null,
            "flex_flow": null,
            "grid_area": null,
            "grid_auto_columns": null,
            "grid_auto_flow": null,
            "grid_auto_rows": null,
            "grid_column": null,
            "grid_gap": null,
            "grid_row": null,
            "grid_template_areas": null,
            "grid_template_columns": null,
            "grid_template_rows": null,
            "height": null,
            "justify_content": null,
            "justify_items": null,
            "left": null,
            "margin": null,
            "max_height": null,
            "max_width": null,
            "min_height": null,
            "min_width": null,
            "object_fit": null,
            "object_position": null,
            "order": null,
            "overflow": null,
            "overflow_x": null,
            "overflow_y": null,
            "padding": null,
            "right": null,
            "top": null,
            "visibility": null,
            "width": null
          }
        },
        "fecb664abf184e80b18362a0c15112ca": {
          "model_module": "@jupyter-widgets/controls",
          "model_module_version": "1.5.0",
          "model_name": "FloatProgressModel",
          "state": {
            "_dom_classes": [],
            "_model_module": "@jupyter-widgets/controls",
            "_model_module_version": "1.5.0",
            "_model_name": "FloatProgressModel",
            "_view_count": null,
            "_view_module": "@jupyter-widgets/controls",
            "_view_module_version": "1.5.0",
            "_view_name": "ProgressView",
            "bar_style": "success",
            "description": "",
            "description_tooltip": null,
            "layout": "IPY_MODEL_a3efc9050afb470b81cd2f7f6d265f94",
            "max": 112,
            "min": 0,
            "orientation": "horizontal",
            "style": "IPY_MODEL_e29c6e0978ea481dbf0ec6e382fcbed6",
            "value": 112
          }
        }
      }
    }
  },
  "nbformat": 4,
  "nbformat_minor": 5
}
