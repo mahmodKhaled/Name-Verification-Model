{
 "cells": [
  {
   "cell_type": "markdown",
   "metadata": {},
   "source": [
    "## Imports"
   ]
  },
  {
   "cell_type": "code",
   "execution_count": 3,
   "metadata": {},
   "outputs": [],
   "source": [
    "from tensorflow.keras.layers import Dense , Embedding\n",
    "from tensorflow.keras.models import Sequential\n",
    "from tensorflow.keras.layers import GlobalMaxPool1D\n",
    "from tensorflow.keras.layers import Dropout\n",
    "from tensorflow.keras.layers import Bidirectional\n",
    "from tensorflow.keras.layers import LSTM"
   ]
  },
  {
   "cell_type": "markdown",
   "metadata": {},
   "source": [
    "## Custom Model Class"
   ]
  },
  {
   "cell_type": "code",
   "execution_count": 4,
   "metadata": {},
   "outputs": [],
   "source": [
    "class CustomModel():\n",
    "    def __init__(self, OPTIMIZER, LOSS, METRICS):\n",
    "        self.OPTIMIZER = OPTIMIZER\n",
    "        self.LOSS = LOSS\n",
    "        self.METRICS = METRICS\n",
    "\n",
    "    def create_model(self, VOCAB_SIZE, EMBEDDING_DIM, MAX_LEN, LSTM_SIZE, HIDDEN_SIZE, NUM_CLASSES):\n",
    "        model = Sequential()\n",
    "        model.add(Embedding(VOCAB_SIZE, EMBEDDING_DIM, input_length=MAX_LEN))\n",
    "        model.add(Bidirectional(LSTM(LSTM_SIZE, return_sequences=True)))\n",
    "        model.add(GlobalMaxPool1D())\n",
    "        model.add(Dense(HIDDEN_SIZE, activation='relu'))\n",
    "        model.add(Dropout(0.5))\n",
    "        model.add(Dense(NUM_CLASSES, activation='softmax'))\n",
    "        model.compile(optimizer=self.OPTIMIZER, loss=self.LOSS, metrics=self.METRICS)\n",
    "        return model"
   ]
  }
 ],
 "metadata": {
  "kernelspec": {
   "display_name": "base",
   "language": "python",
   "name": "python3"
  },
  "language_info": {
   "codemirror_mode": {
    "name": "ipython",
    "version": 3
   },
   "file_extension": ".py",
   "mimetype": "text/x-python",
   "name": "python",
   "nbconvert_exporter": "python",
   "pygments_lexer": "ipython3",
   "version": "3.8.16"
  },
  "orig_nbformat": 4
 },
 "nbformat": 4,
 "nbformat_minor": 2
}
