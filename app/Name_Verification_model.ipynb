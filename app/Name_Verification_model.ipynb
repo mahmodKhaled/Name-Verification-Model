{
  "cells": [
    {
      "cell_type": "markdown",
      "id": "fefa6cc0",
      "metadata": {
        "id": "fefa6cc0"
      },
      "source": [
        "## Imports"
      ]
    },
    {
      "cell_type": "code",
      "execution_count": 1,
      "id": "doZAdi8IkuhD",
      "metadata": {
        "colab": {
          "base_uri": "https://localhost:8080/"
        },
        "id": "doZAdi8IkuhD",
        "outputId": "8aeec246-dd6a-4da6-92c5-d66729d3305a"
      },
      "outputs": [
        {
          "output_type": "stream",
          "name": "stdout",
          "text": [
            "Looking in indexes: https://pypi.org/simple, https://us-python.pkg.dev/colab-wheels/public/simple/\n",
            "Collecting arabert\n",
            "  Downloading arabert-1.0.1-py3-none-any.whl (179 kB)\n",
            "\u001b[2K     \u001b[90m━━━━━━━━━━━━━━━━━━━━━━━━━━━━━━━━━━━━━━━\u001b[0m \u001b[32m179.3/179.3 KB\u001b[0m \u001b[31m7.5 MB/s\u001b[0m eta \u001b[36m0:00:00\u001b[0m\n",
            "\u001b[?25hCollecting farasapy\n",
            "  Downloading farasapy-0.0.14-py3-none-any.whl (11 kB)\n",
            "Collecting PyArabic\n",
            "  Downloading PyArabic-0.6.15-py3-none-any.whl (126 kB)\n",
            "\u001b[2K     \u001b[90m━━━━━━━━━━━━━━━━━━━━━━━━━━━━━━━━━━━━━━\u001b[0m \u001b[32m126.4/126.4 KB\u001b[0m \u001b[31m17.4 MB/s\u001b[0m eta \u001b[36m0:00:00\u001b[0m\n",
            "\u001b[?25hCollecting emoji==1.4.2\n",
            "  Downloading emoji-1.4.2.tar.gz (184 kB)\n",
            "\u001b[2K     \u001b[90m━━━━━━━━━━━━━━━━━━━━━━━━━━━━━━━━━━━━━━\u001b[0m \u001b[32m185.0/185.0 KB\u001b[0m \u001b[31m24.4 MB/s\u001b[0m eta \u001b[36m0:00:00\u001b[0m\n",
            "\u001b[?25h  Preparing metadata (setup.py) ... \u001b[?25l\u001b[?25hdone\n",
            "Requirement already satisfied: requests in /usr/local/lib/python3.8/dist-packages (from farasapy->arabert) (2.25.1)\n",
            "Requirement already satisfied: tqdm in /usr/local/lib/python3.8/dist-packages (from farasapy->arabert) (4.64.1)\n",
            "Requirement already satisfied: six>=1.14.0 in /usr/local/lib/python3.8/dist-packages (from PyArabic->arabert) (1.15.0)\n",
            "Requirement already satisfied: chardet<5,>=3.0.2 in /usr/local/lib/python3.8/dist-packages (from requests->farasapy->arabert) (4.0.0)\n",
            "Requirement already satisfied: certifi>=2017.4.17 in /usr/local/lib/python3.8/dist-packages (from requests->farasapy->arabert) (2022.12.7)\n",
            "Requirement already satisfied: idna<3,>=2.5 in /usr/local/lib/python3.8/dist-packages (from requests->farasapy->arabert) (2.10)\n",
            "Requirement already satisfied: urllib3<1.27,>=1.21.1 in /usr/local/lib/python3.8/dist-packages (from requests->farasapy->arabert) (1.24.3)\n",
            "Building wheels for collected packages: emoji\n",
            "  Building wheel for emoji (setup.py) ... \u001b[?25l\u001b[?25hdone\n",
            "  Created wheel for emoji: filename=emoji-1.4.2-py3-none-any.whl size=186469 sha256=3f860aeb7d6b92d407b44151c47580d483e425483cb3103ca327f74b694b94fe\n",
            "  Stored in directory: /root/.cache/pip/wheels/71/4d/3c/cada364d4ea0026deee7208dee1e61bcebd20aa2ae5dc154ba\n",
            "Successfully built emoji\n",
            "Installing collected packages: emoji, PyArabic, farasapy, arabert\n",
            "Successfully installed PyArabic-0.6.15 arabert-1.0.1 emoji-1.4.2 farasapy-0.0.14\n"
          ]
        }
      ],
      "source": [
        "!pip install arabert"
      ]
    },
    {
      "cell_type": "code",
      "execution_count": 2,
      "id": "ciUTJci1lBXV",
      "metadata": {
        "colab": {
          "base_uri": "https://localhost:8080/"
        },
        "id": "ciUTJci1lBXV",
        "outputId": "405bb6ff-a4cf-48ff-b6c0-249624c52926"
      },
      "outputs": [
        {
          "output_type": "stream",
          "name": "stdout",
          "text": [
            "Looking in indexes: https://pypi.org/simple, https://us-python.pkg.dev/colab-wheels/public/simple/\n",
            "Collecting transformers\n",
            "  Downloading transformers-4.25.1-py3-none-any.whl (5.8 MB)\n",
            "\u001b[2K     \u001b[90m━━━━━━━━━━━━━━━━━━━━━━━━━━━━━━━━━━━━━━━━\u001b[0m \u001b[32m5.8/5.8 MB\u001b[0m \u001b[31m60.1 MB/s\u001b[0m eta \u001b[36m0:00:00\u001b[0m\n",
            "\u001b[?25hRequirement already satisfied: regex!=2019.12.17 in /usr/local/lib/python3.8/dist-packages (from transformers) (2022.6.2)\n",
            "Collecting tokenizers!=0.11.3,<0.14,>=0.11.1\n",
            "  Downloading tokenizers-0.13.2-cp38-cp38-manylinux_2_17_x86_64.manylinux2014_x86_64.whl (7.6 MB)\n",
            "\u001b[2K     \u001b[90m━━━━━━━━━━━━━━━━━━━━━━━━━━━━━━━━━━━━━━━━\u001b[0m \u001b[32m7.6/7.6 MB\u001b[0m \u001b[31m56.9 MB/s\u001b[0m eta \u001b[36m0:00:00\u001b[0m\n",
            "\u001b[?25hRequirement already satisfied: requests in /usr/local/lib/python3.8/dist-packages (from transformers) (2.25.1)\n",
            "Requirement already satisfied: pyyaml>=5.1 in /usr/local/lib/python3.8/dist-packages (from transformers) (6.0)\n",
            "Requirement already satisfied: tqdm>=4.27 in /usr/local/lib/python3.8/dist-packages (from transformers) (4.64.1)\n",
            "Collecting huggingface-hub<1.0,>=0.10.0\n",
            "  Downloading huggingface_hub-0.11.1-py3-none-any.whl (182 kB)\n",
            "\u001b[2K     \u001b[90m━━━━━━━━━━━━━━━━━━━━━━━━━━━━━━━━━━━━━━\u001b[0m \u001b[32m182.4/182.4 KB\u001b[0m \u001b[31m23.7 MB/s\u001b[0m eta \u001b[36m0:00:00\u001b[0m\n",
            "\u001b[?25hRequirement already satisfied: numpy>=1.17 in /usr/local/lib/python3.8/dist-packages (from transformers) (1.21.6)\n",
            "Requirement already satisfied: filelock in /usr/local/lib/python3.8/dist-packages (from transformers) (3.8.2)\n",
            "Requirement already satisfied: packaging>=20.0 in /usr/local/lib/python3.8/dist-packages (from transformers) (21.3)\n",
            "Requirement already satisfied: typing-extensions>=3.7.4.3 in /usr/local/lib/python3.8/dist-packages (from huggingface-hub<1.0,>=0.10.0->transformers) (4.4.0)\n",
            "Requirement already satisfied: pyparsing!=3.0.5,>=2.0.2 in /usr/local/lib/python3.8/dist-packages (from packaging>=20.0->transformers) (3.0.9)\n",
            "Requirement already satisfied: idna<3,>=2.5 in /usr/local/lib/python3.8/dist-packages (from requests->transformers) (2.10)\n",
            "Requirement already satisfied: urllib3<1.27,>=1.21.1 in /usr/local/lib/python3.8/dist-packages (from requests->transformers) (1.24.3)\n",
            "Requirement already satisfied: chardet<5,>=3.0.2 in /usr/local/lib/python3.8/dist-packages (from requests->transformers) (4.0.0)\n",
            "Requirement already satisfied: certifi>=2017.4.17 in /usr/local/lib/python3.8/dist-packages (from requests->transformers) (2022.12.7)\n",
            "Installing collected packages: tokenizers, huggingface-hub, transformers\n",
            "Successfully installed huggingface-hub-0.11.1 tokenizers-0.13.2 transformers-4.25.1\n"
          ]
        }
      ],
      "source": [
        "!pip install transformers"
      ]
    },
    {
      "cell_type": "code",
      "execution_count": 3,
      "id": "8fb81b1e",
      "metadata": {
        "id": "8fb81b1e"
      },
      "outputs": [],
      "source": [
        "import pandas as pd \n",
        "import numpy as np\n",
        "import random\n",
        "import tensorflow as tf\n",
        "from sklearn.model_selection import train_test_split\n",
        "from transformers import AutoTokenizer\n",
        "from arabert.preprocess import ArabertPreprocessor\n",
        "from tensorflow.keras.layers import Dense , Embedding, GlobalAveragePooling1D\n",
        "from tensorflow.keras.models import Sequential\n",
        "from tensorflow.keras.optimizers import Adam\n",
        "from tensorflow.keras.losses import BinaryCrossentropy\n",
        "import matplotlib.pyplot as plt\n",
        "from sklearn.metrics import accuracy_score"
      ]
    },
    {
      "cell_type": "markdown",
      "id": "5e144edc",
      "metadata": {
        "id": "5e144edc"
      },
      "source": [
        "## Load Datasets"
      ]
    },
    {
      "cell_type": "code",
      "execution_count": 4,
      "id": "OWGO8zApZrWX",
      "metadata": {
        "colab": {
          "base_uri": "https://localhost:8080/"
        },
        "id": "OWGO8zApZrWX",
        "outputId": "d000c6b7-e3dc-4016-a8c5-dc04fbf7da62"
      },
      "outputs": [
        {
          "output_type": "stream",
          "name": "stdout",
          "text": [
            "Mounted at /content/drive\n"
          ]
        }
      ],
      "source": [
        "from google.colab import drive\n",
        "drive.mount('/content/drive')"
      ]
    },
    {
      "cell_type": "code",
      "execution_count": 92,
      "id": "7231a8aa",
      "metadata": {
        "id": "7231a8aa"
      },
      "outputs": [],
      "source": [
        "# load arabic names\n",
        "real_arabic_names = pd.read_csv('drive/MyDrive/Names web dataset/Arabic_names.csv')\n",
        "# load male names\n",
        "male = pd.read_csv('drive/MyDrive/Names web dataset/mnames.txt', sep='\\n', header=None, names=['Name'])\n",
        "# load female names\n",
        "female = pd.read_csv('drive/MyDrive/Names web dataset/fnames.txt', sep='\\n', header=None, names=['Name'])"
      ]
    },
    {
      "cell_type": "code",
      "execution_count": 93,
      "id": "bf771285",
      "metadata": {
        "colab": {
          "base_uri": "https://localhost:8080/",
          "height": 206
        },
        "id": "bf771285",
        "outputId": "adc6c844-78e4-46c1-bf07-0aa17b5d9022"
      },
      "outputs": [
        {
          "output_type": "execute_result",
          "data": {
            "text/plain": [
              "     Name Gender\n",
              "0  ابتسام      F\n",
              "1  ابتهاج      F\n",
              "2  ابتهال      F\n",
              "3  اجتهاد      F\n",
              "4  ازدهار      F"
            ],
            "text/html": [
              "\n",
              "  <div id=\"df-ee186180-9d59-4640-9522-8996087f8fc2\">\n",
              "    <div class=\"colab-df-container\">\n",
              "      <div>\n",
              "<style scoped>\n",
              "    .dataframe tbody tr th:only-of-type {\n",
              "        vertical-align: middle;\n",
              "    }\n",
              "\n",
              "    .dataframe tbody tr th {\n",
              "        vertical-align: top;\n",
              "    }\n",
              "\n",
              "    .dataframe thead th {\n",
              "        text-align: right;\n",
              "    }\n",
              "</style>\n",
              "<table border=\"1\" class=\"dataframe\">\n",
              "  <thead>\n",
              "    <tr style=\"text-align: right;\">\n",
              "      <th></th>\n",
              "      <th>Name</th>\n",
              "      <th>Gender</th>\n",
              "    </tr>\n",
              "  </thead>\n",
              "  <tbody>\n",
              "    <tr>\n",
              "      <th>0</th>\n",
              "      <td>ابتسام</td>\n",
              "      <td>F</td>\n",
              "    </tr>\n",
              "    <tr>\n",
              "      <th>1</th>\n",
              "      <td>ابتهاج</td>\n",
              "      <td>F</td>\n",
              "    </tr>\n",
              "    <tr>\n",
              "      <th>2</th>\n",
              "      <td>ابتهال</td>\n",
              "      <td>F</td>\n",
              "    </tr>\n",
              "    <tr>\n",
              "      <th>3</th>\n",
              "      <td>اجتهاد</td>\n",
              "      <td>F</td>\n",
              "    </tr>\n",
              "    <tr>\n",
              "      <th>4</th>\n",
              "      <td>ازدهار</td>\n",
              "      <td>F</td>\n",
              "    </tr>\n",
              "  </tbody>\n",
              "</table>\n",
              "</div>\n",
              "      <button class=\"colab-df-convert\" onclick=\"convertToInteractive('df-ee186180-9d59-4640-9522-8996087f8fc2')\"\n",
              "              title=\"Convert this dataframe to an interactive table.\"\n",
              "              style=\"display:none;\">\n",
              "        \n",
              "  <svg xmlns=\"http://www.w3.org/2000/svg\" height=\"24px\"viewBox=\"0 0 24 24\"\n",
              "       width=\"24px\">\n",
              "    <path d=\"M0 0h24v24H0V0z\" fill=\"none\"/>\n",
              "    <path d=\"M18.56 5.44l.94 2.06.94-2.06 2.06-.94-2.06-.94-.94-2.06-.94 2.06-2.06.94zm-11 1L8.5 8.5l.94-2.06 2.06-.94-2.06-.94L8.5 2.5l-.94 2.06-2.06.94zm10 10l.94 2.06.94-2.06 2.06-.94-2.06-.94-.94-2.06-.94 2.06-2.06.94z\"/><path d=\"M17.41 7.96l-1.37-1.37c-.4-.4-.92-.59-1.43-.59-.52 0-1.04.2-1.43.59L10.3 9.45l-7.72 7.72c-.78.78-.78 2.05 0 2.83L4 21.41c.39.39.9.59 1.41.59.51 0 1.02-.2 1.41-.59l7.78-7.78 2.81-2.81c.8-.78.8-2.07 0-2.86zM5.41 20L4 18.59l7.72-7.72 1.47 1.35L5.41 20z\"/>\n",
              "  </svg>\n",
              "      </button>\n",
              "      \n",
              "  <style>\n",
              "    .colab-df-container {\n",
              "      display:flex;\n",
              "      flex-wrap:wrap;\n",
              "      gap: 12px;\n",
              "    }\n",
              "\n",
              "    .colab-df-convert {\n",
              "      background-color: #E8F0FE;\n",
              "      border: none;\n",
              "      border-radius: 50%;\n",
              "      cursor: pointer;\n",
              "      display: none;\n",
              "      fill: #1967D2;\n",
              "      height: 32px;\n",
              "      padding: 0 0 0 0;\n",
              "      width: 32px;\n",
              "    }\n",
              "\n",
              "    .colab-df-convert:hover {\n",
              "      background-color: #E2EBFA;\n",
              "      box-shadow: 0px 1px 2px rgba(60, 64, 67, 0.3), 0px 1px 3px 1px rgba(60, 64, 67, 0.15);\n",
              "      fill: #174EA6;\n",
              "    }\n",
              "\n",
              "    [theme=dark] .colab-df-convert {\n",
              "      background-color: #3B4455;\n",
              "      fill: #D2E3FC;\n",
              "    }\n",
              "\n",
              "    [theme=dark] .colab-df-convert:hover {\n",
              "      background-color: #434B5C;\n",
              "      box-shadow: 0px 1px 3px 1px rgba(0, 0, 0, 0.15);\n",
              "      filter: drop-shadow(0px 1px 2px rgba(0, 0, 0, 0.3));\n",
              "      fill: #FFFFFF;\n",
              "    }\n",
              "  </style>\n",
              "\n",
              "      <script>\n",
              "        const buttonEl =\n",
              "          document.querySelector('#df-ee186180-9d59-4640-9522-8996087f8fc2 button.colab-df-convert');\n",
              "        buttonEl.style.display =\n",
              "          google.colab.kernel.accessAllowed ? 'block' : 'none';\n",
              "\n",
              "        async function convertToInteractive(key) {\n",
              "          const element = document.querySelector('#df-ee186180-9d59-4640-9522-8996087f8fc2');\n",
              "          const dataTable =\n",
              "            await google.colab.kernel.invokeFunction('convertToInteractive',\n",
              "                                                     [key], {});\n",
              "          if (!dataTable) return;\n",
              "\n",
              "          const docLinkHtml = 'Like what you see? Visit the ' +\n",
              "            '<a target=\"_blank\" href=https://colab.research.google.com/notebooks/data_table.ipynb>data table notebook</a>'\n",
              "            + ' to learn more about interactive tables.';\n",
              "          element.innerHTML = '';\n",
              "          dataTable['output_type'] = 'display_data';\n",
              "          await google.colab.output.renderOutput(dataTable, element);\n",
              "          const docLink = document.createElement('div');\n",
              "          docLink.innerHTML = docLinkHtml;\n",
              "          element.appendChild(docLink);\n",
              "        }\n",
              "      </script>\n",
              "    </div>\n",
              "  </div>\n",
              "  "
            ]
          },
          "metadata": {},
          "execution_count": 93
        }
      ],
      "source": [
        "# view first rows of real arabic names\n",
        "real_arabic_names.head()"
      ]
    },
    {
      "cell_type": "code",
      "execution_count": 94,
      "id": "179df16b",
      "metadata": {
        "colab": {
          "base_uri": "https://localhost:8080/",
          "height": 206
        },
        "id": "179df16b",
        "outputId": "537454d8-2440-41a7-939a-a46dc395f06e",
        "scrolled": true
      },
      "outputs": [
        {
          "output_type": "execute_result",
          "data": {
            "text/plain": [
              "       Name Gender\n",
              "1400   وهبة      M\n",
              "1401   ياسر      M\n",
              "1402   يحيى      M\n",
              "1403   يزيد      M\n",
              "1404  يعقوب      M"
            ],
            "text/html": [
              "\n",
              "  <div id=\"df-49001259-740f-42e1-b759-ece727a4387b\">\n",
              "    <div class=\"colab-df-container\">\n",
              "      <div>\n",
              "<style scoped>\n",
              "    .dataframe tbody tr th:only-of-type {\n",
              "        vertical-align: middle;\n",
              "    }\n",
              "\n",
              "    .dataframe tbody tr th {\n",
              "        vertical-align: top;\n",
              "    }\n",
              "\n",
              "    .dataframe thead th {\n",
              "        text-align: right;\n",
              "    }\n",
              "</style>\n",
              "<table border=\"1\" class=\"dataframe\">\n",
              "  <thead>\n",
              "    <tr style=\"text-align: right;\">\n",
              "      <th></th>\n",
              "      <th>Name</th>\n",
              "      <th>Gender</th>\n",
              "    </tr>\n",
              "  </thead>\n",
              "  <tbody>\n",
              "    <tr>\n",
              "      <th>1400</th>\n",
              "      <td>وهبة</td>\n",
              "      <td>M</td>\n",
              "    </tr>\n",
              "    <tr>\n",
              "      <th>1401</th>\n",
              "      <td>ياسر</td>\n",
              "      <td>M</td>\n",
              "    </tr>\n",
              "    <tr>\n",
              "      <th>1402</th>\n",
              "      <td>يحيى</td>\n",
              "      <td>M</td>\n",
              "    </tr>\n",
              "    <tr>\n",
              "      <th>1403</th>\n",
              "      <td>يزيد</td>\n",
              "      <td>M</td>\n",
              "    </tr>\n",
              "    <tr>\n",
              "      <th>1404</th>\n",
              "      <td>يعقوب</td>\n",
              "      <td>M</td>\n",
              "    </tr>\n",
              "  </tbody>\n",
              "</table>\n",
              "</div>\n",
              "      <button class=\"colab-df-convert\" onclick=\"convertToInteractive('df-49001259-740f-42e1-b759-ece727a4387b')\"\n",
              "              title=\"Convert this dataframe to an interactive table.\"\n",
              "              style=\"display:none;\">\n",
              "        \n",
              "  <svg xmlns=\"http://www.w3.org/2000/svg\" height=\"24px\"viewBox=\"0 0 24 24\"\n",
              "       width=\"24px\">\n",
              "    <path d=\"M0 0h24v24H0V0z\" fill=\"none\"/>\n",
              "    <path d=\"M18.56 5.44l.94 2.06.94-2.06 2.06-.94-2.06-.94-.94-2.06-.94 2.06-2.06.94zm-11 1L8.5 8.5l.94-2.06 2.06-.94-2.06-.94L8.5 2.5l-.94 2.06-2.06.94zm10 10l.94 2.06.94-2.06 2.06-.94-2.06-.94-.94-2.06-.94 2.06-2.06.94z\"/><path d=\"M17.41 7.96l-1.37-1.37c-.4-.4-.92-.59-1.43-.59-.52 0-1.04.2-1.43.59L10.3 9.45l-7.72 7.72c-.78.78-.78 2.05 0 2.83L4 21.41c.39.39.9.59 1.41.59.51 0 1.02-.2 1.41-.59l7.78-7.78 2.81-2.81c.8-.78.8-2.07 0-2.86zM5.41 20L4 18.59l7.72-7.72 1.47 1.35L5.41 20z\"/>\n",
              "  </svg>\n",
              "      </button>\n",
              "      \n",
              "  <style>\n",
              "    .colab-df-container {\n",
              "      display:flex;\n",
              "      flex-wrap:wrap;\n",
              "      gap: 12px;\n",
              "    }\n",
              "\n",
              "    .colab-df-convert {\n",
              "      background-color: #E8F0FE;\n",
              "      border: none;\n",
              "      border-radius: 50%;\n",
              "      cursor: pointer;\n",
              "      display: none;\n",
              "      fill: #1967D2;\n",
              "      height: 32px;\n",
              "      padding: 0 0 0 0;\n",
              "      width: 32px;\n",
              "    }\n",
              "\n",
              "    .colab-df-convert:hover {\n",
              "      background-color: #E2EBFA;\n",
              "      box-shadow: 0px 1px 2px rgba(60, 64, 67, 0.3), 0px 1px 3px 1px rgba(60, 64, 67, 0.15);\n",
              "      fill: #174EA6;\n",
              "    }\n",
              "\n",
              "    [theme=dark] .colab-df-convert {\n",
              "      background-color: #3B4455;\n",
              "      fill: #D2E3FC;\n",
              "    }\n",
              "\n",
              "    [theme=dark] .colab-df-convert:hover {\n",
              "      background-color: #434B5C;\n",
              "      box-shadow: 0px 1px 3px 1px rgba(0, 0, 0, 0.15);\n",
              "      filter: drop-shadow(0px 1px 2px rgba(0, 0, 0, 0.3));\n",
              "      fill: #FFFFFF;\n",
              "    }\n",
              "  </style>\n",
              "\n",
              "      <script>\n",
              "        const buttonEl =\n",
              "          document.querySelector('#df-49001259-740f-42e1-b759-ece727a4387b button.colab-df-convert');\n",
              "        buttonEl.style.display =\n",
              "          google.colab.kernel.accessAllowed ? 'block' : 'none';\n",
              "\n",
              "        async function convertToInteractive(key) {\n",
              "          const element = document.querySelector('#df-49001259-740f-42e1-b759-ece727a4387b');\n",
              "          const dataTable =\n",
              "            await google.colab.kernel.invokeFunction('convertToInteractive',\n",
              "                                                     [key], {});\n",
              "          if (!dataTable) return;\n",
              "\n",
              "          const docLinkHtml = 'Like what you see? Visit the ' +\n",
              "            '<a target=\"_blank\" href=https://colab.research.google.com/notebooks/data_table.ipynb>data table notebook</a>'\n",
              "            + ' to learn more about interactive tables.';\n",
              "          element.innerHTML = '';\n",
              "          dataTable['output_type'] = 'display_data';\n",
              "          await google.colab.output.renderOutput(dataTable, element);\n",
              "          const docLink = document.createElement('div');\n",
              "          docLink.innerHTML = docLinkHtml;\n",
              "          element.appendChild(docLink);\n",
              "        }\n",
              "      </script>\n",
              "    </div>\n",
              "  </div>\n",
              "  "
            ]
          },
          "metadata": {},
          "execution_count": 94
        }
      ],
      "source": [
        "# view last 5 rows of arabic names\n",
        "real_arabic_names.tail()"
      ]
    },
    {
      "cell_type": "code",
      "execution_count": 95,
      "id": "a51fa4a9",
      "metadata": {
        "colab": {
          "base_uri": "https://localhost:8080/",
          "height": 206
        },
        "id": "a51fa4a9",
        "outputId": "5c19deca-1185-4c08-94d4-f9e450116047"
      },
      "outputs": [
        {
          "output_type": "execute_result",
          "data": {
            "text/plain": [
              "       Name\n",
              "0      أبان\n",
              "1   أبو بكر\n",
              "2  أبو حمزة\n",
              "3       أحد\n",
              "4      أحمد"
            ],
            "text/html": [
              "\n",
              "  <div id=\"df-abbcf452-7e11-414e-a87b-47409d64e0de\">\n",
              "    <div class=\"colab-df-container\">\n",
              "      <div>\n",
              "<style scoped>\n",
              "    .dataframe tbody tr th:only-of-type {\n",
              "        vertical-align: middle;\n",
              "    }\n",
              "\n",
              "    .dataframe tbody tr th {\n",
              "        vertical-align: top;\n",
              "    }\n",
              "\n",
              "    .dataframe thead th {\n",
              "        text-align: right;\n",
              "    }\n",
              "</style>\n",
              "<table border=\"1\" class=\"dataframe\">\n",
              "  <thead>\n",
              "    <tr style=\"text-align: right;\">\n",
              "      <th></th>\n",
              "      <th>Name</th>\n",
              "    </tr>\n",
              "  </thead>\n",
              "  <tbody>\n",
              "    <tr>\n",
              "      <th>0</th>\n",
              "      <td>أبان</td>\n",
              "    </tr>\n",
              "    <tr>\n",
              "      <th>1</th>\n",
              "      <td>أبو بكر</td>\n",
              "    </tr>\n",
              "    <tr>\n",
              "      <th>2</th>\n",
              "      <td>أبو حمزة</td>\n",
              "    </tr>\n",
              "    <tr>\n",
              "      <th>3</th>\n",
              "      <td>أحد</td>\n",
              "    </tr>\n",
              "    <tr>\n",
              "      <th>4</th>\n",
              "      <td>أحمد</td>\n",
              "    </tr>\n",
              "  </tbody>\n",
              "</table>\n",
              "</div>\n",
              "      <button class=\"colab-df-convert\" onclick=\"convertToInteractive('df-abbcf452-7e11-414e-a87b-47409d64e0de')\"\n",
              "              title=\"Convert this dataframe to an interactive table.\"\n",
              "              style=\"display:none;\">\n",
              "        \n",
              "  <svg xmlns=\"http://www.w3.org/2000/svg\" height=\"24px\"viewBox=\"0 0 24 24\"\n",
              "       width=\"24px\">\n",
              "    <path d=\"M0 0h24v24H0V0z\" fill=\"none\"/>\n",
              "    <path d=\"M18.56 5.44l.94 2.06.94-2.06 2.06-.94-2.06-.94-.94-2.06-.94 2.06-2.06.94zm-11 1L8.5 8.5l.94-2.06 2.06-.94-2.06-.94L8.5 2.5l-.94 2.06-2.06.94zm10 10l.94 2.06.94-2.06 2.06-.94-2.06-.94-.94-2.06-.94 2.06-2.06.94z\"/><path d=\"M17.41 7.96l-1.37-1.37c-.4-.4-.92-.59-1.43-.59-.52 0-1.04.2-1.43.59L10.3 9.45l-7.72 7.72c-.78.78-.78 2.05 0 2.83L4 21.41c.39.39.9.59 1.41.59.51 0 1.02-.2 1.41-.59l7.78-7.78 2.81-2.81c.8-.78.8-2.07 0-2.86zM5.41 20L4 18.59l7.72-7.72 1.47 1.35L5.41 20z\"/>\n",
              "  </svg>\n",
              "      </button>\n",
              "      \n",
              "  <style>\n",
              "    .colab-df-container {\n",
              "      display:flex;\n",
              "      flex-wrap:wrap;\n",
              "      gap: 12px;\n",
              "    }\n",
              "\n",
              "    .colab-df-convert {\n",
              "      background-color: #E8F0FE;\n",
              "      border: none;\n",
              "      border-radius: 50%;\n",
              "      cursor: pointer;\n",
              "      display: none;\n",
              "      fill: #1967D2;\n",
              "      height: 32px;\n",
              "      padding: 0 0 0 0;\n",
              "      width: 32px;\n",
              "    }\n",
              "\n",
              "    .colab-df-convert:hover {\n",
              "      background-color: #E2EBFA;\n",
              "      box-shadow: 0px 1px 2px rgba(60, 64, 67, 0.3), 0px 1px 3px 1px rgba(60, 64, 67, 0.15);\n",
              "      fill: #174EA6;\n",
              "    }\n",
              "\n",
              "    [theme=dark] .colab-df-convert {\n",
              "      background-color: #3B4455;\n",
              "      fill: #D2E3FC;\n",
              "    }\n",
              "\n",
              "    [theme=dark] .colab-df-convert:hover {\n",
              "      background-color: #434B5C;\n",
              "      box-shadow: 0px 1px 3px 1px rgba(0, 0, 0, 0.15);\n",
              "      filter: drop-shadow(0px 1px 2px rgba(0, 0, 0, 0.3));\n",
              "      fill: #FFFFFF;\n",
              "    }\n",
              "  </style>\n",
              "\n",
              "      <script>\n",
              "        const buttonEl =\n",
              "          document.querySelector('#df-abbcf452-7e11-414e-a87b-47409d64e0de button.colab-df-convert');\n",
              "        buttonEl.style.display =\n",
              "          google.colab.kernel.accessAllowed ? 'block' : 'none';\n",
              "\n",
              "        async function convertToInteractive(key) {\n",
              "          const element = document.querySelector('#df-abbcf452-7e11-414e-a87b-47409d64e0de');\n",
              "          const dataTable =\n",
              "            await google.colab.kernel.invokeFunction('convertToInteractive',\n",
              "                                                     [key], {});\n",
              "          if (!dataTable) return;\n",
              "\n",
              "          const docLinkHtml = 'Like what you see? Visit the ' +\n",
              "            '<a target=\"_blank\" href=https://colab.research.google.com/notebooks/data_table.ipynb>data table notebook</a>'\n",
              "            + ' to learn more about interactive tables.';\n",
              "          element.innerHTML = '';\n",
              "          dataTable['output_type'] = 'display_data';\n",
              "          await google.colab.output.renderOutput(dataTable, element);\n",
              "          const docLink = document.createElement('div');\n",
              "          docLink.innerHTML = docLinkHtml;\n",
              "          element.appendChild(docLink);\n",
              "        }\n",
              "      </script>\n",
              "    </div>\n",
              "  </div>\n",
              "  "
            ]
          },
          "metadata": {},
          "execution_count": 95
        }
      ],
      "source": [
        "# view first 5 rows of male names\n",
        "male.head()"
      ]
    },
    {
      "cell_type": "code",
      "execution_count": 96,
      "id": "e8732e57",
      "metadata": {
        "colab": {
          "base_uri": "https://localhost:8080/",
          "height": 206
        },
        "id": "e8732e57",
        "outputId": "b982020f-9430-441c-e380-adfbdabfba2c"
      },
      "outputs": [
        {
          "output_type": "execute_result",
          "data": {
            "text/plain": [
              "     Name\n",
              "635  وفيق\n",
              "636  وهاب\n",
              "637  وهبة\n",
              "638  ياسر\n",
              "639  يحيى"
            ],
            "text/html": [
              "\n",
              "  <div id=\"df-82fae9c1-7461-46ec-b47e-caeda7d972d4\">\n",
              "    <div class=\"colab-df-container\">\n",
              "      <div>\n",
              "<style scoped>\n",
              "    .dataframe tbody tr th:only-of-type {\n",
              "        vertical-align: middle;\n",
              "    }\n",
              "\n",
              "    .dataframe tbody tr th {\n",
              "        vertical-align: top;\n",
              "    }\n",
              "\n",
              "    .dataframe thead th {\n",
              "        text-align: right;\n",
              "    }\n",
              "</style>\n",
              "<table border=\"1\" class=\"dataframe\">\n",
              "  <thead>\n",
              "    <tr style=\"text-align: right;\">\n",
              "      <th></th>\n",
              "      <th>Name</th>\n",
              "    </tr>\n",
              "  </thead>\n",
              "  <tbody>\n",
              "    <tr>\n",
              "      <th>635</th>\n",
              "      <td>وفيق</td>\n",
              "    </tr>\n",
              "    <tr>\n",
              "      <th>636</th>\n",
              "      <td>وهاب</td>\n",
              "    </tr>\n",
              "    <tr>\n",
              "      <th>637</th>\n",
              "      <td>وهبة</td>\n",
              "    </tr>\n",
              "    <tr>\n",
              "      <th>638</th>\n",
              "      <td>ياسر</td>\n",
              "    </tr>\n",
              "    <tr>\n",
              "      <th>639</th>\n",
              "      <td>يحيى</td>\n",
              "    </tr>\n",
              "  </tbody>\n",
              "</table>\n",
              "</div>\n",
              "      <button class=\"colab-df-convert\" onclick=\"convertToInteractive('df-82fae9c1-7461-46ec-b47e-caeda7d972d4')\"\n",
              "              title=\"Convert this dataframe to an interactive table.\"\n",
              "              style=\"display:none;\">\n",
              "        \n",
              "  <svg xmlns=\"http://www.w3.org/2000/svg\" height=\"24px\"viewBox=\"0 0 24 24\"\n",
              "       width=\"24px\">\n",
              "    <path d=\"M0 0h24v24H0V0z\" fill=\"none\"/>\n",
              "    <path d=\"M18.56 5.44l.94 2.06.94-2.06 2.06-.94-2.06-.94-.94-2.06-.94 2.06-2.06.94zm-11 1L8.5 8.5l.94-2.06 2.06-.94-2.06-.94L8.5 2.5l-.94 2.06-2.06.94zm10 10l.94 2.06.94-2.06 2.06-.94-2.06-.94-.94-2.06-.94 2.06-2.06.94z\"/><path d=\"M17.41 7.96l-1.37-1.37c-.4-.4-.92-.59-1.43-.59-.52 0-1.04.2-1.43.59L10.3 9.45l-7.72 7.72c-.78.78-.78 2.05 0 2.83L4 21.41c.39.39.9.59 1.41.59.51 0 1.02-.2 1.41-.59l7.78-7.78 2.81-2.81c.8-.78.8-2.07 0-2.86zM5.41 20L4 18.59l7.72-7.72 1.47 1.35L5.41 20z\"/>\n",
              "  </svg>\n",
              "      </button>\n",
              "      \n",
              "  <style>\n",
              "    .colab-df-container {\n",
              "      display:flex;\n",
              "      flex-wrap:wrap;\n",
              "      gap: 12px;\n",
              "    }\n",
              "\n",
              "    .colab-df-convert {\n",
              "      background-color: #E8F0FE;\n",
              "      border: none;\n",
              "      border-radius: 50%;\n",
              "      cursor: pointer;\n",
              "      display: none;\n",
              "      fill: #1967D2;\n",
              "      height: 32px;\n",
              "      padding: 0 0 0 0;\n",
              "      width: 32px;\n",
              "    }\n",
              "\n",
              "    .colab-df-convert:hover {\n",
              "      background-color: #E2EBFA;\n",
              "      box-shadow: 0px 1px 2px rgba(60, 64, 67, 0.3), 0px 1px 3px 1px rgba(60, 64, 67, 0.15);\n",
              "      fill: #174EA6;\n",
              "    }\n",
              "\n",
              "    [theme=dark] .colab-df-convert {\n",
              "      background-color: #3B4455;\n",
              "      fill: #D2E3FC;\n",
              "    }\n",
              "\n",
              "    [theme=dark] .colab-df-convert:hover {\n",
              "      background-color: #434B5C;\n",
              "      box-shadow: 0px 1px 3px 1px rgba(0, 0, 0, 0.15);\n",
              "      filter: drop-shadow(0px 1px 2px rgba(0, 0, 0, 0.3));\n",
              "      fill: #FFFFFF;\n",
              "    }\n",
              "  </style>\n",
              "\n",
              "      <script>\n",
              "        const buttonEl =\n",
              "          document.querySelector('#df-82fae9c1-7461-46ec-b47e-caeda7d972d4 button.colab-df-convert');\n",
              "        buttonEl.style.display =\n",
              "          google.colab.kernel.accessAllowed ? 'block' : 'none';\n",
              "\n",
              "        async function convertToInteractive(key) {\n",
              "          const element = document.querySelector('#df-82fae9c1-7461-46ec-b47e-caeda7d972d4');\n",
              "          const dataTable =\n",
              "            await google.colab.kernel.invokeFunction('convertToInteractive',\n",
              "                                                     [key], {});\n",
              "          if (!dataTable) return;\n",
              "\n",
              "          const docLinkHtml = 'Like what you see? Visit the ' +\n",
              "            '<a target=\"_blank\" href=https://colab.research.google.com/notebooks/data_table.ipynb>data table notebook</a>'\n",
              "            + ' to learn more about interactive tables.';\n",
              "          element.innerHTML = '';\n",
              "          dataTable['output_type'] = 'display_data';\n",
              "          await google.colab.output.renderOutput(dataTable, element);\n",
              "          const docLink = document.createElement('div');\n",
              "          docLink.innerHTML = docLinkHtml;\n",
              "          element.appendChild(docLink);\n",
              "        }\n",
              "      </script>\n",
              "    </div>\n",
              "  </div>\n",
              "  "
            ]
          },
          "metadata": {},
          "execution_count": 96
        }
      ],
      "source": [
        "# view last 5 rows of male names\n",
        "male.tail()"
      ]
    },
    {
      "cell_type": "code",
      "execution_count": 97,
      "id": "bed98911",
      "metadata": {
        "colab": {
          "base_uri": "https://localhost:8080/",
          "height": 206
        },
        "id": "bed98911",
        "outputId": "b93ccd1c-7b2a-4e90-d147-496265747d0e"
      },
      "outputs": [
        {
          "output_type": "execute_result",
          "data": {
            "text/plain": [
              "   Name\n",
              "0  آيات\n",
              "1  آلاء\n",
              "2  آمال\n",
              "3  آمنة\n",
              "4  آيات"
            ],
            "text/html": [
              "\n",
              "  <div id=\"df-f3099160-dd0c-4969-80bc-57b9d9363d6c\">\n",
              "    <div class=\"colab-df-container\">\n",
              "      <div>\n",
              "<style scoped>\n",
              "    .dataframe tbody tr th:only-of-type {\n",
              "        vertical-align: middle;\n",
              "    }\n",
              "\n",
              "    .dataframe tbody tr th {\n",
              "        vertical-align: top;\n",
              "    }\n",
              "\n",
              "    .dataframe thead th {\n",
              "        text-align: right;\n",
              "    }\n",
              "</style>\n",
              "<table border=\"1\" class=\"dataframe\">\n",
              "  <thead>\n",
              "    <tr style=\"text-align: right;\">\n",
              "      <th></th>\n",
              "      <th>Name</th>\n",
              "    </tr>\n",
              "  </thead>\n",
              "  <tbody>\n",
              "    <tr>\n",
              "      <th>0</th>\n",
              "      <td>آيات</td>\n",
              "    </tr>\n",
              "    <tr>\n",
              "      <th>1</th>\n",
              "      <td>آلاء</td>\n",
              "    </tr>\n",
              "    <tr>\n",
              "      <th>2</th>\n",
              "      <td>آمال</td>\n",
              "    </tr>\n",
              "    <tr>\n",
              "      <th>3</th>\n",
              "      <td>آمنة</td>\n",
              "    </tr>\n",
              "    <tr>\n",
              "      <th>4</th>\n",
              "      <td>آيات</td>\n",
              "    </tr>\n",
              "  </tbody>\n",
              "</table>\n",
              "</div>\n",
              "      <button class=\"colab-df-convert\" onclick=\"convertToInteractive('df-f3099160-dd0c-4969-80bc-57b9d9363d6c')\"\n",
              "              title=\"Convert this dataframe to an interactive table.\"\n",
              "              style=\"display:none;\">\n",
              "        \n",
              "  <svg xmlns=\"http://www.w3.org/2000/svg\" height=\"24px\"viewBox=\"0 0 24 24\"\n",
              "       width=\"24px\">\n",
              "    <path d=\"M0 0h24v24H0V0z\" fill=\"none\"/>\n",
              "    <path d=\"M18.56 5.44l.94 2.06.94-2.06 2.06-.94-2.06-.94-.94-2.06-.94 2.06-2.06.94zm-11 1L8.5 8.5l.94-2.06 2.06-.94-2.06-.94L8.5 2.5l-.94 2.06-2.06.94zm10 10l.94 2.06.94-2.06 2.06-.94-2.06-.94-.94-2.06-.94 2.06-2.06.94z\"/><path d=\"M17.41 7.96l-1.37-1.37c-.4-.4-.92-.59-1.43-.59-.52 0-1.04.2-1.43.59L10.3 9.45l-7.72 7.72c-.78.78-.78 2.05 0 2.83L4 21.41c.39.39.9.59 1.41.59.51 0 1.02-.2 1.41-.59l7.78-7.78 2.81-2.81c.8-.78.8-2.07 0-2.86zM5.41 20L4 18.59l7.72-7.72 1.47 1.35L5.41 20z\"/>\n",
              "  </svg>\n",
              "      </button>\n",
              "      \n",
              "  <style>\n",
              "    .colab-df-container {\n",
              "      display:flex;\n",
              "      flex-wrap:wrap;\n",
              "      gap: 12px;\n",
              "    }\n",
              "\n",
              "    .colab-df-convert {\n",
              "      background-color: #E8F0FE;\n",
              "      border: none;\n",
              "      border-radius: 50%;\n",
              "      cursor: pointer;\n",
              "      display: none;\n",
              "      fill: #1967D2;\n",
              "      height: 32px;\n",
              "      padding: 0 0 0 0;\n",
              "      width: 32px;\n",
              "    }\n",
              "\n",
              "    .colab-df-convert:hover {\n",
              "      background-color: #E2EBFA;\n",
              "      box-shadow: 0px 1px 2px rgba(60, 64, 67, 0.3), 0px 1px 3px 1px rgba(60, 64, 67, 0.15);\n",
              "      fill: #174EA6;\n",
              "    }\n",
              "\n",
              "    [theme=dark] .colab-df-convert {\n",
              "      background-color: #3B4455;\n",
              "      fill: #D2E3FC;\n",
              "    }\n",
              "\n",
              "    [theme=dark] .colab-df-convert:hover {\n",
              "      background-color: #434B5C;\n",
              "      box-shadow: 0px 1px 3px 1px rgba(0, 0, 0, 0.15);\n",
              "      filter: drop-shadow(0px 1px 2px rgba(0, 0, 0, 0.3));\n",
              "      fill: #FFFFFF;\n",
              "    }\n",
              "  </style>\n",
              "\n",
              "      <script>\n",
              "        const buttonEl =\n",
              "          document.querySelector('#df-f3099160-dd0c-4969-80bc-57b9d9363d6c button.colab-df-convert');\n",
              "        buttonEl.style.display =\n",
              "          google.colab.kernel.accessAllowed ? 'block' : 'none';\n",
              "\n",
              "        async function convertToInteractive(key) {\n",
              "          const element = document.querySelector('#df-f3099160-dd0c-4969-80bc-57b9d9363d6c');\n",
              "          const dataTable =\n",
              "            await google.colab.kernel.invokeFunction('convertToInteractive',\n",
              "                                                     [key], {});\n",
              "          if (!dataTable) return;\n",
              "\n",
              "          const docLinkHtml = 'Like what you see? Visit the ' +\n",
              "            '<a target=\"_blank\" href=https://colab.research.google.com/notebooks/data_table.ipynb>data table notebook</a>'\n",
              "            + ' to learn more about interactive tables.';\n",
              "          element.innerHTML = '';\n",
              "          dataTable['output_type'] = 'display_data';\n",
              "          await google.colab.output.renderOutput(dataTable, element);\n",
              "          const docLink = document.createElement('div');\n",
              "          docLink.innerHTML = docLinkHtml;\n",
              "          element.appendChild(docLink);\n",
              "        }\n",
              "      </script>\n",
              "    </div>\n",
              "  </div>\n",
              "  "
            ]
          },
          "metadata": {},
          "execution_count": 97
        }
      ],
      "source": [
        "# view first 5 rows of female names\n",
        "female.head()"
      ]
    },
    {
      "cell_type": "code",
      "execution_count": 98,
      "id": "113ed4bb",
      "metadata": {
        "colab": {
          "base_uri": "https://localhost:8080/",
          "height": 206
        },
        "id": "113ed4bb",
        "outputId": "1ccccfd3-d46c-4c1d-8fbf-16454a3aad87"
      },
      "outputs": [
        {
          "output_type": "execute_result",
          "data": {
            "text/plain": [
              "       Name\n",
              "411    وميض\n",
              "412    وهبة\n",
              "413    يارا\n",
              "414  ياسمين\n",
              "415    يسرا"
            ],
            "text/html": [
              "\n",
              "  <div id=\"df-bfc2e46c-5146-4eab-ae3b-a5b2421d0f20\">\n",
              "    <div class=\"colab-df-container\">\n",
              "      <div>\n",
              "<style scoped>\n",
              "    .dataframe tbody tr th:only-of-type {\n",
              "        vertical-align: middle;\n",
              "    }\n",
              "\n",
              "    .dataframe tbody tr th {\n",
              "        vertical-align: top;\n",
              "    }\n",
              "\n",
              "    .dataframe thead th {\n",
              "        text-align: right;\n",
              "    }\n",
              "</style>\n",
              "<table border=\"1\" class=\"dataframe\">\n",
              "  <thead>\n",
              "    <tr style=\"text-align: right;\">\n",
              "      <th></th>\n",
              "      <th>Name</th>\n",
              "    </tr>\n",
              "  </thead>\n",
              "  <tbody>\n",
              "    <tr>\n",
              "      <th>411</th>\n",
              "      <td>وميض</td>\n",
              "    </tr>\n",
              "    <tr>\n",
              "      <th>412</th>\n",
              "      <td>وهبة</td>\n",
              "    </tr>\n",
              "    <tr>\n",
              "      <th>413</th>\n",
              "      <td>يارا</td>\n",
              "    </tr>\n",
              "    <tr>\n",
              "      <th>414</th>\n",
              "      <td>ياسمين</td>\n",
              "    </tr>\n",
              "    <tr>\n",
              "      <th>415</th>\n",
              "      <td>يسرا</td>\n",
              "    </tr>\n",
              "  </tbody>\n",
              "</table>\n",
              "</div>\n",
              "      <button class=\"colab-df-convert\" onclick=\"convertToInteractive('df-bfc2e46c-5146-4eab-ae3b-a5b2421d0f20')\"\n",
              "              title=\"Convert this dataframe to an interactive table.\"\n",
              "              style=\"display:none;\">\n",
              "        \n",
              "  <svg xmlns=\"http://www.w3.org/2000/svg\" height=\"24px\"viewBox=\"0 0 24 24\"\n",
              "       width=\"24px\">\n",
              "    <path d=\"M0 0h24v24H0V0z\" fill=\"none\"/>\n",
              "    <path d=\"M18.56 5.44l.94 2.06.94-2.06 2.06-.94-2.06-.94-.94-2.06-.94 2.06-2.06.94zm-11 1L8.5 8.5l.94-2.06 2.06-.94-2.06-.94L8.5 2.5l-.94 2.06-2.06.94zm10 10l.94 2.06.94-2.06 2.06-.94-2.06-.94-.94-2.06-.94 2.06-2.06.94z\"/><path d=\"M17.41 7.96l-1.37-1.37c-.4-.4-.92-.59-1.43-.59-.52 0-1.04.2-1.43.59L10.3 9.45l-7.72 7.72c-.78.78-.78 2.05 0 2.83L4 21.41c.39.39.9.59 1.41.59.51 0 1.02-.2 1.41-.59l7.78-7.78 2.81-2.81c.8-.78.8-2.07 0-2.86zM5.41 20L4 18.59l7.72-7.72 1.47 1.35L5.41 20z\"/>\n",
              "  </svg>\n",
              "      </button>\n",
              "      \n",
              "  <style>\n",
              "    .colab-df-container {\n",
              "      display:flex;\n",
              "      flex-wrap:wrap;\n",
              "      gap: 12px;\n",
              "    }\n",
              "\n",
              "    .colab-df-convert {\n",
              "      background-color: #E8F0FE;\n",
              "      border: none;\n",
              "      border-radius: 50%;\n",
              "      cursor: pointer;\n",
              "      display: none;\n",
              "      fill: #1967D2;\n",
              "      height: 32px;\n",
              "      padding: 0 0 0 0;\n",
              "      width: 32px;\n",
              "    }\n",
              "\n",
              "    .colab-df-convert:hover {\n",
              "      background-color: #E2EBFA;\n",
              "      box-shadow: 0px 1px 2px rgba(60, 64, 67, 0.3), 0px 1px 3px 1px rgba(60, 64, 67, 0.15);\n",
              "      fill: #174EA6;\n",
              "    }\n",
              "\n",
              "    [theme=dark] .colab-df-convert {\n",
              "      background-color: #3B4455;\n",
              "      fill: #D2E3FC;\n",
              "    }\n",
              "\n",
              "    [theme=dark] .colab-df-convert:hover {\n",
              "      background-color: #434B5C;\n",
              "      box-shadow: 0px 1px 3px 1px rgba(0, 0, 0, 0.15);\n",
              "      filter: drop-shadow(0px 1px 2px rgba(0, 0, 0, 0.3));\n",
              "      fill: #FFFFFF;\n",
              "    }\n",
              "  </style>\n",
              "\n",
              "      <script>\n",
              "        const buttonEl =\n",
              "          document.querySelector('#df-bfc2e46c-5146-4eab-ae3b-a5b2421d0f20 button.colab-df-convert');\n",
              "        buttonEl.style.display =\n",
              "          google.colab.kernel.accessAllowed ? 'block' : 'none';\n",
              "\n",
              "        async function convertToInteractive(key) {\n",
              "          const element = document.querySelector('#df-bfc2e46c-5146-4eab-ae3b-a5b2421d0f20');\n",
              "          const dataTable =\n",
              "            await google.colab.kernel.invokeFunction('convertToInteractive',\n",
              "                                                     [key], {});\n",
              "          if (!dataTable) return;\n",
              "\n",
              "          const docLinkHtml = 'Like what you see? Visit the ' +\n",
              "            '<a target=\"_blank\" href=https://colab.research.google.com/notebooks/data_table.ipynb>data table notebook</a>'\n",
              "            + ' to learn more about interactive tables.';\n",
              "          element.innerHTML = '';\n",
              "          dataTable['output_type'] = 'display_data';\n",
              "          await google.colab.output.renderOutput(dataTable, element);\n",
              "          const docLink = document.createElement('div');\n",
              "          docLink.innerHTML = docLinkHtml;\n",
              "          element.appendChild(docLink);\n",
              "        }\n",
              "      </script>\n",
              "    </div>\n",
              "  </div>\n",
              "  "
            ]
          },
          "metadata": {},
          "execution_count": 98
        }
      ],
      "source": [
        "# view last 5 rows of female names\n",
        "female.tail()"
      ]
    },
    {
      "cell_type": "code",
      "execution_count": 99,
      "id": "583a5a06",
      "metadata": {
        "id": "583a5a06"
      },
      "outputs": [],
      "source": [
        "# add gender column to male and female names\n",
        "male['Gender'] = 'M'\n",
        "female['Gender'] = 'F'"
      ]
    },
    {
      "cell_type": "code",
      "execution_count": 100,
      "id": "e9ee5014",
      "metadata": {
        "id": "e9ee5014",
        "scrolled": true
      },
      "outputs": [],
      "source": [
        "# merge male names with female names\n",
        "names = pd.concat([male,female])\n",
        "# merge the result with arabic names\n",
        "real_names = pd.concat([real_arabic_names,names])"
      ]
    },
    {
      "cell_type": "code",
      "execution_count": 101,
      "id": "0eee755b",
      "metadata": {
        "id": "0eee755b"
      },
      "outputs": [],
      "source": [
        "# add label column to the arabic names datasets that identifies that these names are real names\n",
        "real_names['Label'] = 'Real'"
      ]
    },
    {
      "cell_type": "code",
      "execution_count": 102,
      "id": "bde3a8dc",
      "metadata": {
        "colab": {
          "base_uri": "https://localhost:8080/"
        },
        "id": "bde3a8dc",
        "outputId": "5fe383a7-6cce-482d-f879-12c7e70c16e0"
      },
      "outputs": [
        {
          "output_type": "execute_result",
          "data": {
            "text/plain": [
              "(2461, 3)"
            ]
          },
          "metadata": {},
          "execution_count": 102
        }
      ],
      "source": [
        "# shape of the result of merging all real arabic names datasets\n",
        "real_names.shape"
      ]
    },
    {
      "cell_type": "code",
      "execution_count": 103,
      "id": "JtYJnH9SBxfD",
      "metadata": {
        "id": "JtYJnH9SBxfD"
      },
      "outputs": [],
      "source": [
        "def check_duplicates(data, text):\n",
        "  df = data\n",
        "  # check to see if there is duplicates in rows\n",
        "  print('Number of duplicated names are: ', df['Name'].duplicated().sum())\n",
        "  # create mask\n",
        "  duplicated_names_mask_fake = df['Name'].duplicated()\n",
        "  # new arabic names dataframe without any duplicated names\n",
        "  df = df[~ duplicated_names_mask_fake]\n",
        "  print('The shape of ', text, 'after deleting duplicates is:', df.shape)\n",
        "  # reset index\n",
        "  df = df.reset_index(drop=True)\n",
        "  return df"
      ]
    },
    {
      "cell_type": "code",
      "execution_count": 104,
      "id": "a23f2495",
      "metadata": {
        "colab": {
          "base_uri": "https://localhost:8080/"
        },
        "id": "a23f2495",
        "outputId": "c2f03ea8-23b5-4b6b-d9cf-2a19dc29a0d9"
      },
      "outputs": [
        {
          "output_type": "stream",
          "name": "stdout",
          "text": [
            "Number of duplicated names are:  909\n",
            "The shape of  real names after deleting duplicates is: (1552, 3)\n"
          ]
        }
      ],
      "source": [
        "# check and remove duplicates\n",
        "names = check_duplicates(real_names, 'real names')"
      ]
    },
    {
      "cell_type": "code",
      "execution_count": 105,
      "id": "6820629c",
      "metadata": {
        "colab": {
          "base_uri": "https://localhost:8080/"
        },
        "id": "6820629c",
        "outputId": "b99a40f4-2326-4103-b304-7503dbc911a5",
        "scrolled": true
      },
      "outputs": [
        {
          "output_type": "stream",
          "name": "stdout",
          "text": [
            "<class 'pandas.core.frame.DataFrame'>\n",
            "RangeIndex: 1552 entries, 0 to 1551\n",
            "Data columns (total 3 columns):\n",
            " #   Column  Non-Null Count  Dtype \n",
            "---  ------  --------------  ----- \n",
            " 0   Name    1552 non-null   object\n",
            " 1   Gender  1552 non-null   object\n",
            " 2   Label   1552 non-null   object\n",
            "dtypes: object(3)\n",
            "memory usage: 36.5+ KB\n"
          ]
        }
      ],
      "source": [
        "names.info()"
      ]
    },
    {
      "cell_type": "code",
      "execution_count": 106,
      "id": "67b450ae",
      "metadata": {
        "colab": {
          "base_uri": "https://localhost:8080/",
          "height": 175
        },
        "id": "67b450ae",
        "outputId": "cf49ba4a-5ee5-4606-92b7-eb6926c05953"
      },
      "outputs": [
        {
          "output_type": "execute_result",
          "data": {
            "text/plain": [
              "          Name Gender Label\n",
              "count     1552   1552  1552\n",
              "unique    1552      2     1\n",
              "top     ابتسام      M  Real\n",
              "freq         1    929  1552"
            ],
            "text/html": [
              "\n",
              "  <div id=\"df-72e9b00b-292b-45dc-be94-20632128c1fd\">\n",
              "    <div class=\"colab-df-container\">\n",
              "      <div>\n",
              "<style scoped>\n",
              "    .dataframe tbody tr th:only-of-type {\n",
              "        vertical-align: middle;\n",
              "    }\n",
              "\n",
              "    .dataframe tbody tr th {\n",
              "        vertical-align: top;\n",
              "    }\n",
              "\n",
              "    .dataframe thead th {\n",
              "        text-align: right;\n",
              "    }\n",
              "</style>\n",
              "<table border=\"1\" class=\"dataframe\">\n",
              "  <thead>\n",
              "    <tr style=\"text-align: right;\">\n",
              "      <th></th>\n",
              "      <th>Name</th>\n",
              "      <th>Gender</th>\n",
              "      <th>Label</th>\n",
              "    </tr>\n",
              "  </thead>\n",
              "  <tbody>\n",
              "    <tr>\n",
              "      <th>count</th>\n",
              "      <td>1552</td>\n",
              "      <td>1552</td>\n",
              "      <td>1552</td>\n",
              "    </tr>\n",
              "    <tr>\n",
              "      <th>unique</th>\n",
              "      <td>1552</td>\n",
              "      <td>2</td>\n",
              "      <td>1</td>\n",
              "    </tr>\n",
              "    <tr>\n",
              "      <th>top</th>\n",
              "      <td>ابتسام</td>\n",
              "      <td>M</td>\n",
              "      <td>Real</td>\n",
              "    </tr>\n",
              "    <tr>\n",
              "      <th>freq</th>\n",
              "      <td>1</td>\n",
              "      <td>929</td>\n",
              "      <td>1552</td>\n",
              "    </tr>\n",
              "  </tbody>\n",
              "</table>\n",
              "</div>\n",
              "      <button class=\"colab-df-convert\" onclick=\"convertToInteractive('df-72e9b00b-292b-45dc-be94-20632128c1fd')\"\n",
              "              title=\"Convert this dataframe to an interactive table.\"\n",
              "              style=\"display:none;\">\n",
              "        \n",
              "  <svg xmlns=\"http://www.w3.org/2000/svg\" height=\"24px\"viewBox=\"0 0 24 24\"\n",
              "       width=\"24px\">\n",
              "    <path d=\"M0 0h24v24H0V0z\" fill=\"none\"/>\n",
              "    <path d=\"M18.56 5.44l.94 2.06.94-2.06 2.06-.94-2.06-.94-.94-2.06-.94 2.06-2.06.94zm-11 1L8.5 8.5l.94-2.06 2.06-.94-2.06-.94L8.5 2.5l-.94 2.06-2.06.94zm10 10l.94 2.06.94-2.06 2.06-.94-2.06-.94-.94-2.06-.94 2.06-2.06.94z\"/><path d=\"M17.41 7.96l-1.37-1.37c-.4-.4-.92-.59-1.43-.59-.52 0-1.04.2-1.43.59L10.3 9.45l-7.72 7.72c-.78.78-.78 2.05 0 2.83L4 21.41c.39.39.9.59 1.41.59.51 0 1.02-.2 1.41-.59l7.78-7.78 2.81-2.81c.8-.78.8-2.07 0-2.86zM5.41 20L4 18.59l7.72-7.72 1.47 1.35L5.41 20z\"/>\n",
              "  </svg>\n",
              "      </button>\n",
              "      \n",
              "  <style>\n",
              "    .colab-df-container {\n",
              "      display:flex;\n",
              "      flex-wrap:wrap;\n",
              "      gap: 12px;\n",
              "    }\n",
              "\n",
              "    .colab-df-convert {\n",
              "      background-color: #E8F0FE;\n",
              "      border: none;\n",
              "      border-radius: 50%;\n",
              "      cursor: pointer;\n",
              "      display: none;\n",
              "      fill: #1967D2;\n",
              "      height: 32px;\n",
              "      padding: 0 0 0 0;\n",
              "      width: 32px;\n",
              "    }\n",
              "\n",
              "    .colab-df-convert:hover {\n",
              "      background-color: #E2EBFA;\n",
              "      box-shadow: 0px 1px 2px rgba(60, 64, 67, 0.3), 0px 1px 3px 1px rgba(60, 64, 67, 0.15);\n",
              "      fill: #174EA6;\n",
              "    }\n",
              "\n",
              "    [theme=dark] .colab-df-convert {\n",
              "      background-color: #3B4455;\n",
              "      fill: #D2E3FC;\n",
              "    }\n",
              "\n",
              "    [theme=dark] .colab-df-convert:hover {\n",
              "      background-color: #434B5C;\n",
              "      box-shadow: 0px 1px 3px 1px rgba(0, 0, 0, 0.15);\n",
              "      filter: drop-shadow(0px 1px 2px rgba(0, 0, 0, 0.3));\n",
              "      fill: #FFFFFF;\n",
              "    }\n",
              "  </style>\n",
              "\n",
              "      <script>\n",
              "        const buttonEl =\n",
              "          document.querySelector('#df-72e9b00b-292b-45dc-be94-20632128c1fd button.colab-df-convert');\n",
              "        buttonEl.style.display =\n",
              "          google.colab.kernel.accessAllowed ? 'block' : 'none';\n",
              "\n",
              "        async function convertToInteractive(key) {\n",
              "          const element = document.querySelector('#df-72e9b00b-292b-45dc-be94-20632128c1fd');\n",
              "          const dataTable =\n",
              "            await google.colab.kernel.invokeFunction('convertToInteractive',\n",
              "                                                     [key], {});\n",
              "          if (!dataTable) return;\n",
              "\n",
              "          const docLinkHtml = 'Like what you see? Visit the ' +\n",
              "            '<a target=\"_blank\" href=https://colab.research.google.com/notebooks/data_table.ipynb>data table notebook</a>'\n",
              "            + ' to learn more about interactive tables.';\n",
              "          element.innerHTML = '';\n",
              "          dataTable['output_type'] = 'display_data';\n",
              "          await google.colab.output.renderOutput(dataTable, element);\n",
              "          const docLink = document.createElement('div');\n",
              "          docLink.innerHTML = docLinkHtml;\n",
              "          element.appendChild(docLink);\n",
              "        }\n",
              "      </script>\n",
              "    </div>\n",
              "  </div>\n",
              "  "
            ]
          },
          "metadata": {},
          "execution_count": 106
        }
      ],
      "source": [
        "names.describe()"
      ]
    },
    {
      "cell_type": "markdown",
      "id": "6c3a007e",
      "metadata": {
        "id": "6c3a007e"
      },
      "source": [
        "## Data generation"
      ]
    },
    {
      "cell_type": "code",
      "execution_count": 107,
      "id": "700c7ea8",
      "metadata": {
        "id": "700c7ea8"
      },
      "outputs": [],
      "source": [
        "arabic_alphabet = ['ا', 'ب', 'ت', 'ث', 'ج', 'ح', 'خ', 'د', 'ذ', 'ر', 'ز', 'س', 'ش', 'ص', 'ض', 'ط', \n",
        "                     'ظ', 'ع', 'غ', 'ف', 'ق', 'ك', 'ل', 'م', 'ن', 'ه', 'و', 'ي', 'أ', 'ؤ', \n",
        "                     'ة', 'آ', 'ء', 'ئ', 'إ']"
      ]
    },
    {
      "cell_type": "code",
      "execution_count": 108,
      "id": "a5f1583f",
      "metadata": {
        "id": "a5f1583f"
      },
      "outputs": [],
      "source": [
        "class DataGenerator:\n",
        "    \n",
        "    def __init__(self, alpha):\n",
        "        self.alphabet = alpha\n",
        "    \n",
        "    def generate(self, mode, num_of_words, name, gender):\n",
        "        \"\"\"\n",
        "        Generates fake names based on the given name.\n",
        "\n",
        "        Parameters:\n",
        "        - mode: A string representing the mode of generation. Can be 'replace_char', 'delete_char', or 'add_char'.\n",
        "        - num_of_words: An integer representing the number of fake names to generate.\n",
        "        - name: A string representing the base name.\n",
        "        - gender: A string representing the gender of the name. Can be 'male' or 'female'.\n",
        "\n",
        "        Returns:\n",
        "        - A dictionary containing the generated names, genders, and labels. The dictionary has the following structure:\n",
        "        {\n",
        "            'Name': list of generated names (strings),\n",
        "            'Gender': list of genders (strings),\n",
        "            'Label': list of labels (strings)\n",
        "        }\n",
        "        \"\"\"\n",
        "        generated_names = []\n",
        "        generated_genders = []\n",
        "        while len(generated_names) < num_of_words:\n",
        "            random_index = random.randint(0, (len(name) - 1))\n",
        "            if mode == 'replace_char':\n",
        "                alpha_random_index = random.randint(0, (len(self.alphabet) - 1))\n",
        "                fake_name = name.replace(name[random_index], self.alphabet[alpha_random_index])\n",
        "            elif mode == 'delete_char':\n",
        "                fake_name = name.replace(name[random_index], \"\")\n",
        "            elif mode == 'add_char':\n",
        "                alpha_random_index = random.randint(0, (len(self.alphabet) - 1))\n",
        "                fake_name = name[:random_index] + self.alphabet[alpha_random_index] + name[random_index:]\n",
        "            if fake_name not in generated_names:\n",
        "                generated_names.append(fake_name)\n",
        "                generated_genders.append(gender)\n",
        "        return {\n",
        "            'Name': generated_names,\n",
        "            'Gender': generated_genders,\n",
        "            'Label': ['Fake'] * num_of_words\n",
        "        }\n",
        "    \n",
        "    def generate_full_name(self, mode, data, num_of_names):\n",
        "        \"\"\"\n",
        "        Generates full names based on the given data.\n",
        "\n",
        "        Parameters:\n",
        "        - mode: A string representing the mode of generation. Can be 'Real' or 'Fake'.\n",
        "        - data: A Pandas DataFrame containing names and genders. The DataFrame must have the following structure:\n",
        "        {\n",
        "            'Name': list of names (strings),\n",
        "            'Gender': list of genders (strings)\n",
        "        }\n",
        "        - num_of_names: An integer representing the number of full names to generate.\n",
        "\n",
        "        Returns:\n",
        "        - A Pandas DataFrame containing the generated full names, genders, and labels. The DataFrame has the following structure:\n",
        "        {\n",
        "            'Name': list of generated full names (strings),\n",
        "            'Gender': list of genders (strings),\n",
        "            'Label': list of labels (strings)\n",
        "        }\n",
        "        \"\"\"\n",
        "        generated_first_last_names = []\n",
        "        generated_full_names = []\n",
        "        generated_gender = []\n",
        "        generated_label = []\n",
        "        # first name and second name\n",
        "        names = list(data['Name'].values)\n",
        "        genders = list(data['Gender'].values)\n",
        "        for name, gender in zip(names, genders):\n",
        "          while True:\n",
        "            index2 = random.randint(0,(len(names) - 1))\n",
        "            if genders[index2] == 'F':\n",
        "              continue\n",
        "            first_last_name = name + ' ' + names[index2]\n",
        "            generated_first_last_names.append(first_last_name)\n",
        "            generated_gender.append(gender)\n",
        "            if mode == 'Real':\n",
        "              generated_label.append('Correct')\n",
        "            elif mode == 'Fake':\n",
        "              generated_label.append('Incorrect')\n",
        "            if len(generated_first_last_names) % num_of_names == 0 and len(generated_first_last_names) != 0:\n",
        "              break\n",
        "        # full name\n",
        "        for name in  generated_first_last_names:\n",
        "          while True:\n",
        "            index2 = random.randint(0,(len(names) - 1))\n",
        "            if genders[index2] == 'F':\n",
        "              continue\n",
        "            else:\n",
        "              break\n",
        "          full_name = name + ' ' + names[index2]\n",
        "          generated_full_names.append(full_name)\n",
        "        return pd.DataFrame({\n",
        "            'Name': generated_full_names,\n",
        "            'Gender': generated_gender,\n",
        "            'Label': generated_label\n",
        "        })"
      ]
    },
    {
      "cell_type": "code",
      "execution_count": 109,
      "id": "db43c3bd",
      "metadata": {
        "id": "db43c3bd"
      },
      "outputs": [],
      "source": [
        "# create object of the DataGenerator class\n",
        "generator = DataGenerator(arabic_alphabet)"
      ]
    },
    {
      "cell_type": "markdown",
      "id": "f9e27542",
      "metadata": {
        "id": "f9e27542"
      },
      "source": [
        "For each name in the **_Arabic Names Dataset_**, we will generate **two** fake names by deleting a random character from the original name at random position, then generate **six** fake names by adding a  wrong character to the original name at random position, and **four** fake names by replacing a random single character from the original name with another wrong random character"
      ]
    },
    {
      "cell_type": "markdown",
      "id": "5fd65843",
      "metadata": {
        "id": "5fd65843"
      },
      "source": [
        "**IMPORTANT NOTE**, we will not consider all possibilities of generating a fake name from an original name, as this will lead us to huge fake names maybe reach to more than **500,000!** fake name, So as a start it will be enough to generate **12x** fake names from the real names dataset"
      ]
    },
    {
      "cell_type": "code",
      "execution_count": 110,
      "id": "708d32ab",
      "metadata": {
        "id": "708d32ab"
      },
      "outputs": [],
      "source": [
        "# generate 2 fake names by delete a char\n",
        "f_names_deleted_char = names.apply(lambda x: generator.generate(mode='delete_char', num_of_words=2, \n",
        "                                                                name=x['Name'], gender=x['Gender']), axis=1)\n",
        "# generate 4 fake names by replace a char\n",
        "f_names_replaced_char = names.apply(lambda x: generator.generate(mode='replace_char', num_of_words=4, \n",
        "                                                                name=x['Name'], gender=x['Gender']), axis=1)\n",
        "# generate 6 fake names by adding a wrong char\n",
        "f_names_adding_wrong_char = names.apply(lambda x: generator.generate(mode='add_char', num_of_words=6, \n",
        "                                                                name=x['Name'], gender=x['Gender']), axis=1)"
      ]
    },
    {
      "cell_type": "code",
      "execution_count": 111,
      "id": "74a47b97",
      "metadata": {
        "id": "74a47b97"
      },
      "outputs": [],
      "source": [
        "# this function is used to re-represent the output of the generator to make it one dictionary instead of a \n",
        "# dictionary for each name, to convert the dictionary to a dataframe\n",
        "def one_dict(multi_dict):\n",
        "    \"\"\"\n",
        "    Flattens a list of dictionaries into a single dictionary.\n",
        "\n",
        "    Parameters:\n",
        "    - multi_dict: A list of dictionaries. Each dictionary must have the following structure:\n",
        "    {\n",
        "      'Name': list of names (strings),\n",
        "      'Gender': list of genders (strings),\n",
        "      'Label': list of labels (strings)\n",
        "    }\n",
        "\n",
        "    Returns:\n",
        "    - A Pandas DataFrame containing the flattened lists of names, genders, and labels. The DataFrame has the following structure:\n",
        "    {\n",
        "      'Name': list of names (strings),\n",
        "      'Gender': list of genders (strings),\n",
        "      'Label': list of labels (strings)\n",
        "    }\n",
        "    \"\"\"\n",
        "    name = []\n",
        "    gender = []\n",
        "    label = []\n",
        "    for row in multi_dict:\n",
        "        name.extend(row['Name'])\n",
        "        gender.extend(row['Gender'])\n",
        "        label.extend(row['Label'])\n",
        "    return pd.DataFrame({\n",
        "        'Name': name,\n",
        "        'Gender': gender,\n",
        "        'Label': label\n",
        "    })"
      ]
    },
    {
      "cell_type": "code",
      "execution_count": 112,
      "id": "081cacf7",
      "metadata": {
        "id": "081cacf7"
      },
      "outputs": [],
      "source": [
        "# convert the output of the generator to one dictionary containing all names\n",
        "deleted_char_df = one_dict(f_names_deleted_char)\n",
        "replaced_char_df = one_dict(f_names_replaced_char)\n",
        "added_char_df = one_dict(f_names_adding_wrong_char)\n",
        "# concatenate the 3 dataframe to form the Fake Names Dataset\n",
        "f_names = pd.concat([added_char_df, replaced_char_df, deleted_char_df],ignore_index=True)"
      ]
    },
    {
      "cell_type": "code",
      "execution_count": 113,
      "id": "b0909570",
      "metadata": {
        "colab": {
          "base_uri": "https://localhost:8080/",
          "height": 206
        },
        "id": "b0909570",
        "outputId": "e2968be6-bd69-4383-ee01-fafc024fee3a"
      },
      "outputs": [
        {
          "output_type": "execute_result",
          "data": {
            "text/plain": [
              "      Name Gender Label\n",
              "0  ابتتسام      F  Fake\n",
              "1  ابتساأم      F  Fake\n",
              "2  ابتكسام      F  Fake\n",
              "3  صابتسام      F  Fake\n",
              "4  امبتسام      F  Fake"
            ],
            "text/html": [
              "\n",
              "  <div id=\"df-079103bb-a3f5-484c-babb-64f89aef9430\">\n",
              "    <div class=\"colab-df-container\">\n",
              "      <div>\n",
              "<style scoped>\n",
              "    .dataframe tbody tr th:only-of-type {\n",
              "        vertical-align: middle;\n",
              "    }\n",
              "\n",
              "    .dataframe tbody tr th {\n",
              "        vertical-align: top;\n",
              "    }\n",
              "\n",
              "    .dataframe thead th {\n",
              "        text-align: right;\n",
              "    }\n",
              "</style>\n",
              "<table border=\"1\" class=\"dataframe\">\n",
              "  <thead>\n",
              "    <tr style=\"text-align: right;\">\n",
              "      <th></th>\n",
              "      <th>Name</th>\n",
              "      <th>Gender</th>\n",
              "      <th>Label</th>\n",
              "    </tr>\n",
              "  </thead>\n",
              "  <tbody>\n",
              "    <tr>\n",
              "      <th>0</th>\n",
              "      <td>ابتتسام</td>\n",
              "      <td>F</td>\n",
              "      <td>Fake</td>\n",
              "    </tr>\n",
              "    <tr>\n",
              "      <th>1</th>\n",
              "      <td>ابتساأم</td>\n",
              "      <td>F</td>\n",
              "      <td>Fake</td>\n",
              "    </tr>\n",
              "    <tr>\n",
              "      <th>2</th>\n",
              "      <td>ابتكسام</td>\n",
              "      <td>F</td>\n",
              "      <td>Fake</td>\n",
              "    </tr>\n",
              "    <tr>\n",
              "      <th>3</th>\n",
              "      <td>صابتسام</td>\n",
              "      <td>F</td>\n",
              "      <td>Fake</td>\n",
              "    </tr>\n",
              "    <tr>\n",
              "      <th>4</th>\n",
              "      <td>امبتسام</td>\n",
              "      <td>F</td>\n",
              "      <td>Fake</td>\n",
              "    </tr>\n",
              "  </tbody>\n",
              "</table>\n",
              "</div>\n",
              "      <button class=\"colab-df-convert\" onclick=\"convertToInteractive('df-079103bb-a3f5-484c-babb-64f89aef9430')\"\n",
              "              title=\"Convert this dataframe to an interactive table.\"\n",
              "              style=\"display:none;\">\n",
              "        \n",
              "  <svg xmlns=\"http://www.w3.org/2000/svg\" height=\"24px\"viewBox=\"0 0 24 24\"\n",
              "       width=\"24px\">\n",
              "    <path d=\"M0 0h24v24H0V0z\" fill=\"none\"/>\n",
              "    <path d=\"M18.56 5.44l.94 2.06.94-2.06 2.06-.94-2.06-.94-.94-2.06-.94 2.06-2.06.94zm-11 1L8.5 8.5l.94-2.06 2.06-.94-2.06-.94L8.5 2.5l-.94 2.06-2.06.94zm10 10l.94 2.06.94-2.06 2.06-.94-2.06-.94-.94-2.06-.94 2.06-2.06.94z\"/><path d=\"M17.41 7.96l-1.37-1.37c-.4-.4-.92-.59-1.43-.59-.52 0-1.04.2-1.43.59L10.3 9.45l-7.72 7.72c-.78.78-.78 2.05 0 2.83L4 21.41c.39.39.9.59 1.41.59.51 0 1.02-.2 1.41-.59l7.78-7.78 2.81-2.81c.8-.78.8-2.07 0-2.86zM5.41 20L4 18.59l7.72-7.72 1.47 1.35L5.41 20z\"/>\n",
              "  </svg>\n",
              "      </button>\n",
              "      \n",
              "  <style>\n",
              "    .colab-df-container {\n",
              "      display:flex;\n",
              "      flex-wrap:wrap;\n",
              "      gap: 12px;\n",
              "    }\n",
              "\n",
              "    .colab-df-convert {\n",
              "      background-color: #E8F0FE;\n",
              "      border: none;\n",
              "      border-radius: 50%;\n",
              "      cursor: pointer;\n",
              "      display: none;\n",
              "      fill: #1967D2;\n",
              "      height: 32px;\n",
              "      padding: 0 0 0 0;\n",
              "      width: 32px;\n",
              "    }\n",
              "\n",
              "    .colab-df-convert:hover {\n",
              "      background-color: #E2EBFA;\n",
              "      box-shadow: 0px 1px 2px rgba(60, 64, 67, 0.3), 0px 1px 3px 1px rgba(60, 64, 67, 0.15);\n",
              "      fill: #174EA6;\n",
              "    }\n",
              "\n",
              "    [theme=dark] .colab-df-convert {\n",
              "      background-color: #3B4455;\n",
              "      fill: #D2E3FC;\n",
              "    }\n",
              "\n",
              "    [theme=dark] .colab-df-convert:hover {\n",
              "      background-color: #434B5C;\n",
              "      box-shadow: 0px 1px 3px 1px rgba(0, 0, 0, 0.15);\n",
              "      filter: drop-shadow(0px 1px 2px rgba(0, 0, 0, 0.3));\n",
              "      fill: #FFFFFF;\n",
              "    }\n",
              "  </style>\n",
              "\n",
              "      <script>\n",
              "        const buttonEl =\n",
              "          document.querySelector('#df-079103bb-a3f5-484c-babb-64f89aef9430 button.colab-df-convert');\n",
              "        buttonEl.style.display =\n",
              "          google.colab.kernel.accessAllowed ? 'block' : 'none';\n",
              "\n",
              "        async function convertToInteractive(key) {\n",
              "          const element = document.querySelector('#df-079103bb-a3f5-484c-babb-64f89aef9430');\n",
              "          const dataTable =\n",
              "            await google.colab.kernel.invokeFunction('convertToInteractive',\n",
              "                                                     [key], {});\n",
              "          if (!dataTable) return;\n",
              "\n",
              "          const docLinkHtml = 'Like what you see? Visit the ' +\n",
              "            '<a target=\"_blank\" href=https://colab.research.google.com/notebooks/data_table.ipynb>data table notebook</a>'\n",
              "            + ' to learn more about interactive tables.';\n",
              "          element.innerHTML = '';\n",
              "          dataTable['output_type'] = 'display_data';\n",
              "          await google.colab.output.renderOutput(dataTable, element);\n",
              "          const docLink = document.createElement('div');\n",
              "          docLink.innerHTML = docLinkHtml;\n",
              "          element.appendChild(docLink);\n",
              "        }\n",
              "      </script>\n",
              "    </div>\n",
              "  </div>\n",
              "  "
            ]
          },
          "metadata": {},
          "execution_count": 113
        }
      ],
      "source": [
        "# view first 5 rows of fake names\n",
        "f_names.head()"
      ]
    },
    {
      "cell_type": "code",
      "execution_count": 114,
      "id": "e4ec470f",
      "metadata": {
        "colab": {
          "base_uri": "https://localhost:8080/",
          "height": 206
        },
        "id": "e4ec470f",
        "outputId": "795b88f7-0e60-402c-f1c1-5c7ac749aa27"
      },
      "outputs": [
        {
          "output_type": "execute_result",
          "data": {
            "text/plain": [
              "       Name Gender Label\n",
              "18619  منحة      F  Fake\n",
              "18620   ميا      F  Fake\n",
              "18621   ينا      F  Fake\n",
              "18622  نصحة      F  Fake\n",
              "18623  ناحة      F  Fake"
            ],
            "text/html": [
              "\n",
              "  <div id=\"df-834b63db-2225-4c12-b69f-c71588af6c0d\">\n",
              "    <div class=\"colab-df-container\">\n",
              "      <div>\n",
              "<style scoped>\n",
              "    .dataframe tbody tr th:only-of-type {\n",
              "        vertical-align: middle;\n",
              "    }\n",
              "\n",
              "    .dataframe tbody tr th {\n",
              "        vertical-align: top;\n",
              "    }\n",
              "\n",
              "    .dataframe thead th {\n",
              "        text-align: right;\n",
              "    }\n",
              "</style>\n",
              "<table border=\"1\" class=\"dataframe\">\n",
              "  <thead>\n",
              "    <tr style=\"text-align: right;\">\n",
              "      <th></th>\n",
              "      <th>Name</th>\n",
              "      <th>Gender</th>\n",
              "      <th>Label</th>\n",
              "    </tr>\n",
              "  </thead>\n",
              "  <tbody>\n",
              "    <tr>\n",
              "      <th>18619</th>\n",
              "      <td>منحة</td>\n",
              "      <td>F</td>\n",
              "      <td>Fake</td>\n",
              "    </tr>\n",
              "    <tr>\n",
              "      <th>18620</th>\n",
              "      <td>ميا</td>\n",
              "      <td>F</td>\n",
              "      <td>Fake</td>\n",
              "    </tr>\n",
              "    <tr>\n",
              "      <th>18621</th>\n",
              "      <td>ينا</td>\n",
              "      <td>F</td>\n",
              "      <td>Fake</td>\n",
              "    </tr>\n",
              "    <tr>\n",
              "      <th>18622</th>\n",
              "      <td>نصحة</td>\n",
              "      <td>F</td>\n",
              "      <td>Fake</td>\n",
              "    </tr>\n",
              "    <tr>\n",
              "      <th>18623</th>\n",
              "      <td>ناحة</td>\n",
              "      <td>F</td>\n",
              "      <td>Fake</td>\n",
              "    </tr>\n",
              "  </tbody>\n",
              "</table>\n",
              "</div>\n",
              "      <button class=\"colab-df-convert\" onclick=\"convertToInteractive('df-834b63db-2225-4c12-b69f-c71588af6c0d')\"\n",
              "              title=\"Convert this dataframe to an interactive table.\"\n",
              "              style=\"display:none;\">\n",
              "        \n",
              "  <svg xmlns=\"http://www.w3.org/2000/svg\" height=\"24px\"viewBox=\"0 0 24 24\"\n",
              "       width=\"24px\">\n",
              "    <path d=\"M0 0h24v24H0V0z\" fill=\"none\"/>\n",
              "    <path d=\"M18.56 5.44l.94 2.06.94-2.06 2.06-.94-2.06-.94-.94-2.06-.94 2.06-2.06.94zm-11 1L8.5 8.5l.94-2.06 2.06-.94-2.06-.94L8.5 2.5l-.94 2.06-2.06.94zm10 10l.94 2.06.94-2.06 2.06-.94-2.06-.94-.94-2.06-.94 2.06-2.06.94z\"/><path d=\"M17.41 7.96l-1.37-1.37c-.4-.4-.92-.59-1.43-.59-.52 0-1.04.2-1.43.59L10.3 9.45l-7.72 7.72c-.78.78-.78 2.05 0 2.83L4 21.41c.39.39.9.59 1.41.59.51 0 1.02-.2 1.41-.59l7.78-7.78 2.81-2.81c.8-.78.8-2.07 0-2.86zM5.41 20L4 18.59l7.72-7.72 1.47 1.35L5.41 20z\"/>\n",
              "  </svg>\n",
              "      </button>\n",
              "      \n",
              "  <style>\n",
              "    .colab-df-container {\n",
              "      display:flex;\n",
              "      flex-wrap:wrap;\n",
              "      gap: 12px;\n",
              "    }\n",
              "\n",
              "    .colab-df-convert {\n",
              "      background-color: #E8F0FE;\n",
              "      border: none;\n",
              "      border-radius: 50%;\n",
              "      cursor: pointer;\n",
              "      display: none;\n",
              "      fill: #1967D2;\n",
              "      height: 32px;\n",
              "      padding: 0 0 0 0;\n",
              "      width: 32px;\n",
              "    }\n",
              "\n",
              "    .colab-df-convert:hover {\n",
              "      background-color: #E2EBFA;\n",
              "      box-shadow: 0px 1px 2px rgba(60, 64, 67, 0.3), 0px 1px 3px 1px rgba(60, 64, 67, 0.15);\n",
              "      fill: #174EA6;\n",
              "    }\n",
              "\n",
              "    [theme=dark] .colab-df-convert {\n",
              "      background-color: #3B4455;\n",
              "      fill: #D2E3FC;\n",
              "    }\n",
              "\n",
              "    [theme=dark] .colab-df-convert:hover {\n",
              "      background-color: #434B5C;\n",
              "      box-shadow: 0px 1px 3px 1px rgba(0, 0, 0, 0.15);\n",
              "      filter: drop-shadow(0px 1px 2px rgba(0, 0, 0, 0.3));\n",
              "      fill: #FFFFFF;\n",
              "    }\n",
              "  </style>\n",
              "\n",
              "      <script>\n",
              "        const buttonEl =\n",
              "          document.querySelector('#df-834b63db-2225-4c12-b69f-c71588af6c0d button.colab-df-convert');\n",
              "        buttonEl.style.display =\n",
              "          google.colab.kernel.accessAllowed ? 'block' : 'none';\n",
              "\n",
              "        async function convertToInteractive(key) {\n",
              "          const element = document.querySelector('#df-834b63db-2225-4c12-b69f-c71588af6c0d');\n",
              "          const dataTable =\n",
              "            await google.colab.kernel.invokeFunction('convertToInteractive',\n",
              "                                                     [key], {});\n",
              "          if (!dataTable) return;\n",
              "\n",
              "          const docLinkHtml = 'Like what you see? Visit the ' +\n",
              "            '<a target=\"_blank\" href=https://colab.research.google.com/notebooks/data_table.ipynb>data table notebook</a>'\n",
              "            + ' to learn more about interactive tables.';\n",
              "          element.innerHTML = '';\n",
              "          dataTable['output_type'] = 'display_data';\n",
              "          await google.colab.output.renderOutput(dataTable, element);\n",
              "          const docLink = document.createElement('div');\n",
              "          docLink.innerHTML = docLinkHtml;\n",
              "          element.appendChild(docLink);\n",
              "        }\n",
              "      </script>\n",
              "    </div>\n",
              "  </div>\n",
              "  "
            ]
          },
          "metadata": {},
          "execution_count": 114
        }
      ],
      "source": [
        "# view last 5 rows of fake names\n",
        "f_names.tail()"
      ]
    },
    {
      "cell_type": "code",
      "execution_count": 115,
      "id": "cEHBwa1D8M_p",
      "metadata": {
        "colab": {
          "base_uri": "https://localhost:8080/"
        },
        "id": "cEHBwa1D8M_p",
        "outputId": "3224ad98-337c-461d-ed63-265473d21422"
      },
      "outputs": [
        {
          "output_type": "execute_result",
          "data": {
            "text/plain": [
              "(18624, 3)"
            ]
          },
          "metadata": {},
          "execution_count": 115
        }
      ],
      "source": [
        "f_names.shape"
      ]
    },
    {
      "cell_type": "code",
      "execution_count": 116,
      "id": "d7501184",
      "metadata": {
        "colab": {
          "base_uri": "https://localhost:8080/"
        },
        "id": "d7501184",
        "outputId": "776bf35b-f64b-4f68-ed33-fb8e0cd12cc7"
      },
      "outputs": [
        {
          "output_type": "stream",
          "name": "stdout",
          "text": [
            "<class 'pandas.core.frame.DataFrame'>\n",
            "RangeIndex: 18624 entries, 0 to 18623\n",
            "Data columns (total 3 columns):\n",
            " #   Column  Non-Null Count  Dtype \n",
            "---  ------  --------------  ----- \n",
            " 0   Name    18624 non-null  object\n",
            " 1   Gender  18624 non-null  object\n",
            " 2   Label   18624 non-null  object\n",
            "dtypes: object(3)\n",
            "memory usage: 436.6+ KB\n"
          ]
        }
      ],
      "source": [
        "f_names.info()"
      ]
    },
    {
      "cell_type": "code",
      "execution_count": 117,
      "id": "3ddfd8ad",
      "metadata": {
        "colab": {
          "base_uri": "https://localhost:8080/",
          "height": 175
        },
        "id": "3ddfd8ad",
        "outputId": "33a70916-4aba-45da-d743-f5560c852b2d",
        "scrolled": true
      },
      "outputs": [
        {
          "output_type": "execute_result",
          "data": {
            "text/plain": [
              "         Name Gender  Label\n",
              "count   18624  18624  18624\n",
              "unique  17861      2      1\n",
              "top       مير      M   Fake\n",
              "freq        7  11148  18624"
            ],
            "text/html": [
              "\n",
              "  <div id=\"df-6736f24f-e9fb-4cbd-bf0b-4e9e605dff8b\">\n",
              "    <div class=\"colab-df-container\">\n",
              "      <div>\n",
              "<style scoped>\n",
              "    .dataframe tbody tr th:only-of-type {\n",
              "        vertical-align: middle;\n",
              "    }\n",
              "\n",
              "    .dataframe tbody tr th {\n",
              "        vertical-align: top;\n",
              "    }\n",
              "\n",
              "    .dataframe thead th {\n",
              "        text-align: right;\n",
              "    }\n",
              "</style>\n",
              "<table border=\"1\" class=\"dataframe\">\n",
              "  <thead>\n",
              "    <tr style=\"text-align: right;\">\n",
              "      <th></th>\n",
              "      <th>Name</th>\n",
              "      <th>Gender</th>\n",
              "      <th>Label</th>\n",
              "    </tr>\n",
              "  </thead>\n",
              "  <tbody>\n",
              "    <tr>\n",
              "      <th>count</th>\n",
              "      <td>18624</td>\n",
              "      <td>18624</td>\n",
              "      <td>18624</td>\n",
              "    </tr>\n",
              "    <tr>\n",
              "      <th>unique</th>\n",
              "      <td>17861</td>\n",
              "      <td>2</td>\n",
              "      <td>1</td>\n",
              "    </tr>\n",
              "    <tr>\n",
              "      <th>top</th>\n",
              "      <td>مير</td>\n",
              "      <td>M</td>\n",
              "      <td>Fake</td>\n",
              "    </tr>\n",
              "    <tr>\n",
              "      <th>freq</th>\n",
              "      <td>7</td>\n",
              "      <td>11148</td>\n",
              "      <td>18624</td>\n",
              "    </tr>\n",
              "  </tbody>\n",
              "</table>\n",
              "</div>\n",
              "      <button class=\"colab-df-convert\" onclick=\"convertToInteractive('df-6736f24f-e9fb-4cbd-bf0b-4e9e605dff8b')\"\n",
              "              title=\"Convert this dataframe to an interactive table.\"\n",
              "              style=\"display:none;\">\n",
              "        \n",
              "  <svg xmlns=\"http://www.w3.org/2000/svg\" height=\"24px\"viewBox=\"0 0 24 24\"\n",
              "       width=\"24px\">\n",
              "    <path d=\"M0 0h24v24H0V0z\" fill=\"none\"/>\n",
              "    <path d=\"M18.56 5.44l.94 2.06.94-2.06 2.06-.94-2.06-.94-.94-2.06-.94 2.06-2.06.94zm-11 1L8.5 8.5l.94-2.06 2.06-.94-2.06-.94L8.5 2.5l-.94 2.06-2.06.94zm10 10l.94 2.06.94-2.06 2.06-.94-2.06-.94-.94-2.06-.94 2.06-2.06.94z\"/><path d=\"M17.41 7.96l-1.37-1.37c-.4-.4-.92-.59-1.43-.59-.52 0-1.04.2-1.43.59L10.3 9.45l-7.72 7.72c-.78.78-.78 2.05 0 2.83L4 21.41c.39.39.9.59 1.41.59.51 0 1.02-.2 1.41-.59l7.78-7.78 2.81-2.81c.8-.78.8-2.07 0-2.86zM5.41 20L4 18.59l7.72-7.72 1.47 1.35L5.41 20z\"/>\n",
              "  </svg>\n",
              "      </button>\n",
              "      \n",
              "  <style>\n",
              "    .colab-df-container {\n",
              "      display:flex;\n",
              "      flex-wrap:wrap;\n",
              "      gap: 12px;\n",
              "    }\n",
              "\n",
              "    .colab-df-convert {\n",
              "      background-color: #E8F0FE;\n",
              "      border: none;\n",
              "      border-radius: 50%;\n",
              "      cursor: pointer;\n",
              "      display: none;\n",
              "      fill: #1967D2;\n",
              "      height: 32px;\n",
              "      padding: 0 0 0 0;\n",
              "      width: 32px;\n",
              "    }\n",
              "\n",
              "    .colab-df-convert:hover {\n",
              "      background-color: #E2EBFA;\n",
              "      box-shadow: 0px 1px 2px rgba(60, 64, 67, 0.3), 0px 1px 3px 1px rgba(60, 64, 67, 0.15);\n",
              "      fill: #174EA6;\n",
              "    }\n",
              "\n",
              "    [theme=dark] .colab-df-convert {\n",
              "      background-color: #3B4455;\n",
              "      fill: #D2E3FC;\n",
              "    }\n",
              "\n",
              "    [theme=dark] .colab-df-convert:hover {\n",
              "      background-color: #434B5C;\n",
              "      box-shadow: 0px 1px 3px 1px rgba(0, 0, 0, 0.15);\n",
              "      filter: drop-shadow(0px 1px 2px rgba(0, 0, 0, 0.3));\n",
              "      fill: #FFFFFF;\n",
              "    }\n",
              "  </style>\n",
              "\n",
              "      <script>\n",
              "        const buttonEl =\n",
              "          document.querySelector('#df-6736f24f-e9fb-4cbd-bf0b-4e9e605dff8b button.colab-df-convert');\n",
              "        buttonEl.style.display =\n",
              "          google.colab.kernel.accessAllowed ? 'block' : 'none';\n",
              "\n",
              "        async function convertToInteractive(key) {\n",
              "          const element = document.querySelector('#df-6736f24f-e9fb-4cbd-bf0b-4e9e605dff8b');\n",
              "          const dataTable =\n",
              "            await google.colab.kernel.invokeFunction('convertToInteractive',\n",
              "                                                     [key], {});\n",
              "          if (!dataTable) return;\n",
              "\n",
              "          const docLinkHtml = 'Like what you see? Visit the ' +\n",
              "            '<a target=\"_blank\" href=https://colab.research.google.com/notebooks/data_table.ipynb>data table notebook</a>'\n",
              "            + ' to learn more about interactive tables.';\n",
              "          element.innerHTML = '';\n",
              "          dataTable['output_type'] = 'display_data';\n",
              "          await google.colab.output.renderOutput(dataTable, element);\n",
              "          const docLink = document.createElement('div');\n",
              "          docLink.innerHTML = docLinkHtml;\n",
              "          element.appendChild(docLink);\n",
              "        }\n",
              "      </script>\n",
              "    </div>\n",
              "  </div>\n",
              "  "
            ]
          },
          "metadata": {},
          "execution_count": 117
        }
      ],
      "source": [
        "f_names.describe()"
      ]
    },
    {
      "cell_type": "code",
      "execution_count": 118,
      "id": "0W01ROCb8uum",
      "metadata": {
        "colab": {
          "base_uri": "https://localhost:8080/"
        },
        "id": "0W01ROCb8uum",
        "outputId": "e33ad919-f12f-4412-c9cd-7f6212f572d3"
      },
      "outputs": [
        {
          "output_type": "stream",
          "name": "stdout",
          "text": [
            "Number of duplicated names are:  763\n",
            "The shape of  fake names after deleting duplicates is: (17861, 3)\n"
          ]
        }
      ],
      "source": [
        "# check and remove duplicates\n",
        "f_names2 = check_duplicates(f_names, 'fake names')"
      ]
    },
    {
      "cell_type": "code",
      "execution_count": 119,
      "id": "ZTk2zDN6805W",
      "metadata": {
        "colab": {
          "base_uri": "https://localhost:8080/"
        },
        "id": "ZTk2zDN6805W",
        "outputId": "124e3a5a-0ae3-4869-d479-9da9c83e0099"
      },
      "outputs": [
        {
          "output_type": "stream",
          "name": "stdout",
          "text": [
            "Number of fake names that exist in real arabic names 1\n"
          ]
        }
      ],
      "source": [
        "# check to see if there is a fake name exist in real names\n",
        "# False indicates that this name will be deleted from the fake names dataset\n",
        "# True indicates that this name will remain exist in the fake names dataset\n",
        "fake_real_mask = [False if name in names['Name'] else True for name in f_names2['Name']]\n",
        "print('Number of fake names that exist in real arabic names', len([fake_real_mask == False]))\n",
        "fake_names = f_names2[fake_real_mask]"
      ]
    },
    {
      "cell_type": "markdown",
      "id": "n5BmS9vT3Pge",
      "metadata": {
        "id": "n5BmS9vT3Pge"
      },
      "source": [
        "We have our real arabic names dataset and generated fake names dataset from our real arabic names, We will now create a **Full Name Dataset** consists of 3 names separated by space"
      ]
    },
    {
      "cell_type": "markdown",
      "id": "weduRM963_tG",
      "metadata": {
        "id": "weduRM963_tG"
      },
      "source": [
        "We will create **Two Datasets**:\n",
        "1. The first is full names with real arabic names, by generating **random 162 name** for each name in the real arabic names dataset\n",
        "2. the second is full names with fake arabic names, by generating **random 15 name** for each name in the fake arabic names dataset\n",
        "\n",
        "There is a difference in number of names in each dataset and that is because the dataframe of real names is smaller than by **12X** from the dataframe that contains fake names, so above numbers will give us balanced dataset of full names with equal number of examples for each class (Correct and Incorrect)\n",
        "\n",
        "And if we choose to generate same number of names in the two dataset this will lead to **Imbalanced Dataset Problem**, and a memory problem may occur, so above numbers are enough"
      ]
    },
    {
      "cell_type": "code",
      "execution_count": 120,
      "id": "c8f9b9fc",
      "metadata": {
        "id": "c8f9b9fc"
      },
      "outputs": [],
      "source": [
        "# full names with real arabic names\n",
        "full_names_real = generator.generate_full_name(mode='Real', data=names,num_of_names=162)\n",
        "# full names with fake arabic names\n",
        "full_names_fake = generator.generate_full_name(mode='Fake', data=fake_names,num_of_names=15)"
      ]
    },
    {
      "cell_type": "code",
      "execution_count": 123,
      "id": "GjRM7Mv3jh2C",
      "metadata": {
        "id": "GjRM7Mv3jh2C"
      },
      "outputs": [],
      "source": [
        "# combine the two dataset together into one\n",
        "full_names = pd.concat([full_names_real,full_names_fake])\n",
        "# shuffle the data\n",
        "full_names = full_names.sample(frac=1)\n",
        "# reset index\n",
        "full_names = full_names.reset_index(drop=True)"
      ]
    },
    {
      "cell_type": "code",
      "execution_count": 124,
      "id": "CNVYF5m7wyjT",
      "metadata": {
        "colab": {
          "base_uri": "https://localhost:8080/",
          "height": 206
        },
        "id": "CNVYF5m7wyjT",
        "outputId": "2971ea40-1ca9-4998-d3d2-52d18e553a57"
      },
      "outputs": [
        {
          "output_type": "execute_result",
          "data": {
            "text/plain": [
              "                    Name Gender      Label\n",
              "0        إنجاح لباب أمين      F    Correct\n",
              "1         فاخر صاعد عاكف      M    Correct\n",
              "2         موفق صباح نصرت      M    Correct\n",
              "3  عبدالآعليم بلاسل عامظ      M  Incorrect\n",
              "4       سدير ارشيق منتجد      F  Incorrect"
            ],
            "text/html": [
              "\n",
              "  <div id=\"df-880efe71-aeed-42ca-b7ed-d900c2433879\">\n",
              "    <div class=\"colab-df-container\">\n",
              "      <div>\n",
              "<style scoped>\n",
              "    .dataframe tbody tr th:only-of-type {\n",
              "        vertical-align: middle;\n",
              "    }\n",
              "\n",
              "    .dataframe tbody tr th {\n",
              "        vertical-align: top;\n",
              "    }\n",
              "\n",
              "    .dataframe thead th {\n",
              "        text-align: right;\n",
              "    }\n",
              "</style>\n",
              "<table border=\"1\" class=\"dataframe\">\n",
              "  <thead>\n",
              "    <tr style=\"text-align: right;\">\n",
              "      <th></th>\n",
              "      <th>Name</th>\n",
              "      <th>Gender</th>\n",
              "      <th>Label</th>\n",
              "    </tr>\n",
              "  </thead>\n",
              "  <tbody>\n",
              "    <tr>\n",
              "      <th>0</th>\n",
              "      <td>إنجاح لباب أمين</td>\n",
              "      <td>F</td>\n",
              "      <td>Correct</td>\n",
              "    </tr>\n",
              "    <tr>\n",
              "      <th>1</th>\n",
              "      <td>فاخر صاعد عاكف</td>\n",
              "      <td>M</td>\n",
              "      <td>Correct</td>\n",
              "    </tr>\n",
              "    <tr>\n",
              "      <th>2</th>\n",
              "      <td>موفق صباح نصرت</td>\n",
              "      <td>M</td>\n",
              "      <td>Correct</td>\n",
              "    </tr>\n",
              "    <tr>\n",
              "      <th>3</th>\n",
              "      <td>عبدالآعليم بلاسل عامظ</td>\n",
              "      <td>M</td>\n",
              "      <td>Incorrect</td>\n",
              "    </tr>\n",
              "    <tr>\n",
              "      <th>4</th>\n",
              "      <td>سدير ارشيق منتجد</td>\n",
              "      <td>F</td>\n",
              "      <td>Incorrect</td>\n",
              "    </tr>\n",
              "  </tbody>\n",
              "</table>\n",
              "</div>\n",
              "      <button class=\"colab-df-convert\" onclick=\"convertToInteractive('df-880efe71-aeed-42ca-b7ed-d900c2433879')\"\n",
              "              title=\"Convert this dataframe to an interactive table.\"\n",
              "              style=\"display:none;\">\n",
              "        \n",
              "  <svg xmlns=\"http://www.w3.org/2000/svg\" height=\"24px\"viewBox=\"0 0 24 24\"\n",
              "       width=\"24px\">\n",
              "    <path d=\"M0 0h24v24H0V0z\" fill=\"none\"/>\n",
              "    <path d=\"M18.56 5.44l.94 2.06.94-2.06 2.06-.94-2.06-.94-.94-2.06-.94 2.06-2.06.94zm-11 1L8.5 8.5l.94-2.06 2.06-.94-2.06-.94L8.5 2.5l-.94 2.06-2.06.94zm10 10l.94 2.06.94-2.06 2.06-.94-2.06-.94-.94-2.06-.94 2.06-2.06.94z\"/><path d=\"M17.41 7.96l-1.37-1.37c-.4-.4-.92-.59-1.43-.59-.52 0-1.04.2-1.43.59L10.3 9.45l-7.72 7.72c-.78.78-.78 2.05 0 2.83L4 21.41c.39.39.9.59 1.41.59.51 0 1.02-.2 1.41-.59l7.78-7.78 2.81-2.81c.8-.78.8-2.07 0-2.86zM5.41 20L4 18.59l7.72-7.72 1.47 1.35L5.41 20z\"/>\n",
              "  </svg>\n",
              "      </button>\n",
              "      \n",
              "  <style>\n",
              "    .colab-df-container {\n",
              "      display:flex;\n",
              "      flex-wrap:wrap;\n",
              "      gap: 12px;\n",
              "    }\n",
              "\n",
              "    .colab-df-convert {\n",
              "      background-color: #E8F0FE;\n",
              "      border: none;\n",
              "      border-radius: 50%;\n",
              "      cursor: pointer;\n",
              "      display: none;\n",
              "      fill: #1967D2;\n",
              "      height: 32px;\n",
              "      padding: 0 0 0 0;\n",
              "      width: 32px;\n",
              "    }\n",
              "\n",
              "    .colab-df-convert:hover {\n",
              "      background-color: #E2EBFA;\n",
              "      box-shadow: 0px 1px 2px rgba(60, 64, 67, 0.3), 0px 1px 3px 1px rgba(60, 64, 67, 0.15);\n",
              "      fill: #174EA6;\n",
              "    }\n",
              "\n",
              "    [theme=dark] .colab-df-convert {\n",
              "      background-color: #3B4455;\n",
              "      fill: #D2E3FC;\n",
              "    }\n",
              "\n",
              "    [theme=dark] .colab-df-convert:hover {\n",
              "      background-color: #434B5C;\n",
              "      box-shadow: 0px 1px 3px 1px rgba(0, 0, 0, 0.15);\n",
              "      filter: drop-shadow(0px 1px 2px rgba(0, 0, 0, 0.3));\n",
              "      fill: #FFFFFF;\n",
              "    }\n",
              "  </style>\n",
              "\n",
              "      <script>\n",
              "        const buttonEl =\n",
              "          document.querySelector('#df-880efe71-aeed-42ca-b7ed-d900c2433879 button.colab-df-convert');\n",
              "        buttonEl.style.display =\n",
              "          google.colab.kernel.accessAllowed ? 'block' : 'none';\n",
              "\n",
              "        async function convertToInteractive(key) {\n",
              "          const element = document.querySelector('#df-880efe71-aeed-42ca-b7ed-d900c2433879');\n",
              "          const dataTable =\n",
              "            await google.colab.kernel.invokeFunction('convertToInteractive',\n",
              "                                                     [key], {});\n",
              "          if (!dataTable) return;\n",
              "\n",
              "          const docLinkHtml = 'Like what you see? Visit the ' +\n",
              "            '<a target=\"_blank\" href=https://colab.research.google.com/notebooks/data_table.ipynb>data table notebook</a>'\n",
              "            + ' to learn more about interactive tables.';\n",
              "          element.innerHTML = '';\n",
              "          dataTable['output_type'] = 'display_data';\n",
              "          await google.colab.output.renderOutput(dataTable, element);\n",
              "          const docLink = document.createElement('div');\n",
              "          docLink.innerHTML = docLinkHtml;\n",
              "          element.appendChild(docLink);\n",
              "        }\n",
              "      </script>\n",
              "    </div>\n",
              "  </div>\n",
              "  "
            ]
          },
          "metadata": {},
          "execution_count": 124
        }
      ],
      "source": [
        "# view first 5 rows of the full_names dataset\n",
        "full_names.head()"
      ]
    },
    {
      "cell_type": "code",
      "execution_count": 125,
      "id": "EnNQ7wLfAk_J",
      "metadata": {
        "colab": {
          "base_uri": "https://localhost:8080/",
          "height": 206
        },
        "id": "EnNQ7wLfAk_J",
        "outputId": "82b26e15-a722-4ae0-e79a-12a34f6a794e"
      },
      "outputs": [
        {
          "output_type": "execute_result",
          "data": {
            "text/plain": [
              "                    Name Gender      Label\n",
              "519334  راكاخن تكان مذاد      M  Incorrect\n",
              "519335   ككزى كرنم حرابس      F  Incorrect\n",
              "519336   شعنبة عكاء خفير      M  Incorrect\n",
              "519337   طموح مرزوق عواد      M    Correct\n",
              "519338    أسلال يأنس هائ      F  Incorrect"
            ],
            "text/html": [
              "\n",
              "  <div id=\"df-8899ca2f-97a8-495d-848b-3cf258112b1c\">\n",
              "    <div class=\"colab-df-container\">\n",
              "      <div>\n",
              "<style scoped>\n",
              "    .dataframe tbody tr th:only-of-type {\n",
              "        vertical-align: middle;\n",
              "    }\n",
              "\n",
              "    .dataframe tbody tr th {\n",
              "        vertical-align: top;\n",
              "    }\n",
              "\n",
              "    .dataframe thead th {\n",
              "        text-align: right;\n",
              "    }\n",
              "</style>\n",
              "<table border=\"1\" class=\"dataframe\">\n",
              "  <thead>\n",
              "    <tr style=\"text-align: right;\">\n",
              "      <th></th>\n",
              "      <th>Name</th>\n",
              "      <th>Gender</th>\n",
              "      <th>Label</th>\n",
              "    </tr>\n",
              "  </thead>\n",
              "  <tbody>\n",
              "    <tr>\n",
              "      <th>519334</th>\n",
              "      <td>راكاخن تكان مذاد</td>\n",
              "      <td>M</td>\n",
              "      <td>Incorrect</td>\n",
              "    </tr>\n",
              "    <tr>\n",
              "      <th>519335</th>\n",
              "      <td>ككزى كرنم حرابس</td>\n",
              "      <td>F</td>\n",
              "      <td>Incorrect</td>\n",
              "    </tr>\n",
              "    <tr>\n",
              "      <th>519336</th>\n",
              "      <td>شعنبة عكاء خفير</td>\n",
              "      <td>M</td>\n",
              "      <td>Incorrect</td>\n",
              "    </tr>\n",
              "    <tr>\n",
              "      <th>519337</th>\n",
              "      <td>طموح مرزوق عواد</td>\n",
              "      <td>M</td>\n",
              "      <td>Correct</td>\n",
              "    </tr>\n",
              "    <tr>\n",
              "      <th>519338</th>\n",
              "      <td>أسلال يأنس هائ</td>\n",
              "      <td>F</td>\n",
              "      <td>Incorrect</td>\n",
              "    </tr>\n",
              "  </tbody>\n",
              "</table>\n",
              "</div>\n",
              "      <button class=\"colab-df-convert\" onclick=\"convertToInteractive('df-8899ca2f-97a8-495d-848b-3cf258112b1c')\"\n",
              "              title=\"Convert this dataframe to an interactive table.\"\n",
              "              style=\"display:none;\">\n",
              "        \n",
              "  <svg xmlns=\"http://www.w3.org/2000/svg\" height=\"24px\"viewBox=\"0 0 24 24\"\n",
              "       width=\"24px\">\n",
              "    <path d=\"M0 0h24v24H0V0z\" fill=\"none\"/>\n",
              "    <path d=\"M18.56 5.44l.94 2.06.94-2.06 2.06-.94-2.06-.94-.94-2.06-.94 2.06-2.06.94zm-11 1L8.5 8.5l.94-2.06 2.06-.94-2.06-.94L8.5 2.5l-.94 2.06-2.06.94zm10 10l.94 2.06.94-2.06 2.06-.94-2.06-.94-.94-2.06-.94 2.06-2.06.94z\"/><path d=\"M17.41 7.96l-1.37-1.37c-.4-.4-.92-.59-1.43-.59-.52 0-1.04.2-1.43.59L10.3 9.45l-7.72 7.72c-.78.78-.78 2.05 0 2.83L4 21.41c.39.39.9.59 1.41.59.51 0 1.02-.2 1.41-.59l7.78-7.78 2.81-2.81c.8-.78.8-2.07 0-2.86zM5.41 20L4 18.59l7.72-7.72 1.47 1.35L5.41 20z\"/>\n",
              "  </svg>\n",
              "      </button>\n",
              "      \n",
              "  <style>\n",
              "    .colab-df-container {\n",
              "      display:flex;\n",
              "      flex-wrap:wrap;\n",
              "      gap: 12px;\n",
              "    }\n",
              "\n",
              "    .colab-df-convert {\n",
              "      background-color: #E8F0FE;\n",
              "      border: none;\n",
              "      border-radius: 50%;\n",
              "      cursor: pointer;\n",
              "      display: none;\n",
              "      fill: #1967D2;\n",
              "      height: 32px;\n",
              "      padding: 0 0 0 0;\n",
              "      width: 32px;\n",
              "    }\n",
              "\n",
              "    .colab-df-convert:hover {\n",
              "      background-color: #E2EBFA;\n",
              "      box-shadow: 0px 1px 2px rgba(60, 64, 67, 0.3), 0px 1px 3px 1px rgba(60, 64, 67, 0.15);\n",
              "      fill: #174EA6;\n",
              "    }\n",
              "\n",
              "    [theme=dark] .colab-df-convert {\n",
              "      background-color: #3B4455;\n",
              "      fill: #D2E3FC;\n",
              "    }\n",
              "\n",
              "    [theme=dark] .colab-df-convert:hover {\n",
              "      background-color: #434B5C;\n",
              "      box-shadow: 0px 1px 3px 1px rgba(0, 0, 0, 0.15);\n",
              "      filter: drop-shadow(0px 1px 2px rgba(0, 0, 0, 0.3));\n",
              "      fill: #FFFFFF;\n",
              "    }\n",
              "  </style>\n",
              "\n",
              "      <script>\n",
              "        const buttonEl =\n",
              "          document.querySelector('#df-8899ca2f-97a8-495d-848b-3cf258112b1c button.colab-df-convert');\n",
              "        buttonEl.style.display =\n",
              "          google.colab.kernel.accessAllowed ? 'block' : 'none';\n",
              "\n",
              "        async function convertToInteractive(key) {\n",
              "          const element = document.querySelector('#df-8899ca2f-97a8-495d-848b-3cf258112b1c');\n",
              "          const dataTable =\n",
              "            await google.colab.kernel.invokeFunction('convertToInteractive',\n",
              "                                                     [key], {});\n",
              "          if (!dataTable) return;\n",
              "\n",
              "          const docLinkHtml = 'Like what you see? Visit the ' +\n",
              "            '<a target=\"_blank\" href=https://colab.research.google.com/notebooks/data_table.ipynb>data table notebook</a>'\n",
              "            + ' to learn more about interactive tables.';\n",
              "          element.innerHTML = '';\n",
              "          dataTable['output_type'] = 'display_data';\n",
              "          await google.colab.output.renderOutput(dataTable, element);\n",
              "          const docLink = document.createElement('div');\n",
              "          docLink.innerHTML = docLinkHtml;\n",
              "          element.appendChild(docLink);\n",
              "        }\n",
              "      </script>\n",
              "    </div>\n",
              "  </div>\n",
              "  "
            ]
          },
          "metadata": {},
          "execution_count": 125
        }
      ],
      "source": [
        "# view last 5 rows of the full_names dataset\n",
        "full_names.tail()"
      ]
    },
    {
      "cell_type": "code",
      "execution_count": 126,
      "id": "yK-HI0VWA4Ly",
      "metadata": {
        "colab": {
          "base_uri": "https://localhost:8080/"
        },
        "id": "yK-HI0VWA4Ly",
        "outputId": "0881b5c0-aab0-4cb9-b4e1-a50ab2b53d61"
      },
      "outputs": [
        {
          "output_type": "execute_result",
          "data": {
            "text/plain": [
              "(519339, 3)"
            ]
          },
          "metadata": {},
          "execution_count": 126
        }
      ],
      "source": [
        "full_names.shape"
      ]
    },
    {
      "cell_type": "code",
      "execution_count": 127,
      "id": "-Su3W7_4BA-s",
      "metadata": {
        "colab": {
          "base_uri": "https://localhost:8080/"
        },
        "id": "-Su3W7_4BA-s",
        "outputId": "d43f8734-d4fb-468e-82c7-e87e4d0619bf"
      },
      "outputs": [
        {
          "output_type": "stream",
          "name": "stdout",
          "text": [
            "<class 'pandas.core.frame.DataFrame'>\n",
            "RangeIndex: 519339 entries, 0 to 519338\n",
            "Data columns (total 3 columns):\n",
            " #   Column  Non-Null Count   Dtype \n",
            "---  ------  --------------   ----- \n",
            " 0   Name    519339 non-null  object\n",
            " 1   Gender  519339 non-null  object\n",
            " 2   Label   519339 non-null  object\n",
            "dtypes: object(3)\n",
            "memory usage: 11.9+ MB\n"
          ]
        }
      ],
      "source": [
        "full_names.info()"
      ]
    },
    {
      "cell_type": "code",
      "execution_count": 128,
      "id": "LCjzfsanBCra",
      "metadata": {
        "colab": {
          "base_uri": "https://localhost:8080/",
          "height": 175
        },
        "id": "LCjzfsanBCra",
        "outputId": "bc15c470-014a-44ef-8158-a5daac02cd96"
      },
      "outputs": [
        {
          "output_type": "execute_result",
          "data": {
            "text/plain": [
              "                 Name  Gender      Label\n",
              "count          519339  519339     519339\n",
              "unique         519323       2          2\n",
              "top     رغال شبل حسنى       M  Incorrect\n",
              "freq                2  309348     267915"
            ],
            "text/html": [
              "\n",
              "  <div id=\"df-69580d20-5ee5-4427-be97-743eccf07271\">\n",
              "    <div class=\"colab-df-container\">\n",
              "      <div>\n",
              "<style scoped>\n",
              "    .dataframe tbody tr th:only-of-type {\n",
              "        vertical-align: middle;\n",
              "    }\n",
              "\n",
              "    .dataframe tbody tr th {\n",
              "        vertical-align: top;\n",
              "    }\n",
              "\n",
              "    .dataframe thead th {\n",
              "        text-align: right;\n",
              "    }\n",
              "</style>\n",
              "<table border=\"1\" class=\"dataframe\">\n",
              "  <thead>\n",
              "    <tr style=\"text-align: right;\">\n",
              "      <th></th>\n",
              "      <th>Name</th>\n",
              "      <th>Gender</th>\n",
              "      <th>Label</th>\n",
              "    </tr>\n",
              "  </thead>\n",
              "  <tbody>\n",
              "    <tr>\n",
              "      <th>count</th>\n",
              "      <td>519339</td>\n",
              "      <td>519339</td>\n",
              "      <td>519339</td>\n",
              "    </tr>\n",
              "    <tr>\n",
              "      <th>unique</th>\n",
              "      <td>519323</td>\n",
              "      <td>2</td>\n",
              "      <td>2</td>\n",
              "    </tr>\n",
              "    <tr>\n",
              "      <th>top</th>\n",
              "      <td>رغال شبل حسنى</td>\n",
              "      <td>M</td>\n",
              "      <td>Incorrect</td>\n",
              "    </tr>\n",
              "    <tr>\n",
              "      <th>freq</th>\n",
              "      <td>2</td>\n",
              "      <td>309348</td>\n",
              "      <td>267915</td>\n",
              "    </tr>\n",
              "  </tbody>\n",
              "</table>\n",
              "</div>\n",
              "      <button class=\"colab-df-convert\" onclick=\"convertToInteractive('df-69580d20-5ee5-4427-be97-743eccf07271')\"\n",
              "              title=\"Convert this dataframe to an interactive table.\"\n",
              "              style=\"display:none;\">\n",
              "        \n",
              "  <svg xmlns=\"http://www.w3.org/2000/svg\" height=\"24px\"viewBox=\"0 0 24 24\"\n",
              "       width=\"24px\">\n",
              "    <path d=\"M0 0h24v24H0V0z\" fill=\"none\"/>\n",
              "    <path d=\"M18.56 5.44l.94 2.06.94-2.06 2.06-.94-2.06-.94-.94-2.06-.94 2.06-2.06.94zm-11 1L8.5 8.5l.94-2.06 2.06-.94-2.06-.94L8.5 2.5l-.94 2.06-2.06.94zm10 10l.94 2.06.94-2.06 2.06-.94-2.06-.94-.94-2.06-.94 2.06-2.06.94z\"/><path d=\"M17.41 7.96l-1.37-1.37c-.4-.4-.92-.59-1.43-.59-.52 0-1.04.2-1.43.59L10.3 9.45l-7.72 7.72c-.78.78-.78 2.05 0 2.83L4 21.41c.39.39.9.59 1.41.59.51 0 1.02-.2 1.41-.59l7.78-7.78 2.81-2.81c.8-.78.8-2.07 0-2.86zM5.41 20L4 18.59l7.72-7.72 1.47 1.35L5.41 20z\"/>\n",
              "  </svg>\n",
              "      </button>\n",
              "      \n",
              "  <style>\n",
              "    .colab-df-container {\n",
              "      display:flex;\n",
              "      flex-wrap:wrap;\n",
              "      gap: 12px;\n",
              "    }\n",
              "\n",
              "    .colab-df-convert {\n",
              "      background-color: #E8F0FE;\n",
              "      border: none;\n",
              "      border-radius: 50%;\n",
              "      cursor: pointer;\n",
              "      display: none;\n",
              "      fill: #1967D2;\n",
              "      height: 32px;\n",
              "      padding: 0 0 0 0;\n",
              "      width: 32px;\n",
              "    }\n",
              "\n",
              "    .colab-df-convert:hover {\n",
              "      background-color: #E2EBFA;\n",
              "      box-shadow: 0px 1px 2px rgba(60, 64, 67, 0.3), 0px 1px 3px 1px rgba(60, 64, 67, 0.15);\n",
              "      fill: #174EA6;\n",
              "    }\n",
              "\n",
              "    [theme=dark] .colab-df-convert {\n",
              "      background-color: #3B4455;\n",
              "      fill: #D2E3FC;\n",
              "    }\n",
              "\n",
              "    [theme=dark] .colab-df-convert:hover {\n",
              "      background-color: #434B5C;\n",
              "      box-shadow: 0px 1px 3px 1px rgba(0, 0, 0, 0.15);\n",
              "      filter: drop-shadow(0px 1px 2px rgba(0, 0, 0, 0.3));\n",
              "      fill: #FFFFFF;\n",
              "    }\n",
              "  </style>\n",
              "\n",
              "      <script>\n",
              "        const buttonEl =\n",
              "          document.querySelector('#df-69580d20-5ee5-4427-be97-743eccf07271 button.colab-df-convert');\n",
              "        buttonEl.style.display =\n",
              "          google.colab.kernel.accessAllowed ? 'block' : 'none';\n",
              "\n",
              "        async function convertToInteractive(key) {\n",
              "          const element = document.querySelector('#df-69580d20-5ee5-4427-be97-743eccf07271');\n",
              "          const dataTable =\n",
              "            await google.colab.kernel.invokeFunction('convertToInteractive',\n",
              "                                                     [key], {});\n",
              "          if (!dataTable) return;\n",
              "\n",
              "          const docLinkHtml = 'Like what you see? Visit the ' +\n",
              "            '<a target=\"_blank\" href=https://colab.research.google.com/notebooks/data_table.ipynb>data table notebook</a>'\n",
              "            + ' to learn more about interactive tables.';\n",
              "          element.innerHTML = '';\n",
              "          dataTable['output_type'] = 'display_data';\n",
              "          await google.colab.output.renderOutput(dataTable, element);\n",
              "          const docLink = document.createElement('div');\n",
              "          docLink.innerHTML = docLinkHtml;\n",
              "          element.appendChild(docLink);\n",
              "        }\n",
              "      </script>\n",
              "    </div>\n",
              "  </div>\n",
              "  "
            ]
          },
          "metadata": {},
          "execution_count": 128
        }
      ],
      "source": [
        "full_names.describe()"
      ]
    },
    {
      "cell_type": "code",
      "execution_count": 129,
      "id": "GrTyAL8sBEbd",
      "metadata": {
        "colab": {
          "base_uri": "https://localhost:8080/"
        },
        "id": "GrTyAL8sBEbd",
        "outputId": "0abab52a-d928-48cc-bc98-d9c1e2b20eae"
      },
      "outputs": [
        {
          "output_type": "stream",
          "name": "stdout",
          "text": [
            "Number of duplicated names are:  16\n",
            "The shape of  full names after deleting duplicates is: (519323, 3)\n"
          ]
        }
      ],
      "source": [
        "# check and remove duplicates\n",
        "full_names = check_duplicates(full_names, 'full names')"
      ]
    },
    {
      "cell_type": "markdown",
      "id": "Q7mSlpeqmpEU",
      "metadata": {
        "id": "Q7mSlpeqmpEU"
      },
      "source": [
        "## Core Model"
      ]
    },
    {
      "cell_type": "markdown",
      "id": "2qxiBLbzqOvv",
      "metadata": {
        "id": "2qxiBLbzqOvv"
      },
      "source": [
        "For the Core Model part i will use a **Pretrained Model** that is **AraBERT** and it is an Arabic pretrained language model based on Google's BERT architechture but for  Arabic Language Understanding"
      ]
    },
    {
      "cell_type": "markdown",
      "id": "uDuJv2h5y-dw",
      "metadata": {
        "id": "uDuJv2h5y-dw"
      },
      "source": [
        "We will use the **Tokenizer** of **AraBERT** to convert our full names into tokens after that ids that represent each word to make data ready for my own Deep Learning Model"
      ]
    },
    {
      "cell_type": "code",
      "execution_count": 130,
      "id": "ghKI4PGjpMmw",
      "metadata": {
        "id": "ghKI4PGjpMmw"
      },
      "outputs": [],
      "source": [
        "# load the tokenizer and preprocessor\n",
        "model_name = 'aubmindlab/bert-base-arabertv02'\n",
        "tokenizer =  AutoTokenizer.from_pretrained(model_name)\n",
        "preprocessor = ArabertPreprocessor(model_name=model_name)"
      ]
    },
    {
      "cell_type": "markdown",
      "id": "EfCLqHFVqF9E",
      "metadata": {
        "id": "EfCLqHFVqF9E"
      },
      "source": [
        "Prepare the data for the **Model**"
      ]
    },
    {
      "cell_type": "code",
      "execution_count": 131,
      "id": "OqKmK8tYBn4j",
      "metadata": {
        "id": "OqKmK8tYBn4j"
      },
      "outputs": [],
      "source": [
        "# drop the gender column as it wouldn't be useful anymore\n",
        "full_names = full_names.drop(columns=['Gender'])\n",
        "# divide data into x that represents features and y that represent target\n",
        "X = full_names.drop(columns=['Label'])\n",
        "y = full_names[['Label']]\n",
        "# divide the data into train and test\n",
        "X_train, X_test, y_train, y_test = train_test_split(X, y, test_size=0.15, random_state=42)"
      ]
    },
    {
      "cell_type": "code",
      "execution_count": 132,
      "id": "thUrxgrSZ-aa",
      "metadata": {
        "id": "thUrxgrSZ-aa"
      },
      "outputs": [],
      "source": [
        "# reset index for all data\n",
        "X_train = X_train.reset_index(drop=True)\n",
        "y_train = y_train.reset_index(drop=True)\n",
        "X_test = X_test.reset_index(drop=True)\n",
        "y_test = y_test.reset_index(drop=True)"
      ]
    },
    {
      "cell_type": "markdown",
      "id": "r3jU7gTzxJsx",
      "metadata": {
        "id": "r3jU7gTzxJsx"
      },
      "source": [
        "This method apply all transofrmation and preprocessing for the names data, as it converts it to **Tokens** and convert tokens into **IDs** and **Encodes** the labels of the data by converting them to **One Hot Encoding** return to us the data ready to be fed into my own Deep Learning Model"
      ]
    },
    {
      "cell_type": "code",
      "execution_count": 135,
      "id": "Or4BdsN7wsy9",
      "metadata": {
        "id": "Or4BdsN7wsy9"
      },
      "outputs": [],
      "source": [
        "def transform_data(X,y):\n",
        "\n",
        "  \"\"\"\n",
        "  Transforms input data for use in a model.\n",
        "\n",
        "  Parameters:\n",
        "  - X: A Pandas DataFrame containing the input data. The DataFrame must have the following structure:\n",
        "  {\n",
        "    'Name': list of names (strings)\n",
        "  }\n",
        "  - y: (Optional) A Pandas DataFrame containing the labels for the input data. The DataFrame must have the following structure:\n",
        "  {\n",
        "    'Label': list of labels (strings)\n",
        "  }\n",
        "\n",
        "  Returns:\n",
        "  - If `y` is not provided, returns the transformed `X` data as a NumPy array.\n",
        "  - If `y` is provided, returns a tuple containing the transformed `X` data as a NumPy array and the transformed `y` data as a Pandas DataFrame. The DataFrame has the following structure:\n",
        "  {\n",
        "    'Correct': list of correct labels (0s and 1s),\n",
        "    'Incorrect': list of incorrect labels (0s and 1s)\n",
        "  }\n",
        "  \"\"\"\n",
        "  if not isinstance(X, pd.DataFrame):\n",
        "    X = {'Name': [X]}\n",
        "    X = pd.DataFrame(X, index=[0], columns=['Name'])\n",
        "  # apply preprocessor on the X data\n",
        "  X = X['Name'].apply(lambda x: preprocessor.preprocess(x))\n",
        "  # convert back to dataframe and reset_index\n",
        "  X = pd.DataFrame(X,columns=['Name'])\n",
        "  # tokenize X data\n",
        "  X = [tokenizer.tokenize(name ,max_length=3, truncation=True) for name in X['Name'].tolist()]\n",
        "  # convert tokens in X to ids\n",
        "  X = [tokenizer.convert_tokens_to_ids(name) for name in X]\n",
        "  # convert into numpy array\n",
        "  X = np.array(X)\n",
        "  if y is None:\n",
        "    return X \n",
        "  else:\n",
        "    # encode labels in y data\n",
        "    y = pd.get_dummies(y['Label'])\n",
        "    return X, y"
      ]
    },
    {
      "cell_type": "code",
      "execution_count": 136,
      "id": "GZPoKRq1N_AV",
      "metadata": {
        "id": "GZPoKRq1N_AV"
      },
      "outputs": [],
      "source": [
        "# transofrm X_train and y_train data\n",
        "X_train , y_train = transform_data(X_train,y_train)\n",
        "# transform X_test and y_test data\n",
        "X_test , y_test = transform_data(X_test,y_test)"
      ]
    },
    {
      "cell_type": "markdown",
      "id": "uTmgtGeJ2cF6",
      "metadata": {
        "id": "uTmgtGeJ2cF6"
      },
      "source": [
        "Define my own **Model Architecture**"
      ]
    },
    {
      "cell_type": "code",
      "execution_count": 137,
      "id": "dydAE2coF46L",
      "metadata": {
        "id": "dydAE2coF46L"
      },
      "outputs": [],
      "source": [
        "# hyperparameters\n",
        "VOCAB_SIZE = 60000\n",
        "MAX_LEN = 3\n",
        "EMBEDDING_DIM = 16\n",
        "HIDDEN_SIZE = 32\n",
        "NUM_CLASSES = 2\n",
        "BATCH_SIZE = 128\n",
        "EPOCHS = 10\n",
        "VAL_SLPIT = 0.15\n",
        "OPTIMIZER = Adam()\n",
        "LOSS = BinaryCrossentropy()\n",
        "METRICS = ['accuracy']"
      ]
    },
    {
      "cell_type": "code",
      "execution_count": 138,
      "id": "IfgQMFn0y4Ez",
      "metadata": {
        "id": "IfgQMFn0y4Ez"
      },
      "outputs": [],
      "source": [
        "# architecture\n",
        "model = Sequential([\n",
        "    Embedding(input_dim= VOCAB_SIZE, output_dim= EMBEDDING_DIM, input_length= MAX_LEN),\n",
        "    GlobalAveragePooling1D(),\n",
        "    Dense(units= HIDDEN_SIZE, activation = 'relu'),\n",
        "    Dense(units= NUM_CLASSES, activation='softmax')\n",
        "])"
      ]
    },
    {
      "cell_type": "code",
      "execution_count": 139,
      "id": "EofZMm8wzvpO",
      "metadata": {
        "colab": {
          "base_uri": "https://localhost:8080/"
        },
        "id": "EofZMm8wzvpO",
        "outputId": "3ffbc8e7-6c5e-4c1f-9666-495ebd480583"
      },
      "outputs": [
        {
          "output_type": "stream",
          "name": "stdout",
          "text": [
            "Model: \"sequential\"\n",
            "_________________________________________________________________\n",
            " Layer (type)                Output Shape              Param #   \n",
            "=================================================================\n",
            " embedding (Embedding)       (None, 3, 16)             960000    \n",
            "                                                                 \n",
            " global_average_pooling1d (G  (None, 16)               0         \n",
            " lobalAveragePooling1D)                                          \n",
            "                                                                 \n",
            " dense (Dense)               (None, 32)                544       \n",
            "                                                                 \n",
            " dense_1 (Dense)             (None, 2)                 66        \n",
            "                                                                 \n",
            "=================================================================\n",
            "Total params: 960,610\n",
            "Trainable params: 960,610\n",
            "Non-trainable params: 0\n",
            "_________________________________________________________________\n"
          ]
        }
      ],
      "source": [
        "model.summary()"
      ]
    },
    {
      "cell_type": "code",
      "execution_count": 140,
      "id": "e0V8wgrn4jI-",
      "metadata": {
        "colab": {
          "base_uri": "https://localhost:8080/"
        },
        "id": "e0V8wgrn4jI-",
        "outputId": "4edb87ad-b183-42e0-f502-a9a0be2c5202"
      },
      "outputs": [
        {
          "output_type": "stream",
          "name": "stdout",
          "text": [
            "Epoch 1/10\n",
            "2932/2932 [==============================] - 14s 4ms/step - loss: 0.1034 - accuracy: 0.9638 - val_loss: 0.0577 - val_accuracy: 0.9802\n",
            "Epoch 2/10\n",
            "2932/2932 [==============================] - 11s 4ms/step - loss: 0.0564 - accuracy: 0.9807 - val_loss: 0.0539 - val_accuracy: 0.9817\n",
            "Epoch 3/10\n",
            "2932/2932 [==============================] - 15s 5ms/step - loss: 0.0525 - accuracy: 0.9818 - val_loss: 0.0501 - val_accuracy: 0.9821\n",
            "Epoch 4/10\n",
            "2932/2932 [==============================] - 14s 5ms/step - loss: 0.0447 - accuracy: 0.9843 - val_loss: 0.0417 - val_accuracy: 0.9859\n",
            "Epoch 5/10\n",
            "2932/2932 [==============================] - 11s 4ms/step - loss: 0.0378 - accuracy: 0.9872 - val_loss: 0.0378 - val_accuracy: 0.9872\n",
            "Epoch 6/10\n",
            "2932/2932 [==============================] - 11s 4ms/step - loss: 0.0348 - accuracy: 0.9884 - val_loss: 0.0375 - val_accuracy: 0.9877\n",
            "Epoch 7/10\n",
            "2932/2932 [==============================] - 12s 4ms/step - loss: 0.0327 - accuracy: 0.9892 - val_loss: 0.0350 - val_accuracy: 0.9886\n",
            "Epoch 8/10\n",
            "2932/2932 [==============================] - 12s 4ms/step - loss: 0.0311 - accuracy: 0.9899 - val_loss: 0.0349 - val_accuracy: 0.9892\n",
            "Epoch 9/10\n",
            "2932/2932 [==============================] - 11s 4ms/step - loss: 0.0297 - accuracy: 0.9904 - val_loss: 0.0331 - val_accuracy: 0.9898\n",
            "Epoch 10/10\n",
            "2932/2932 [==============================] - 11s 4ms/step - loss: 0.0278 - accuracy: 0.9911 - val_loss: 0.0315 - val_accuracy: 0.9902\n"
          ]
        }
      ],
      "source": [
        "# compile the model\n",
        "model.compile(optimizer = OPTIMIZER, loss = LOSS,metrics= METRICS)\n",
        "# Training...\n",
        "history = model.fit(x= X_train,y= y_train, batch_size= BATCH_SIZE, epochs = EPOCHS, validation_split= VAL_SLPIT)"
      ]
    },
    {
      "cell_type": "code",
      "execution_count": 141,
      "id": "trkHFmmACrcQ",
      "metadata": {
        "id": "trkHFmmACrcQ"
      },
      "outputs": [],
      "source": [
        "def plot_curves(history):\n",
        "    \"\"\"\n",
        "    Plots the loss and accuracy curves for a model.\n",
        "\n",
        "    Parameters:\n",
        "    - history: A history object returned by a model during training.\n",
        "\n",
        "    Returns:\n",
        "    - None. The function displays the plot using Matplotlib.\n",
        "    \"\"\"\n",
        "    title_loss = 'Model loss per epoch '\n",
        "    title_accuracy = 'Model accuracy per epoch '\n",
        "    fig , axis = plt.subplots(nrows=1, ncols=2)\n",
        "    # dimensions of figure\n",
        "    fig.set_figheight(6)\n",
        "    fig.set_figwidth(14)\n",
        "    # loss\n",
        "    loss = history.history['loss']\n",
        "    val_loss = history.history['val_loss']\n",
        "    # accuracy\n",
        "    accuracy = history.history['accuracy']\n",
        "    val_accuracy = history.history['val_accuracy']\n",
        "    epoch = np.arange(150)\n",
        "    # loss curve\n",
        "    axis[0].plot(loss,label='Train')\n",
        "    axis[0].plot(val_loss,label='Validation')\n",
        "    axis[0].set_xlabel('epoch')\n",
        "    axis[0].set_ylabel('loss')\n",
        "    axis[0].set_title(title_loss)\n",
        "    axis[0].legend()\n",
        "    # accuracy curve\n",
        "    axis[1].plot(accuracy, label='Train')\n",
        "    axis[1].plot(val_accuracy, label='Validation')\n",
        "    axis[1].set_xlabel('epoch')\n",
        "    axis[1].set_ylabel('accuracy')\n",
        "    axis[1].set_title(title_accuracy)\n",
        "    axis[1].legend()\n"
      ]
    },
    {
      "cell_type": "code",
      "execution_count": 142,
      "id": "A_XgDP_dIFAJ",
      "metadata": {
        "colab": {
          "base_uri": "https://localhost:8080/",
          "height": 404
        },
        "id": "A_XgDP_dIFAJ",
        "outputId": "20462efb-ed9d-43b2-d646-4da0b21ae161"
      },
      "outputs": [
        {
          "output_type": "display_data",
          "data": {
            "text/plain": [
              "<Figure size 1008x432 with 2 Axes>"
            ],
            "image/png": "[encoded data removed]"
          },
          "metadata": {
            "needs_background": "light"
          }
        }
      ],
      "source": [
        "plot_curves(history)"
      ]
    },
    {
      "cell_type": "markdown",
      "id": "dFtLl3Z0LQpa",
      "metadata": {
        "id": "dFtLl3Z0LQpa"
      },
      "source": [
        "Perform predictions and calculate the **accuarcy** on the Test Data to determine the performance of the model"
      ]
    },
    {
      "cell_type": "code",
      "execution_count": 143,
      "id": "ZUhciTKfJllC",
      "metadata": {
        "id": "ZUhciTKfJllC"
      },
      "outputs": [],
      "source": [
        "def predictions(model, X_test):\n",
        "    \"\"\"\n",
        "    Makes predictions using a model.\n",
        "\n",
        "    Parameters:\n",
        "    - model: A model object.\n",
        "    - X_test: A NumPy array containing the input data to use for predictions.\n",
        "\n",
        "    Returns:\n",
        "    - A dictionary containing the predictions. The dictionary has the following structure:\n",
        "    {\n",
        "      'Correct': list of correct predictions (0s and 1s),\n",
        "      'Incorrect': list of incorrect predictions (0s and 1s)\n",
        "    }\n",
        "    \"\"\"\n",
        "    # perform predictions\n",
        "    pred = model.predict(X_test)\n",
        "    # this variable means that the model predicts the full name is correct and its confidence is higher than \n",
        "    # the confidence of the full name being incorrect\n",
        "    correct_pred = (pred[:, 0] > pred[:, 1]).astype(int)\n",
        "    # this variable means that the model predicts the full name is incorrect and its confidence is higher than \n",
        "    # the confidence of the full name being correct\n",
        "    incorrect_pred = (pred[:, 1] > pred[:, 0]).astype(int)\n",
        "    # put predictions into a dictionary under two keys correct and incorrect\n",
        "    return {'Correct': correct_pred, 'Incorrect': incorrect_pred}"
      ]
    },
    {
      "cell_type": "code",
      "execution_count": 144,
      "id": "NB92AOMfJybc",
      "metadata": {
        "colab": {
          "base_uri": "https://localhost:8080/"
        },
        "id": "NB92AOMfJybc",
        "outputId": "2e25aaf5-484b-4add-bd4c-ae544ac1e347"
      },
      "outputs": [
        {
          "output_type": "stream",
          "name": "stdout",
          "text": [
            "2435/2435 [==============================] - 3s 1ms/step\n",
            "The accuracy of the model on Test Data is: 0.9906032169860974\n"
          ]
        }
      ],
      "source": [
        "y_pred = predictions(model, X_test)\n",
        "# convert predictions to dataframe\n",
        "y_pred = pd.DataFrame(y_pred, columns=['Correct','Incorrect'])\n",
        "accuracy = accuracy_score(y_test, y_pred)\n",
        "print('The accuracy of the model on Test Data is:', accuracy)"
      ]
    },
    {
      "cell_type": "markdown",
      "id": "nuXzQKqzOe4u",
      "metadata": {
        "id": "nuXzQKqzOe4u"
      },
      "source": [
        "Saving the weights of the Model "
      ]
    },
    {
      "cell_type": "code",
      "execution_count": 145,
      "id": "5AOi-VrcL5bt",
      "metadata": {
        "id": "5AOi-VrcL5bt"
      },
      "outputs": [],
      "source": [
        "saved_model_name = 'drive/MyDrive/name_verification_model.h5'\n",
        "model.save_weights(saved_model_name,save_format='h5')"
      ]
    },
    {
      "cell_type": "code",
      "source": [],
      "metadata": {
        "id": "ojMAiZAtyHdy"
      },
      "id": "ojMAiZAtyHdy",
      "execution_count": null,
      "outputs": []
    }
  ],
  "metadata": {
    "colab": {
      "provenance": [],
      "toc_visible": true
    },
    "kernelspec": {
      "display_name": "Python 3",
      "language": "python",
      "name": "python3"
    },
    "language_info": {
      "codemirror_mode": {
        "name": "ipython",
        "version": 3
      },
      "file_extension": ".py",
      "mimetype": "text/x-python",
      "name": "python",
      "nbconvert_exporter": "python",
      "pygments_lexer": "ipython3",
      "version": "3.8.8"
    },
    "accelerator": "GPU",
    "gpuClass": "standard"
  },
  "nbformat": 4,
  "nbformat_minor": 5
}